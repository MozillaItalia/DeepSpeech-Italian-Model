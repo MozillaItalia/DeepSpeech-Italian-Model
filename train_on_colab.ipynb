{
  "nbformat": 4,
  "nbformat_minor": 0,
  "metadata": {
    "colab": {
      "name": "Deepspeech.ipynb",
      "provenance": []
    },
    "kernelspec": {
      "name": "python3",
      "display_name": "Python 3"
    },
    "accelerator": "GPU"
  },
  "cells": [
    {
      "cell_type": "code",
      "metadata": {
        "id": "YLmOq1SQSTqA",
        "colab_type": "code",
        "outputId": "7476a148-66e7-4257-bde0-2906053f7629",
        "colab": {
          "base_uri": "https://localhost:8080/",
          "height": 34
        }
      },
      "source": [
        "H = %env HOME\n",
        "%cd $H"
      ],
      "execution_count": 1,
      "outputs": [
        {
          "output_type": "stream",
          "text": [
            "/root\n"
          ],
          "name": "stdout"
        }
      ]
    },
    {
      "cell_type": "code",
      "metadata": {
        "id": "sF1pB2J-RvTp",
        "colab_type": "code",
        "outputId": "5cd21967-37fe-4bce-c927-de36f40bbf63",
        "colab": {
          "base_uri": "https://localhost:8080/",
          "height": 139
        }
      },
      "source": [
        "!git clone https://github.com/MozillaItalia/DeepSpeech-Italian-Model.git"
      ],
      "execution_count": 2,
      "outputs": [
        {
          "output_type": "stream",
          "text": [
            "Cloning into 'DeepSpeech-Italian-Model'...\n",
            "remote: Enumerating objects: 10, done.\u001b[K\n",
            "remote: Counting objects: 100% (10/10), done.\u001b[K\n",
            "remote: Compressing objects: 100% (7/7), done.\u001b[K\n",
            "remote: Total 2916 (delta 3), reused 8 (delta 3), pack-reused 2906\u001b[K\n",
            "Receiving objects: 100% (2916/2916), 38.89 MiB | 8.94 MiB/s, done.\n",
            "Resolving deltas: 100% (181/181), done.\n"
          ],
          "name": "stdout"
        }
      ]
    },
    {
      "cell_type": "code",
      "metadata": {
        "id": "NQL0SRls65R2",
        "colab_type": "code",
        "outputId": "f0ef9a7e-4f86-4011-ae11-1c9669987b01",
        "colab": {
          "base_uri": "https://localhost:8080/",
          "height": 208
        }
      },
      "source": [
        "!wget -O - https://bitbucket.org/eigen/eigen/get/3.2.8.tar.bz2 | tar xj"
      ],
      "execution_count": 3,
      "outputs": [
        {
          "output_type": "stream",
          "text": [
            "--2020-04-22 12:50:44--  https://bitbucket.org/eigen/eigen/get/3.2.8.tar.bz2\n",
            "Resolving bitbucket.org (bitbucket.org)... 18.205.93.0, 18.205.93.1, 18.205.93.2, ...\n",
            "Connecting to bitbucket.org (bitbucket.org)|18.205.93.0|:443... connected.\n",
            "HTTP request sent, awaiting response... 200 OK\n",
            "Length: 1161201 (1.1M) [application/x-bzip-compressed-tar]\n",
            "Saving to: ‘STDOUT’\n",
            "\n",
            "-                   100%[===================>]   1.11M  1.02MB/s    in 1.1s    \n",
            "\n",
            "2020-04-22 12:50:46 (1.02 MB/s) - written to stdout [1161201/1161201]\n",
            "\n"
          ],
          "name": "stdout"
        }
      ]
    },
    {
      "cell_type": "code",
      "metadata": {
        "id": "AHYaBpBL7Nsb",
        "colab_type": "code",
        "outputId": "97c68d50-5296-4845-81ff-1ecf167b862a",
        "colab": {
          "base_uri": "https://localhost:8080/",
          "height": 347
        }
      },
      "source": [
        "!git clone https://github.com/kpu/kenlm.git && cd kenlm && git checkout 2ad7cb56924cd3c6811c604973f592cb5ef604eb \\\n",
        "&& mkdir -p build"
      ],
      "execution_count": 4,
      "outputs": [
        {
          "output_type": "stream",
          "text": [
            "Cloning into 'kenlm'...\n",
            "remote: Enumerating objects: 72, done.\u001b[K\n",
            "remote: Counting objects: 100% (72/72), done.\u001b[K\n",
            "remote: Compressing objects: 100% (59/59), done.\u001b[K\n",
            "remote: Total 13396 (delta 32), reused 37 (delta 13), pack-reused 13324\u001b[K\n",
            "Receiving objects: 100% (13396/13396), 5.42 MiB | 4.18 MiB/s, done.\n",
            "Resolving deltas: 100% (7677/7677), done.\n",
            "Note: checking out '2ad7cb56924cd3c6811c604973f592cb5ef604eb'.\n",
            "\n",
            "You are in 'detached HEAD' state. You can look around, make experimental\n",
            "changes and commit them, and you can discard any commits you make in this\n",
            "state without impacting any branches by performing another checkout.\n",
            "\n",
            "If you want to create a new branch to retain commits you create, you may\n",
            "do so (now or later) by using -b with the checkout command again. Example:\n",
            "\n",
            "  git checkout -b <new-branch-name>\n",
            "\n",
            "HEAD is now at 2ad7cb5 Merge pull request #213 from lpmi-13/typofix\n"
          ],
          "name": "stdout"
        }
      ]
    },
    {
      "cell_type": "code",
      "metadata": {
        "id": "BHMfQ9_OTzhQ",
        "colab_type": "code",
        "outputId": "ea7abb3a-60f5-4a24-fa11-015e20e211ec",
        "colab": {
          "base_uri": "https://localhost:8080/",
          "height": 52
        }
      },
      "source": [
        "%cd kenlm/build\n",
        "%set_env EIGEN3_ROOT=/content/DeepSpeech-Italian-Model/DeepSpeech/eigen-eigen-07105f7124f9"
      ],
      "execution_count": 5,
      "outputs": [
        {
          "output_type": "stream",
          "text": [
            "/root/kenlm/build\n",
            "env: EIGEN3_ROOT=/content/DeepSpeech-Italian-Model/DeepSpeech/eigen-eigen-07105f7124f9\n"
          ],
          "name": "stdout"
        }
      ]
    },
    {
      "cell_type": "code",
      "metadata": {
        "id": "yKEFnQfJdIDL",
        "colab_type": "code",
        "outputId": "db0afa08-0eb3-4a6a-de8d-c9acad4d5724",
        "colab": {
          "base_uri": "https://localhost:8080/",
          "height": 1000
        }
      },
      "source": [
        "!cmake .. && make -j"
      ],
      "execution_count": 6,
      "outputs": [
        {
          "output_type": "stream",
          "text": [
            "-- The C compiler identification is GNU 7.5.0\n",
            "-- The CXX compiler identification is GNU 7.5.0\n",
            "-- Check for working C compiler: /usr/bin/cc\n",
            "-- Check for working C compiler: /usr/bin/cc -- works\n",
            "-- Detecting C compiler ABI info\n",
            "-- Detecting C compiler ABI info - done\n",
            "-- Detecting C compile features\n",
            "-- Detecting C compile features - done\n",
            "-- Check for working CXX compiler: /usr/bin/c++\n",
            "-- Check for working CXX compiler: /usr/bin/c++ -- works\n",
            "-- Detecting CXX compiler ABI info\n",
            "-- Detecting CXX compiler ABI info - done\n",
            "-- Detecting CXX compile features\n",
            "-- Detecting CXX compile features - done\n",
            "-- Looking for pthread.h\n",
            "-- Looking for pthread.h - found\n",
            "-- Looking for pthread_create\n",
            "-- Looking for pthread_create - not found\n",
            "-- Looking for pthread_create in pthreads\n",
            "-- Looking for pthread_create in pthreads - not found\n",
            "-- Looking for pthread_create in pthread\n",
            "-- Looking for pthread_create in pthread - found\n",
            "-- Found Threads: TRUE  \n",
            "-- Boost version: 1.65.1\n",
            "-- Found the following Boost libraries:\n",
            "--   program_options\n",
            "--   system\n",
            "--   thread\n",
            "--   unit_test_framework\n",
            "--   chrono\n",
            "--   date_time\n",
            "--   atomic\n",
            "-- Found ZLIB: /usr/lib/x86_64-linux-gnu/libz.so (found version \"1.2.11\") \n",
            "-- Found BZip2: /usr/lib/x86_64-linux-gnu/libbz2.so (found version \"1.0.6\") \n",
            "-- Looking for BZ2_bzCompressInit\n",
            "-- Looking for BZ2_bzCompressInit - found\n",
            "-- Looking for lzma_auto_decoder in /usr/lib/x86_64-linux-gnu/liblzma.so\n",
            "-- Looking for lzma_auto_decoder in /usr/lib/x86_64-linux-gnu/liblzma.so - found\n",
            "-- Looking for lzma_easy_encoder in /usr/lib/x86_64-linux-gnu/liblzma.so\n",
            "-- Looking for lzma_easy_encoder in /usr/lib/x86_64-linux-gnu/liblzma.so - found\n",
            "-- Looking for lzma_lzma_preset in /usr/lib/x86_64-linux-gnu/liblzma.so\n",
            "-- Looking for lzma_lzma_preset in /usr/lib/x86_64-linux-gnu/liblzma.so - found\n",
            "-- Found LibLZMA: /usr/include (found version \"5.2.2\") \n",
            "-- Could NOT find Eigen3 (missing: EIGEN3_INCLUDE_DIR EIGEN3_VERSION_OK) (Required is at least version \"2.91.0\")\n",
            "CMake Warning at lm/interpolate/CMakeLists.txt:65 (message):\n",
            "  Not building interpolation.  Eigen3 was not found.\n",
            "\n",
            "\n",
            "-- To install Eigen3 in your home directory, copy paste this:\n",
            "export EIGEN3_ROOT=$HOME/eigen-eigen-07105f7124f9\n",
            "(cd $HOME; wget -O - https://bitbucket.org/eigen/eigen/get/3.2.8.tar.bz2 |tar xj)\n",
            "rm CMakeCache.txt\n",
            "\n",
            "-- Configuring done\n",
            "-- Generating done\n",
            "-- Build files have been written to: /root/kenlm/build\n",
            "\u001b[35m\u001b[1mScanning dependencies of target kenlm_filter\u001b[0m\n",
            "\u001b[35m\u001b[1mScanning dependencies of target kenlm_util\u001b[0m\n",
            "[  0%] \u001b[32mBuilding CXX object lm/filter/CMakeFiles/kenlm_filter.dir/arpa_io.cc.o\u001b[0m\n",
            "[  1%] \u001b[32mBuilding CXX object lm/filter/CMakeFiles/kenlm_filter.dir/phrase.cc.o\u001b[0m\n",
            "[  2%] \u001b[32mBuilding CXX object lm/filter/CMakeFiles/kenlm_filter.dir/vocab.cc.o\u001b[0m\n",
            "[  2%] \u001b[32mBuilding CXX object util/CMakeFiles/kenlm_util.dir/double-conversion/bignum.cc.o\u001b[0m\n",
            "[  4%] \u001b[32mBuilding CXX object util/CMakeFiles/kenlm_util.dir/double-conversion/diy-fp.cc.o\u001b[0m\n",
            "[  4%] \u001b[32mBuilding CXX object util/CMakeFiles/kenlm_util.dir/double-conversion/cached-powers.cc.o\u001b[0m\n",
            "[  5%] \u001b[32mBuilding CXX object util/CMakeFiles/kenlm_util.dir/double-conversion/fast-dtoa.cc.o\u001b[0m\n",
            "[  5%] \u001b[32mBuilding CXX object util/CMakeFiles/kenlm_util.dir/double-conversion/strtod.cc.o\u001b[0m\n",
            "[  6%] \u001b[32mBuilding CXX object util/CMakeFiles/kenlm_util.dir/double-conversion/double-conversion.cc.o\u001b[0m\n",
            "[  7%] \u001b[32mBuilding CXX object util/CMakeFiles/kenlm_util.dir/double-conversion/bignum-dtoa.cc.o\u001b[0m\n",
            "[  8%] \u001b[32mBuilding CXX object util/CMakeFiles/kenlm_util.dir/stream/io.cc.o\u001b[0m\n",
            "[  9%] \u001b[32mBuilding CXX object util/CMakeFiles/kenlm_util.dir/double-conversion/fixed-dtoa.cc.o\u001b[0m\n",
            "[ 10%] \u001b[32mBuilding CXX object util/CMakeFiles/kenlm_util.dir/stream/count_records.cc.o\u001b[0m\n",
            "[ 11%] \u001b[32mBuilding CXX object util/CMakeFiles/kenlm_util.dir/stream/line_input.cc.o\u001b[0m\n",
            "[ 11%] \u001b[32mBuilding CXX object util/CMakeFiles/kenlm_util.dir/stream/multi_progress.cc.o\u001b[0m\n",
            "[ 12%] \u001b[32mBuilding CXX object util/CMakeFiles/kenlm_util.dir/stream/rewindable_stream.cc.o\u001b[0m\n",
            "[ 14%] \u001b[32mBuilding CXX object util/CMakeFiles/kenlm_util.dir/stream/chain.cc.o\u001b[0m\n",
            "[ 15%] \u001b[32mBuilding CXX object util/CMakeFiles/kenlm_util.dir/exception.cc.o\u001b[0m\n",
            "[ 13%] \u001b[32mBuilding CXX object util/CMakeFiles/kenlm_util.dir/bit_packing.cc.o\u001b[0m\n",
            "[ 16%] \u001b[32mBuilding CXX object util/CMakeFiles/kenlm_util.dir/ersatz_progress.cc.o\u001b[0m\n",
            "[ 16%] \u001b[32mBuilding CXX object util/CMakeFiles/kenlm_util.dir/file.cc.o\u001b[0m\n",
            "[ 19%] \u001b[32mBuilding CXX object util/CMakeFiles/kenlm_util.dir/file_piece.cc.o\u001b[0m\n",
            "[ 19%] \u001b[32mBuilding CXX object util/CMakeFiles/kenlm_util.dir/integer_to_string.cc.o\u001b[0m\n",
            "[ 18%] \u001b[32mBuilding CXX object util/CMakeFiles/kenlm_util.dir/float_to_string.cc.o\u001b[0m\n",
            "[ 19%] \u001b[32mBuilding CXX object util/CMakeFiles/kenlm_util.dir/murmur_hash.cc.o\u001b[0m\n",
            "[ 20%] \u001b[32mBuilding CXX object util/CMakeFiles/kenlm_util.dir/parallel_read.cc.o\u001b[0m\n",
            "[ 21%] \u001b[32mBuilding CXX object util/CMakeFiles/kenlm_util.dir/mmap.cc.o\u001b[0m\n",
            "[ 22%] \u001b[32mBuilding CXX object util/CMakeFiles/kenlm_util.dir/pool.cc.o\u001b[0m\n",
            "[ 23%] \u001b[32mBuilding CXX object util/CMakeFiles/kenlm_util.dir/read_compressed.cc.o\u001b[0m\n",
            "[ 24%] \u001b[32mBuilding CXX object util/CMakeFiles/kenlm_util.dir/spaces.cc.o\u001b[0m\n",
            "[ 25%] \u001b[32mBuilding CXX object util/CMakeFiles/kenlm_util.dir/string_piece.cc.o\u001b[0m\n",
            "[ 25%] \u001b[32mBuilding CXX object util/CMakeFiles/kenlm_util.dir/scoped.cc.o\u001b[0m\n",
            "[ 26%] \u001b[32mBuilding CXX object util/CMakeFiles/kenlm_util.dir/usage.cc.o\u001b[0m\n",
            "[ 27%] \u001b[32m\u001b[1mLinking CXX static library ../../lib/libkenlm_filter.a\u001b[0m\n",
            "[ 27%] Built target kenlm_filter\n",
            "[ 28%] \u001b[32m\u001b[1mLinking CXX static library ../lib/libkenlm_util.a\u001b[0m\n",
            "[ 28%] Built target kenlm_util\n",
            "\u001b[35m\u001b[1mScanning dependencies of target sorted_uniform_test\u001b[0m\n",
            "\u001b[35m\u001b[1mScanning dependencies of target read_compressed_test\u001b[0m\n",
            "\u001b[35m\u001b[1mScanning dependencies of target tokenize_piece_test\u001b[0m\n",
            "\u001b[35m\u001b[1mScanning dependencies of target joint_sort_test\u001b[0m\n",
            "\u001b[35m\u001b[1mScanning dependencies of target file_piece_test\u001b[0m\n",
            "\u001b[35m\u001b[1mScanning dependencies of target io_test\u001b[0m\n",
            "\u001b[35m\u001b[1mScanning dependencies of target integer_to_string_test\u001b[0m\n",
            "\u001b[35m\u001b[1mScanning dependencies of target probing_hash_table_test\u001b[0m\n",
            "\u001b[35m\u001b[1mScanning dependencies of target pcqueue_test\u001b[0m\n",
            "\u001b[35m\u001b[1mScanning dependencies of target probing_hash_table_benchmark\u001b[0m\n",
            "\u001b[35m\u001b[1mScanning dependencies of target rewindable_stream_test\u001b[0m\n",
            "\u001b[35m\u001b[1mScanning dependencies of target sized_iterator_test\u001b[0m\n",
            "\u001b[35m\u001b[1mScanning dependencies of target kenlm\u001b[0m\n",
            "\u001b[35m\u001b[1mScanning dependencies of target multi_intersection_test\u001b[0m\n",
            "\u001b[35m\u001b[1mScanning dependencies of target string_stream_test\u001b[0m\n",
            "\u001b[35m\u001b[1mScanning dependencies of target stream_test\u001b[0m\n",
            "\u001b[35m\u001b[1mScanning dependencies of target bit_packing_test\u001b[0m\n",
            "\u001b[35m\u001b[1mScanning dependencies of target sort_test\u001b[0m\n",
            "[ 29%] \u001b[32mBuilding CXX object util/CMakeFiles/sorted_uniform_test.dir/sorted_uniform_test.cc.o\u001b[0m\n",
            "[ 29%] \u001b[32mBuilding CXX object util/CMakeFiles/joint_sort_test.dir/joint_sort_test.cc.o\u001b[0m\n",
            "[ 29%] \u001b[32mBuilding CXX object util/CMakeFiles/read_compressed_test.dir/read_compressed_test.cc.o\u001b[0m\n",
            "[ 30%] \u001b[32mBuilding CXX object util/CMakeFiles/integer_to_string_test.dir/integer_to_string_test.cc.o\u001b[0m\n",
            "[ 31%] \u001b[32mBuilding CXX object util/CMakeFiles/sized_iterator_test.dir/sized_iterator_test.cc.o\u001b[0m\n",
            "[ 32%] \u001b[32mBuilding CXX object util/CMakeFiles/tokenize_piece_test.dir/tokenize_piece_test.cc.o\u001b[0m\n",
            "[ 32%] \u001b[32mBuilding CXX object util/CMakeFiles/pcqueue_test.dir/pcqueue_test.cc.o\u001b[0m\n",
            "[ 33%] \u001b[32mBuilding CXX object util/stream/CMakeFiles/io_test.dir/io_test.cc.o\u001b[0m\n",
            "[ 33%] \u001b[32mBuilding CXX object util/CMakeFiles/file_piece_test.dir/file_piece_test.cc.o\u001b[0m\n",
            "[ 35%] \u001b[32mBuilding CXX object util/CMakeFiles/probing_hash_table_test.dir/probing_hash_table_test.cc.o\u001b[0m\n",
            "[ 34%] \u001b[32mBuilding CXX object util/CMakeFiles/probing_hash_table_benchmark.dir/probing_hash_table_benchmark_main.cc.o\u001b[0m\n",
            "[ 36%] \u001b[32mBuilding CXX object util/CMakeFiles/multi_intersection_test.dir/multi_intersection_test.cc.o\u001b[0m\n",
            "[ 37%] \u001b[32mBuilding CXX object util/CMakeFiles/string_stream_test.dir/string_stream_test.cc.o\u001b[0m\n",
            "[ 38%] \u001b[32mBuilding CXX object util/stream/CMakeFiles/rewindable_stream_test.dir/rewindable_stream_test.cc.o\u001b[0m\n",
            "[ 39%] \u001b[32mBuilding CXX object util/CMakeFiles/bit_packing_test.dir/bit_packing_test.cc.o\u001b[0m\n",
            "[ 39%] \u001b[32mBuilding CXX object util/stream/CMakeFiles/stream_test.dir/stream_test.cc.o\u001b[0m\n",
            "[ 40%] \u001b[32mBuilding CXX object util/stream/CMakeFiles/sort_test.dir/sort_test.cc.o\u001b[0m\n",
            "[ 41%] \u001b[32mBuilding CXX object lm/CMakeFiles/kenlm.dir/bhiksha.cc.o\u001b[0m\n",
            "[ 42%] \u001b[32mBuilding CXX object lm/CMakeFiles/kenlm.dir/binary_format.cc.o\u001b[0m\n",
            "[ 43%] \u001b[32mBuilding CXX object lm/CMakeFiles/kenlm.dir/config.cc.o\u001b[0m\n",
            "[ 43%] \u001b[32mBuilding CXX object lm/CMakeFiles/kenlm.dir/lm_exception.cc.o\u001b[0m\n",
            "[ 44%] \u001b[32mBuilding CXX object lm/CMakeFiles/kenlm.dir/model.cc.o\u001b[0m\n",
            "[ 46%] \u001b[32mBuilding CXX object lm/CMakeFiles/kenlm.dir/search_hashed.cc.o\u001b[0m\n",
            "[ 47%] \u001b[32mBuilding CXX object lm/CMakeFiles/kenlm.dir/quantize.cc.o\u001b[0m\n",
            "[ 47%] \u001b[32mBuilding CXX object lm/CMakeFiles/kenlm.dir/sizes.cc.o\u001b[0m\n",
            "[ 48%] \u001b[32mBuilding CXX object lm/CMakeFiles/kenlm.dir/search_trie.cc.o\u001b[0m\n",
            "[ 49%] \u001b[32mBuilding CXX object lm/CMakeFiles/kenlm.dir/trie_sort.cc.o\u001b[0m\n",
            "[ 45%] \u001b[32mBuilding CXX object lm/CMakeFiles/kenlm.dir/read_arpa.cc.o\u001b[0m\n",
            "[ 51%] \u001b[32mBuilding CXX object lm/CMakeFiles/kenlm.dir/vocab.cc.o\u001b[0m\n",
            "[ 52%] \u001b[32mBuilding CXX object lm/CMakeFiles/kenlm.dir/virtual_interface.cc.o\u001b[0m\n",
            "[ 50%] \u001b[32mBuilding CXX object lm/CMakeFiles/kenlm.dir/value_build.cc.o\u001b[0m\n",
            "[ 51%] \u001b[32mBuilding CXX object lm/CMakeFiles/kenlm.dir/trie.cc.o\u001b[0m\n",
            "[ 53%] \u001b[32mBuilding CXX object lm/CMakeFiles/kenlm.dir/common/model_buffer.cc.o\u001b[0m\n",
            "[ 54%] \u001b[32mBuilding CXX object lm/CMakeFiles/kenlm.dir/common/print.cc.o\u001b[0m\n",
            "[ 55%] \u001b[32mBuilding CXX object lm/CMakeFiles/kenlm.dir/common/renumber.cc.o\u001b[0m\n",
            "[ 56%] \u001b[32mBuilding CXX object lm/CMakeFiles/kenlm.dir/common/size_option.cc.o\u001b[0m\n",
            "[ 56%] \u001b[32m\u001b[1mLinking CXX executable ../tests/sized_iterator_test\u001b[0m\n",
            "[ 56%] Built target sized_iterator_test\n",
            "[ 57%] \u001b[32m\u001b[1mLinking CXX executable ../tests/pcqueue_test\u001b[0m\n",
            "[ 57%] Built target pcqueue_test\n",
            "[ 58%] \u001b[32m\u001b[1mLinking CXX executable ../tests/probing_hash_table_test\u001b[0m\n",
            "[ 58%] Built target probing_hash_table_test\n",
            "[ 59%] \u001b[32m\u001b[1mLinking CXX executable ../../tests/stream_test\u001b[0m\n",
            "[ 60%] \u001b[32m\u001b[1mLinking CXX executable ../../tests/io_test\u001b[0m\n",
            "[ 61%] \u001b[32m\u001b[1mLinking CXX executable ../../tests/rewindable_stream_test\u001b[0m\n",
            "[ 61%] Built target stream_test\n",
            "[ 61%] Built target io_test\n",
            "[ 62%] \u001b[32m\u001b[1mLinking CXX executable ../tests/bit_packing_test\u001b[0m\n",
            "[ 62%] Built target rewindable_stream_test\n",
            "[ 63%] \u001b[32m\u001b[1mLinking CXX executable ../tests/multi_intersection_test\u001b[0m\n",
            "[ 64%] \u001b[32m\u001b[1mLinking CXX executable ../tests/joint_sort_test\u001b[0m\n",
            "[ 64%] Built target bit_packing_test\n",
            "[ 64%] Built target multi_intersection_test\n",
            "[ 64%] Built target joint_sort_test\n",
            "[ 65%] \u001b[32m\u001b[1mLinking CXX executable ../tests/read_compressed_test\u001b[0m\n",
            "[ 66%] \u001b[32m\u001b[1mLinking CXX executable ../tests/string_stream_test\u001b[0m\n",
            "[ 67%] \u001b[32m\u001b[1mLinking CXX executable ../tests/file_piece_test\u001b[0m\n",
            "[ 68%] \u001b[32m\u001b[1mLinking CXX executable ../tests/tokenize_piece_test\u001b[0m\n",
            "[ 68%] Built target read_compressed_test\n",
            "[ 69%] \u001b[32m\u001b[1mLinking CXX executable ../tests/integer_to_string_test\u001b[0m\n",
            "[ 69%] Built target string_stream_test\n",
            "[ 69%] Built target file_piece_test\n",
            "[ 69%] Built target tokenize_piece_test\n",
            "[ 69%] Built target integer_to_string_test\n",
            "[ 69%] \u001b[32m\u001b[1mLinking CXX static library ../lib/libkenlm.a\u001b[0m\n",
            "[ 69%] Built target kenlm\n",
            "\u001b[35m\u001b[1mScanning dependencies of target kenlm_benchmark\u001b[0m\n",
            "\u001b[35m\u001b[1mScanning dependencies of target build_binary\u001b[0m\n",
            "\u001b[35m\u001b[1mScanning dependencies of target partial_test\u001b[0m\n",
            "\u001b[35m\u001b[1mScanning dependencies of target left_test\u001b[0m\n",
            "\u001b[35m\u001b[1mScanning dependencies of target kenlm_builder\u001b[0m\n",
            "\u001b[35m\u001b[1mScanning dependencies of target model_buffer_test\u001b[0m\n",
            "\u001b[35m\u001b[1mScanning dependencies of target phrase_table_vocab\u001b[0m\n",
            "\u001b[35m\u001b[1mScanning dependencies of target model_test\u001b[0m\n",
            "\u001b[35m\u001b[1mScanning dependencies of target query\u001b[0m\n",
            "\u001b[35m\u001b[1mScanning dependencies of target filter\u001b[0m\n",
            "\u001b[35m\u001b[1mScanning dependencies of target fragment\u001b[0m\n",
            "[ 70%] \u001b[32mBuilding CXX object lm/filter/CMakeFiles/phrase_table_vocab.dir/phrase_table_vocab_main.cc.o\u001b[0m\n",
            "[ 71%] \u001b[32mBuilding CXX object lm/CMakeFiles/partial_test.dir/partial_test.cc.o\u001b[0m\n",
            "[ 72%] \u001b[32mBuilding CXX object lm/filter/CMakeFiles/filter.dir/filter_main.cc.o\u001b[0m\n",
            "[ 73%] \u001b[32mBuilding CXX object lm/common/CMakeFiles/model_buffer_test.dir/model_buffer_test.cc.o\u001b[0m\n",
            "[ 74%] \u001b[32mBuilding CXX object lm/CMakeFiles/kenlm_benchmark.dir/kenlm_benchmark_main.cc.o\u001b[0m\n",
            "[ 75%] \u001b[32mBuilding CXX object lm/CMakeFiles/build_binary.dir/build_binary_main.cc.o\u001b[0m\n",
            "[ 76%] \u001b[32mBuilding CXX object lm/CMakeFiles/left_test.dir/left_test.cc.o\u001b[0m\n",
            "[ 77%] \u001b[32mBuilding CXX object lm/CMakeFiles/query.dir/query_main.cc.o\u001b[0m\n",
            "[ 78%] \u001b[32mBuilding CXX object lm/CMakeFiles/model_test.dir/model_test.cc.o\u001b[0m\n",
            "[ 79%] \u001b[32mBuilding CXX object lm/CMakeFiles/fragment.dir/fragment_main.cc.o\u001b[0m\n",
            "[ 80%] \u001b[32mBuilding CXX object lm/builder/CMakeFiles/kenlm_builder.dir/adjust_counts.cc.o\u001b[0m\n",
            "[ 81%] \u001b[32mBuilding CXX object lm/builder/CMakeFiles/kenlm_builder.dir/interpolate.cc.o\u001b[0m\n",
            "[ 81%] \u001b[32mBuilding CXX object lm/builder/CMakeFiles/kenlm_builder.dir/initial_probabilities.cc.o\u001b[0m\n",
            "[ 82%] \u001b[32mBuilding CXX object lm/builder/CMakeFiles/kenlm_builder.dir/corpus_count.cc.o\u001b[0m\n",
            "[ 83%] \u001b[32mBuilding CXX object lm/builder/CMakeFiles/kenlm_builder.dir/output.cc.o\u001b[0m\n",
            "[ 84%] \u001b[32mBuilding CXX object lm/builder/CMakeFiles/kenlm_builder.dir/pipeline.cc.o\u001b[0m\n",
            "[ 85%] \u001b[32m\u001b[1mLinking CXX executable ../tests/sorted_uniform_test\u001b[0m\n",
            "[ 85%] Built target sorted_uniform_test\n",
            "[ 86%] \u001b[32m\u001b[1mLinking CXX executable ../../tests/sort_test\u001b[0m\n",
            "[ 86%] Built target sort_test\n",
            "[ 86%] \u001b[32m\u001b[1mLinking CXX executable ../bin/fragment\u001b[0m\n",
            "[ 86%] \u001b[32m\u001b[1mLinking CXX executable ../bin/build_binary\u001b[0m\n",
            "[ 86%] Built target fragment\n",
            "[ 86%] Built target build_binary\n",
            "[ 86%] \u001b[32m\u001b[1mLinking CXX executable ../bin/probing_hash_table_benchmark\u001b[0m\n",
            "[ 86%] Built target probing_hash_table_benchmark\n",
            "[ 87%] \u001b[32m\u001b[1mLinking CXX executable ../bin/query\u001b[0m\n",
            "[ 87%] Built target query\n",
            "[ 88%] \u001b[32m\u001b[1mLinking CXX executable ../../bin/phrase_table_vocab\u001b[0m\n",
            "[ 88%] Built target phrase_table_vocab\n",
            "[ 89%] \u001b[32m\u001b[1mLinking CXX executable ../../tests/model_buffer_test\u001b[0m\n",
            "[ 89%] Built target model_buffer_test\n",
            "[ 90%] \u001b[32m\u001b[1mLinking CXX executable ../tests/partial_test\u001b[0m\n",
            "[ 90%] Built target partial_test\n",
            "[ 90%] \u001b[32m\u001b[1mLinking CXX executable ../tests/left_test\u001b[0m\n",
            "[ 90%] Built target left_test\n",
            "[ 91%] \u001b[32m\u001b[1mLinking CXX static library ../../lib/libkenlm_builder.a\u001b[0m\n",
            "[ 91%] Built target kenlm_builder\n",
            "\u001b[35m\u001b[1mScanning dependencies of target corpus_count_test\u001b[0m\n",
            "\u001b[35m\u001b[1mScanning dependencies of target adjust_counts_test\u001b[0m\n",
            "\u001b[35m\u001b[1mScanning dependencies of target lmplz\u001b[0m\n",
            "\u001b[35m\u001b[1mScanning dependencies of target count_ngrams\u001b[0m\n",
            "[ 92%] \u001b[32mBuilding CXX object lm/builder/CMakeFiles/corpus_count_test.dir/corpus_count_test.cc.o\u001b[0m\n",
            "[ 91%] \u001b[32mBuilding CXX object lm/builder/CMakeFiles/adjust_counts_test.dir/adjust_counts_test.cc.o\u001b[0m\n",
            "[ 93%] \u001b[32mBuilding CXX object lm/builder/CMakeFiles/count_ngrams.dir/count_ngrams_main.cc.o\u001b[0m\n",
            "[ 94%] \u001b[32mBuilding CXX object lm/builder/CMakeFiles/lmplz.dir/lmplz_main.cc.o\u001b[0m\n",
            "[ 95%] \u001b[32m\u001b[1mLinking CXX executable ../../bin/filter\u001b[0m\n",
            "[ 95%] Built target filter\n",
            "[ 96%] \u001b[32m\u001b[1mLinking CXX executable ../bin/kenlm_benchmark\u001b[0m\n",
            "[ 96%] Built target kenlm_benchmark\n",
            "[ 97%] \u001b[32m\u001b[1mLinking CXX executable ../../tests/adjust_counts_test\u001b[0m\n",
            "[ 97%] Built target adjust_counts_test\n",
            "[ 98%] \u001b[32m\u001b[1mLinking CXX executable ../../tests/corpus_count_test\u001b[0m\n",
            "[ 98%] Built target corpus_count_test\n",
            "[ 99%] \u001b[32m\u001b[1mLinking CXX executable ../../bin/lmplz\u001b[0m\n",
            "[ 99%] Built target lmplz\n",
            "[100%] \u001b[32m\u001b[1mLinking CXX executable ../../bin/count_ngrams\u001b[0m\n",
            "[100%] Built target count_ngrams\n",
            "[100%] \u001b[32m\u001b[1mLinking CXX executable ../tests/model_test\u001b[0m\n",
            "[100%] Built target model_test\n"
          ],
          "name": "stdout"
        }
      ]
    },
    {
      "cell_type": "code",
      "metadata": {
        "id": "qK-aUbVj8Eey",
        "colab_type": "code",
        "outputId": "99e7c5da-860e-4515-c093-8dfc3f2b8b1e",
        "colab": {
          "base_uri": "https://localhost:8080/",
          "height": 34
        }
      },
      "source": [
        "%cd $H"
      ],
      "execution_count": 7,
      "outputs": [
        {
          "output_type": "stream",
          "text": [
            "/root\n"
          ],
          "name": "stdout"
        }
      ]
    },
    {
      "cell_type": "code",
      "metadata": {
        "id": "AK-u0NWj8uoz",
        "colab_type": "code",
        "colab": {
          "base_uri": "https://localhost:8080/",
          "height": 139
        },
        "outputId": "c65eb4f9-3c96-4d7e-d1ec-3088e8ff86ce"
      },
      "source": [
        "!git clone https://github.com/mozilla/DeepSpeech.git ./ds"
      ],
      "execution_count": 8,
      "outputs": [
        {
          "output_type": "stream",
          "text": [
            "Cloning into './ds'...\n",
            "remote: Enumerating objects: 33, done.\u001b[K\n",
            "remote: Counting objects: 100% (33/33), done.\u001b[K\n",
            "remote: Compressing objects: 100% (30/30), done.\u001b[K\n",
            "remote: Total 17898 (delta 12), reused 14 (delta 3), pack-reused 17865\u001b[K\n",
            "Receiving objects: 100% (17898/17898), 47.51 MiB | 11.71 MiB/s, done.\n",
            "Resolving deltas: 100% (12155/12155), done.\n"
          ],
          "name": "stdout"
        }
      ]
    },
    {
      "cell_type": "code",
      "metadata": {
        "id": "e4d9I_nGPoeE",
        "colab_type": "code",
        "outputId": "e318a7d5-3bff-4230-a397-ea2f8aedfd4b",
        "colab": {
          "base_uri": "https://localhost:8080/",
          "height": 34
        }
      },
      "source": [
        "%cd ds"
      ],
      "execution_count": 9,
      "outputs": [
        {
          "output_type": "stream",
          "text": [
            "/root/ds\n"
          ],
          "name": "stdout"
        }
      ]
    },
    {
      "cell_type": "code",
      "metadata": {
        "id": "7Zryw92I-ZtG",
        "colab_type": "code",
        "outputId": "d9746687-cfb2-4a46-cdbc-e9f806a0db24",
        "colab": {
          "base_uri": "https://localhost:8080/",
          "height": 225
        }
      },
      "source": [
        "!git checkout 60cbe3b201500b3ba74556929e04094ae0186674"
      ],
      "execution_count": 10,
      "outputs": [
        {
          "output_type": "stream",
          "text": [
            "Note: checking out '60cbe3b201500b3ba74556929e04094ae0186674'.\n",
            "\n",
            "You are in 'detached HEAD' state. You can look around, make experimental\n",
            "changes and commit them, and you can discard any commits you make in this\n",
            "state without impacting any branches by performing another checkout.\n",
            "\n",
            "If you want to create a new branch to retain commits you create, you may\n",
            "do so (now or later) by using -b with the checkout command again. Example:\n",
            "\n",
            "  git checkout -b <new-branch-name>\n",
            "\n",
            "HEAD is now at 60cbe3b2 Merge pull request #2714 from lissyx/bump-v0.7.0-alpha.1\n"
          ],
          "name": "stdout"
        }
      ]
    },
    {
      "cell_type": "code",
      "metadata": {
        "id": "v93NLuaf-ej8",
        "colab_type": "code",
        "outputId": "b7081692-99e9-4fe5-ca4d-fc968c176294",
        "colab": {
          "base_uri": "https://localhost:8080/",
          "height": 141
        }
      },
      "source": [
        "!pip install `python util/taskcluster.py --decoder`"
      ],
      "execution_count": 11,
      "outputs": [
        {
          "output_type": "stream",
          "text": [
            "Collecting ds-ctcdecoder==0.7.0a1\n",
            "\u001b[?25l  Downloading https://community-tc.services.mozilla.com/api/index/v1/task/project.deepspeech.deepspeech.native_client.v0.7.0-alpha.1.cpu-ctc/artifacts/public/ds_ctcdecoder-0.7.0a1-cp36-cp36m-manylinux1_x86_64.whl (5.6MB)\n",
            "\u001b[K     |████████████████████████████████| 5.6MB 681kB/s \n",
            "\u001b[?25hRequirement already satisfied: numpy>=1.7.0 in /usr/local/lib/python3.6/dist-packages (from ds-ctcdecoder==0.7.0a1) (1.18.2)\n",
            "Installing collected packages: ds-ctcdecoder\n",
            "Successfully installed ds-ctcdecoder-0.7.0a1\n"
          ],
          "name": "stdout"
        }
      ]
    },
    {
      "cell_type": "code",
      "metadata": {
        "id": "oDNZUNofCnvO",
        "colab_type": "code",
        "outputId": "6b1d6efa-406c-4c33-f0d5-deb22d370fe8",
        "colab": {
          "base_uri": "https://localhost:8080/",
          "height": 34
        }
      },
      "source": [
        "%cd $H/DeepSpeech-Italian-Model/DeepSpeech"
      ],
      "execution_count": 12,
      "outputs": [
        {
          "output_type": "stream",
          "text": [
            "/root/DeepSpeech-Italian-Model/DeepSpeech\n"
          ],
          "name": "stdout"
        }
      ]
    },
    {
      "cell_type": "code",
      "metadata": {
        "id": "KxL0YINfg-vg",
        "colab_type": "code",
        "outputId": "a9375790-1f57-400a-d01a-bd93eb6f34b6",
        "colab": {
          "base_uri": "https://localhost:8080/",
          "height": 54
        }
      },
      "source": [
        "p = %env PATH\n",
        "kenlm_path = \"/root/kenlm/build/bin:\"+p\n",
        "%env PATH $kenlm_path"
      ],
      "execution_count": 13,
      "outputs": [
        {
          "output_type": "stream",
          "text": [
            "env: PATH=/root/kenlm/build/bin:/usr/local/nvidia/bin:/usr/local/cuda/bin:/usr/local/sbin:/usr/local/bin:/usr/sbin:/usr/bin:/sbin:/bin:/tools/node/bin:/tools/google-cloud-sdk/bin:/opt/bin\n"
          ],
          "name": "stdout"
        }
      ]
    },
    {
      "cell_type": "code",
      "metadata": {
        "id": "SfuDBLt4TJ2_",
        "colab_type": "code",
        "outputId": "9503b2d8-a9ec-4b53-f8c0-0153d0a0d073",
        "colab": {
          "base_uri": "https://localhost:8080/",
          "height": 54
        }
      },
      "source": [
        "%set_env TASKCLUSTER_SCHEME=https://community-tc.services.mozilla.com/api/index/v1/task/project.deepspeech.tensorflow.pip.%(branch_name)s.%(arch_string)s/artifacts/public/%(artifact_name)s"
      ],
      "execution_count": 14,
      "outputs": [
        {
          "output_type": "stream",
          "text": [
            "env: TASKCLUSTER_SCHEME=https://community-tc.services.mozilla.com/api/index/v1/task/project.deepspeech.tensorflow.pip.%(branch_name)s.%(arch_string)s/artifacts/public/%(artifact_name)s\n"
          ],
          "name": "stdout"
        }
      ]
    },
    {
      "cell_type": "code",
      "metadata": {
        "id": "ol8vf4QMAm9m",
        "colab_type": "code",
        "outputId": "2028217f-afb2-41ea-b194-66471e133224",
        "colab": {
          "base_uri": "https://localhost:8080/",
          "height": 34
        }
      },
      "source": [
        "%cd $H/ds"
      ],
      "execution_count": 15,
      "outputs": [
        {
          "output_type": "stream",
          "text": [
            "/root/ds\n"
          ],
          "name": "stdout"
        }
      ]
    },
    {
      "cell_type": "code",
      "metadata": {
        "id": "6YDlK4QZVrJc",
        "colab_type": "code",
        "outputId": "573a0eb6-47a0-49da-9ed1-cf94b9a54f64",
        "colab": {
          "base_uri": "https://localhost:8080/",
          "height": 89
        }
      },
      "source": [
        "!python util/taskcluster.py \\\n",
        "\t--target=\"$(pwd)\" \\\n",
        "\t--artifact=\"convert_graphdef_memmapped_format\" \\\n",
        "\t--branch=\"r1.15\" && chmod +x convert_graphdef_memmapped_format"
      ],
      "execution_count": 16,
      "outputs": [
        {
          "output_type": "stream",
          "text": [
            "Downloading https://community-tc.services.mozilla.com/api/index/v1/task/project.deepspeech.tensorflow.pip.r1.15.cpu/artifacts/public/convert_graphdef_memmapped_format ...\n",
            "Downloading: 100%\n",
            "\n"
          ],
          "name": "stdout"
        }
      ]
    },
    {
      "cell_type": "code",
      "metadata": {
        "id": "hTESph4OAgYF",
        "colab_type": "code",
        "outputId": "d67e91d1-388b-4b31-df27-913d41408749",
        "colab": {
          "base_uri": "https://localhost:8080/",
          "height": 34
        }
      },
      "source": [
        "%cd $H/DeepSpeech-Italian-Model/DeepSpeech"
      ],
      "execution_count": 17,
      "outputs": [
        {
          "output_type": "stream",
          "text": [
            "/root/DeepSpeech-Italian-Model/DeepSpeech\n"
          ],
          "name": "stdout"
        }
      ]
    },
    {
      "cell_type": "code",
      "metadata": {
        "id": "TMWKVPCbTdqX",
        "colab_type": "code",
        "outputId": "555cc0a5-0ea7-4831-de74-e2fd5332f98b",
        "colab": {
          "base_uri": "https://localhost:8080/",
          "height": 34
        }
      },
      "source": [
        "%tensorflow_version 1.x"
      ],
      "execution_count": 18,
      "outputs": [
        {
          "output_type": "stream",
          "text": [
            "TensorFlow 1.x selected.\n"
          ],
          "name": "stdout"
        }
      ]
    },
    {
      "cell_type": "code",
      "metadata": {
        "id": "fg6sq20cKRA_",
        "colab_type": "code",
        "outputId": "abae90a4-df69-420b-ab0c-78370772dca7",
        "colab": {
          "base_uri": "https://localhost:8080/",
          "height": 1000
        }
      },
      "source": [
        "!apt-get install sox libsox-fmt-mp3"
      ],
      "execution_count": 19,
      "outputs": [
        {
          "output_type": "stream",
          "text": [
            "Reading package lists... Done\n",
            "Building dependency tree       \n",
            "Reading state information... Done\n",
            "The following additional packages will be installed:\n",
            "  libid3tag0 libmad0 libmagic-mgc libmagic1 libopencore-amrnb0\n",
            "  libopencore-amrwb0 libsox-fmt-alsa libsox-fmt-base libsox3\n",
            "Suggested packages:\n",
            "  file libsox-fmt-all\n",
            "The following NEW packages will be installed:\n",
            "  libid3tag0 libmad0 libmagic-mgc libmagic1 libopencore-amrnb0\n",
            "  libopencore-amrwb0 libsox-fmt-alsa libsox-fmt-base libsox-fmt-mp3 libsox3\n",
            "  sox\n",
            "0 upgraded, 11 newly installed, 0 to remove and 25 not upgraded.\n",
            "Need to get 872 kB of archives.\n",
            "After this operation, 7,085 kB of additional disk space will be used.\n",
            "Get:1 http://archive.ubuntu.com/ubuntu bionic/universe amd64 libopencore-amrnb0 amd64 0.1.3-2.1 [92.0 kB]\n",
            "Get:2 http://archive.ubuntu.com/ubuntu bionic/universe amd64 libopencore-amrwb0 amd64 0.1.3-2.1 [45.8 kB]\n",
            "Get:3 http://archive.ubuntu.com/ubuntu bionic-updates/main amd64 libmagic-mgc amd64 1:5.32-2ubuntu0.3 [184 kB]\n",
            "Get:4 http://archive.ubuntu.com/ubuntu bionic-updates/main amd64 libmagic1 amd64 1:5.32-2ubuntu0.3 [68.7 kB]\n",
            "Get:5 http://archive.ubuntu.com/ubuntu bionic/universe amd64 libid3tag0 amd64 0.15.1b-13 [31.2 kB]\n",
            "Get:6 http://archive.ubuntu.com/ubuntu bionic-updates/universe amd64 libmad0 amd64 0.15.1b-9ubuntu18.04.1 [64.6 kB]\n",
            "Get:7 http://archive.ubuntu.com/ubuntu bionic-updates/universe amd64 libsox3 amd64 14.4.2-3ubuntu0.18.04.1 [226 kB]\n",
            "Get:8 http://archive.ubuntu.com/ubuntu bionic-updates/universe amd64 libsox-fmt-alsa amd64 14.4.2-3ubuntu0.18.04.1 [10.6 kB]\n",
            "Get:9 http://archive.ubuntu.com/ubuntu bionic-updates/universe amd64 libsox-fmt-base amd64 14.4.2-3ubuntu0.18.04.1 [32.1 kB]\n",
            "Get:10 http://archive.ubuntu.com/ubuntu bionic-updates/universe amd64 libsox-fmt-mp3 amd64 14.4.2-3ubuntu0.18.04.1 [15.9 kB]\n",
            "Get:11 http://archive.ubuntu.com/ubuntu bionic-updates/universe amd64 sox amd64 14.4.2-3ubuntu0.18.04.1 [101 kB]\n",
            "Fetched 872 kB in 3s (328 kB/s)\n",
            "Selecting previously unselected package libopencore-amrnb0:amd64.\n",
            "(Reading database ... 144568 files and directories currently installed.)\n",
            "Preparing to unpack .../00-libopencore-amrnb0_0.1.3-2.1_amd64.deb ...\n",
            "Unpacking libopencore-amrnb0:amd64 (0.1.3-2.1) ...\n",
            "Selecting previously unselected package libopencore-amrwb0:amd64.\n",
            "Preparing to unpack .../01-libopencore-amrwb0_0.1.3-2.1_amd64.deb ...\n",
            "Unpacking libopencore-amrwb0:amd64 (0.1.3-2.1) ...\n",
            "Selecting previously unselected package libmagic-mgc.\n",
            "Preparing to unpack .../02-libmagic-mgc_1%3a5.32-2ubuntu0.3_amd64.deb ...\n",
            "Unpacking libmagic-mgc (1:5.32-2ubuntu0.3) ...\n",
            "Selecting previously unselected package libmagic1:amd64.\n",
            "Preparing to unpack .../03-libmagic1_1%3a5.32-2ubuntu0.3_amd64.deb ...\n",
            "Unpacking libmagic1:amd64 (1:5.32-2ubuntu0.3) ...\n",
            "Selecting previously unselected package libid3tag0:amd64.\n",
            "Preparing to unpack .../04-libid3tag0_0.15.1b-13_amd64.deb ...\n",
            "Unpacking libid3tag0:amd64 (0.15.1b-13) ...\n",
            "Selecting previously unselected package libmad0:amd64.\n",
            "Preparing to unpack .../05-libmad0_0.15.1b-9ubuntu18.04.1_amd64.deb ...\n",
            "Unpacking libmad0:amd64 (0.15.1b-9ubuntu18.04.1) ...\n",
            "Selecting previously unselected package libsox3:amd64.\n",
            "Preparing to unpack .../06-libsox3_14.4.2-3ubuntu0.18.04.1_amd64.deb ...\n",
            "Unpacking libsox3:amd64 (14.4.2-3ubuntu0.18.04.1) ...\n",
            "Selecting previously unselected package libsox-fmt-alsa:amd64.\n",
            "Preparing to unpack .../07-libsox-fmt-alsa_14.4.2-3ubuntu0.18.04.1_amd64.deb ...\n",
            "Unpacking libsox-fmt-alsa:amd64 (14.4.2-3ubuntu0.18.04.1) ...\n",
            "Selecting previously unselected package libsox-fmt-base:amd64.\n",
            "Preparing to unpack .../08-libsox-fmt-base_14.4.2-3ubuntu0.18.04.1_amd64.deb ...\n",
            "Unpacking libsox-fmt-base:amd64 (14.4.2-3ubuntu0.18.04.1) ...\n",
            "Selecting previously unselected package libsox-fmt-mp3:amd64.\n",
            "Preparing to unpack .../09-libsox-fmt-mp3_14.4.2-3ubuntu0.18.04.1_amd64.deb ...\n",
            "Unpacking libsox-fmt-mp3:amd64 (14.4.2-3ubuntu0.18.04.1) ...\n",
            "Selecting previously unselected package sox.\n",
            "Preparing to unpack .../10-sox_14.4.2-3ubuntu0.18.04.1_amd64.deb ...\n",
            "Unpacking sox (14.4.2-3ubuntu0.18.04.1) ...\n",
            "Setting up libid3tag0:amd64 (0.15.1b-13) ...\n",
            "Setting up libmagic-mgc (1:5.32-2ubuntu0.3) ...\n",
            "Setting up libmagic1:amd64 (1:5.32-2ubuntu0.3) ...\n",
            "Setting up libopencore-amrnb0:amd64 (0.1.3-2.1) ...\n",
            "Setting up libmad0:amd64 (0.15.1b-9ubuntu18.04.1) ...\n",
            "Setting up libopencore-amrwb0:amd64 (0.1.3-2.1) ...\n",
            "Setting up libsox3:amd64 (14.4.2-3ubuntu0.18.04.1) ...\n",
            "Setting up libsox-fmt-mp3:amd64 (14.4.2-3ubuntu0.18.04.1) ...\n",
            "Setting up libsox-fmt-base:amd64 (14.4.2-3ubuntu0.18.04.1) ...\n",
            "Setting up libsox-fmt-alsa:amd64 (14.4.2-3ubuntu0.18.04.1) ...\n",
            "Setting up sox (14.4.2-3ubuntu0.18.04.1) ...\n",
            "Processing triggers for libc-bin (2.27-3ubuntu1) ...\n",
            "/sbin/ldconfig.real: /usr/local/lib/python3.6/dist-packages/ideep4py/lib/libmkldnn.so.0 is not a symbolic link\n",
            "\n",
            "Processing triggers for man-db (2.8.3-2ubuntu0.1) ...\n",
            "Processing triggers for mime-support (3.60ubuntu1) ...\n"
          ],
          "name": "stdout"
        }
      ]
    },
    {
      "cell_type": "code",
      "metadata": {
        "id": "BupOw-n6GQ0J",
        "colab_type": "code",
        "outputId": "ea9c01ed-2d51-4c4e-d565-5f02ccded921",
        "colab": {
          "base_uri": "https://localhost:8080/",
          "height": 384
        }
      },
      "source": [
        "!pip install attrdict pyxdg sox webrtcvad semver"
      ],
      "execution_count": 20,
      "outputs": [
        {
          "output_type": "stream",
          "text": [
            "Collecting attrdict\n",
            "  Downloading https://files.pythonhosted.org/packages/ef/97/28fe7e68bc7adfce67d4339756e85e9fcf3c6fd7f0c0781695352b70472c/attrdict-2.0.1-py2.py3-none-any.whl\n",
            "Collecting pyxdg\n",
            "\u001b[?25l  Downloading https://files.pythonhosted.org/packages/39/03/12eb9062f43adb94e30f366743cb5c83fd15fef026500cd4de42c7c12280/pyxdg-0.26-py2.py3-none-any.whl (40kB)\n",
            "\r\u001b[K     |████████                        | 10kB 19.4MB/s eta 0:00:01\r\u001b[K     |████████████████▏               | 20kB 7.5MB/s eta 0:00:01\r\u001b[K     |████████████████████████▏       | 30kB 2.5MB/s eta 0:00:01\r\u001b[K     |████████████████████████████████| 40kB 2.2MB/s \n",
            "\u001b[?25hCollecting sox\n",
            "  Downloading https://files.pythonhosted.org/packages/60/a0/5bee540554af8376e0313e462629d95bf2f2bc3c8cb60697aa01254e6cf5/sox-1.3.7-py2.py3-none-any.whl\n",
            "Collecting webrtcvad\n",
            "\u001b[?25l  Downloading https://files.pythonhosted.org/packages/89/34/e2de2d97f3288512b9ea56f92e7452f8207eb5a0096500badf9dfd48f5e6/webrtcvad-2.0.10.tar.gz (66kB)\n",
            "\u001b[K     |████████████████████████████████| 71kB 5.1MB/s \n",
            "\u001b[?25hCollecting semver\n",
            "  Downloading https://files.pythonhosted.org/packages/cb/48/009529f08dd0f71262a229f0a7948dd5d27eb0e0a9edc74e6e6860ff2925/semver-2.9.1-py2.py3-none-any.whl\n",
            "Requirement already satisfied: six in /usr/local/lib/python3.6/dist-packages (from attrdict) (1.12.0)\n",
            "Building wheels for collected packages: webrtcvad\n",
            "  Building wheel for webrtcvad (setup.py) ... \u001b[?25l\u001b[?25hdone\n",
            "  Created wheel for webrtcvad: filename=webrtcvad-2.0.10-cp36-cp36m-linux_x86_64.whl size=71357 sha256=c920959889f2445deee7696940d25169014770441e289e10b7d24e19e1716733\n",
            "  Stored in directory: /root/.cache/pip/wheels/44/2a/18/bd1aec41cac7c3051fe95d92a6ed446122ea31dc713c432fa1\n",
            "Successfully built webrtcvad\n",
            "Installing collected packages: attrdict, pyxdg, sox, webrtcvad, semver\n",
            "Successfully installed attrdict-2.0.1 pyxdg-0.26 semver-2.9.1 sox-1.3.7 webrtcvad-2.0.10\n"
          ],
          "name": "stdout"
        }
      ]
    },
    {
      "cell_type": "code",
      "metadata": {
        "id": "8-Bjg2n1Xme5",
        "colab_type": "code",
        "outputId": "dd20bfab-48af-4352-ec5c-8c81e3fb1a66",
        "colab": {
          "base_uri": "https://localhost:8080/",
          "height": 34
        }
      },
      "source": [
        "%env MODEL_LANGUAGE it\n",
        "# some quick fix\n",
        "!mkdir -p /mnt/models && cp italian_alphabet.txt /mnt/models/alphabet.txt"
      ],
      "execution_count": 26,
      "outputs": [
        {
          "output_type": "stream",
          "text": [
            "env: MODEL_LANGUAGE=it\n"
          ],
          "name": "stdout"
        }
      ]
    },
    {
      "cell_type": "code",
      "metadata": {
        "id": "HUgutnT7PP_t",
        "colab_type": "code",
        "colab": {
          "base_uri": "https://localhost:8080/",
          "height": 159
        },
        "outputId": "251f0094-7dba-44b0-b804-feb519157877"
      },
      "source": [
        "!find /root/ -type f -size +5M -exec ls -lh {} \\;"
      ],
      "execution_count": 22,
      "outputs": [
        {
          "output_type": "stream",
          "text": [
            "-r--r--r-- 1 root root 39M Apr 22 12:50 /root/DeepSpeech-Italian-Model/.git/objects/pack/pack-1c5953323eb6f572fd6f4c83af69301e86f5fea3.pack\n",
            "-rw------- 1 root root 5.4M Apr 22 12:54 /root/.cache/pip/http/d/3/7/e/9/d37e92f548ff7f27e9f644a6d6535f2621e631428594339c67f7620f\n",
            "-r--r--r-- 1 root root 5.5M Apr 22 12:50 /root/kenlm/.git/objects/pack/pack-febcf615a8ddabd99198c8c35f64b1a5f0da6c35.pack\n",
            "-rwxr-xr-x 1 root root 128M Apr 22 12:54 /root/ds/convert_graphdef_memmapped_format\n",
            "-r--r--r-- 1 root root 48M Apr 22 12:53 /root/ds/.git/objects/pack/pack-e9b12059eac3373ff31119294aab29f18ed87950.pack\n",
            "-r--r--r-- 1 root root 5.4M Apr 20 16:43 /root/.npm/_cacache/content-v2/sha1/3c/5b/6fd7f6de0914269027f03c0946758f7673a4\n",
            "-r--r--r-- 1 root root 5.7M Apr 20 16:43 /root/.npm/_cacache/content-v2/sha512/af/58/2bbefea6704b7e9e53333163dce67ff3e6af0d36e0568f44c6169d4f05214297ab9b9c0a14181b2e718b276584fb30e267d216b5a6d12399d06801d27e48\n"
          ],
          "name": "stdout"
        }
      ]
    },
    {
      "cell_type": "code",
      "metadata": {
        "id": "-bnDoEt5PiFz",
        "colab_type": "code",
        "colab": {}
      },
      "source": [
        "!rm -rf $H/.cache/pip/*\n",
        "!rm -rf $H/DeepSpeech-Italian-Model/.git/*\n",
        "!rm -rf $H/ds/.git/*\n",
        "!rm -rf $H/kenlm/.git/*\n",
        "!rm -rf /content/sample_data/*"
      ],
      "execution_count": 0,
      "outputs": []
    },
    {
      "cell_type": "code",
      "metadata": {
        "id": "ladVQoVJ9drR",
        "colab_type": "code",
        "colab": {
          "base_uri": "https://localhost:8080/",
          "height": 245
        },
        "outputId": "2e363590-e0cc-4121-dcea-ea960f360372"
      },
      "source": [
        "%cd $H/ds\n",
        "!python bin/import_m-ailabs.py ${IMPORT_AS_ENGLISH} \\\n",
        "  --filter_alphabet /mnt/models/alphabet.txt \\\n",
        "  --language it_IT                           \\\n",
        "  /mnt/extracted/data/M-AILABS/"
      ],
      "execution_count": 29,
      "outputs": [
        {
          "output_type": "stream",
          "text": [
            "/root/ds\n",
            "No path \"/mnt/extracted/data/M-AILABS\" - creating ...\n",
            "No archive \"/mnt/extracted/data/M-AILABS/it_IT.tgz\" - downloading...\n",
            "Progress |######################################################| 100% completedNo directory \"/mnt/extracted/data/M-AILABS/it_IT\" - extracting archive...\n",
            "Importing WAV files...\n",
            "Progress |######################################################| 100% completedImported 73298 samples.\n",
            "Skipped 5 samples that failed on transcript validation.\n",
            "Skipped 7 samples that were too short to match the transcript.\n",
            "Skipped 100 samples that were longer than 15 seconds.\n",
            "Final amount of imported audio: 128:02:33.\n",
            "Progress |######################################################| 100% completed\n",
            "Progress |######################################################| 100% completed\n"
          ],
          "name": "stdout"
        }
      ]
    },
    {
      "cell_type": "code",
      "metadata": {
        "id": "iA9MwYq8Awn8",
        "colab_type": "code",
        "colab": {}
      },
      "source": [
        "!rm /mnt/extracted/data/M-AILABS/it_IT.tgz"
      ],
      "execution_count": 0,
      "outputs": []
    },
    {
      "cell_type": "code",
      "metadata": {
        "id": "tYXCUvBcbF3L",
        "colab_type": "code",
        "outputId": "bccb7cd5-c59c-45bd-fade-1d88daacc5ea",
        "colab": {
          "base_uri": "https://localhost:8080/",
          "height": 228
        }
      },
      "source": [
        "!mkdir -p /mnt/sources\n",
        "!wget https://voice-prod-bundler-ee1969a6ce8178826482b88e843c335139bd3fb4.s3.amazonaws.com/cv-corpus-4-2019-12-10/it.tar.gz -O /mnt/sources/it.tar.gz"
      ],
      "execution_count": 33,
      "outputs": [
        {
          "output_type": "stream",
          "text": [
            "--2020-04-22 13:49:29--  https://voice-prod-bundler-ee1969a6ce8178826482b88e843c335139bd3fb4.s3.amazonaws.com/cv-corpus-4-2019-12-10/it.tar.gz\n",
            "Resolving voice-prod-bundler-ee1969a6ce8178826482b88e843c335139bd3fb4.s3.amazonaws.com (voice-prod-bundler-ee1969a6ce8178826482b88e843c335139bd3fb4.s3.amazonaws.com)... 52.218.225.75\n",
            "Connecting to voice-prod-bundler-ee1969a6ce8178826482b88e843c335139bd3fb4.s3.amazonaws.com (voice-prod-bundler-ee1969a6ce8178826482b88e843c335139bd3fb4.s3.amazonaws.com)|52.218.225.75|:443... connected.\n",
            "HTTP request sent, awaiting response... 200 OK\n",
            "Length: 3447602853 (3.2G) [application/x-tar]\n",
            "Saving to: ‘/mnt/sources/it.tar.gz’\n",
            "\n",
            "/mnt/sources/it.tar 100%[===================>]   3.21G  22.6MB/s    in 2m 28s  \n",
            "\n",
            "2020-04-22 13:51:58 (22.2 MB/s) - ‘/mnt/sources/it.tar.gz’ saved [3447602853/3447602853]\n",
            "\n"
          ],
          "name": "stdout"
        }
      ]
    },
    {
      "cell_type": "code",
      "metadata": {
        "id": "m8-Xsc8aLWxo",
        "colab_type": "code",
        "colab": {
          "base_uri": "https://localhost:8080/",
          "height": 905
        },
        "outputId": "239e2084-1435-485a-c3fc-853ebd19a1f6"
      },
      "source": [
        "!mkdir -p /mnt/extracted/data/cv-it/\n",
        "!tar -C /mnt/extracted/data/cv-it/ -xf /mnt/sources/it.tar.gz\n",
        "!python bin/import_cv2.py --filter_alphabet=/mnt/models/alphabet.txt /mnt/extracted/data/cv-it/"
      ],
      "execution_count": 35,
      "outputs": [
        {
          "output_type": "stream",
          "text": [
            "Loading TSV file:  /mnt/extracted/data/cv-it/train.tsv\n",
            "Saving new DeepSpeech-formatted CSV file to:  /mnt/extracted/data/cv-it/clips/train.csv\n",
            "Importing mp3 files...\n",
            "Progress |##################################################### |  98% completedWriting CSV file for DeepSpeech.py as:  /mnt/extracted/data/cv-it/clips/train.csv\n",
            "Progress |######################################################| 100% completed\n",
            "Imported 19330 samples.\n",
            "Skipped 1055 samples that failed on transcript validation.\n",
            "Skipped 57 samples that were longer than 10 seconds.\n",
            "Final amount of imported audio: 27:58:35.\n",
            "Loading TSV file:  /mnt/extracted/data/cv-it/test.tsv\n",
            "Saving new DeepSpeech-formatted CSV file to:  /mnt/extracted/data/cv-it/clips/test.csv\n",
            "Importing mp3 files...\n",
            "Progress |##################################################### |  98% completedWriting CSV file for DeepSpeech.py as:  /mnt/extracted/data/cv-it/clips/test.csv\n",
            "Progress |######################################################| 100% completed\n",
            "Imported 8833 samples.\n",
            "Skipped 193 samples that failed on transcript validation.\n",
            "Skipped 118 samples that were longer than 10 seconds.\n",
            "Final amount of imported audio: 15:20:18.\n",
            "Loading TSV file:  /mnt/extracted/data/cv-it/dev.tsv\n",
            "Saving new DeepSpeech-formatted CSV file to:  /mnt/extracted/data/cv-it/clips/dev.csv\n",
            "Importing mp3 files...\n",
            "Progress |######################################################| 100% completedWriting CSV file for DeepSpeech.py as:  /mnt/extracted/data/cv-it/clips/dev.csv\n",
            "Progress |######################################################| 100% completed\n",
            "Imported 8869 samples.\n",
            "Skipped 264 samples that failed on transcript validation.\n",
            "Skipped 71 samples that were longer than 10 seconds.\n",
            "Final amount of imported audio: 14:17:16.\n",
            "Loading TSV file:  /mnt/extracted/data/cv-it/validated.tsv\n",
            "Saving new DeepSpeech-formatted CSV file to:  /mnt/extracted/data/cv-it/clips/validated.csv\n",
            "Importing mp3 files...\n",
            "Progress |######################################################| 100% completedWriting CSV file for DeepSpeech.py as:  /mnt/extracted/data/cv-it/clips/validated.csv\n",
            "Progress |######################################################| 100% completed\n",
            "Imported 55725 samples.\n",
            "Skipped 2045 samples that failed on transcript validation.\n",
            "Skipped 284 samples that were longer than 10 seconds.\n",
            "Final amount of imported audio: 82:10:52.\n",
            "Loading TSV file:  /mnt/extracted/data/cv-it/other.tsv\n",
            "Saving new DeepSpeech-formatted CSV file to:  /mnt/extracted/data/cv-it/clips/other.csv\n",
            "Importing mp3 files...\n",
            "Progress |##################################################### |  98% completedWriting CSV file for DeepSpeech.py as:  /mnt/extracted/data/cv-it/clips/other.csv\n",
            "Progress |######################################################| 100% completed\n",
            "Imported 15151 samples.\n",
            "Skipped 226 samples that failed on transcript validation.\n",
            "Skipped 163 samples that were longer than 10 seconds.\n",
            "Final amount of imported audio: 25:56:59.\n",
            "Progress |######################################################| 100% completed\n",
            "Progress |######################################################| 100% completed\n",
            "Progress |######################################################| 100% completed\n",
            "Progress |######################################################| 100% completed\n",
            "Progress |######################################################| 100% completed\n"
          ],
          "name": "stdout"
        }
      ]
    },
    {
      "cell_type": "code",
      "metadata": {
        "id": "7RQwjUVVJupR",
        "colab_type": "code",
        "colab": {
          "base_uri": "https://localhost:8080/",
          "height": 34
        },
        "outputId": "e3c8df3b-4397-4d74-a5d3-fa46c7e6d183"
      },
      "source": [
        "!rm /mnt/sources/it.tar.gz\n",
        "# dirty quick fix\n",
        "!touch /mnt/sources/it.tar.gz"
      ],
      "execution_count": 41,
      "outputs": [
        {
          "output_type": "stream",
          "text": [
            "rm: cannot remove '/mnt/sources/it.tar.gz': No such file or directory\n"
          ],
          "name": "stdout"
        }
      ]
    },
    {
      "cell_type": "code",
      "metadata": {
        "id": "Z6b9w6wzZuCu",
        "colab_type": "code",
        "colab": {
          "base_uri": "https://localhost:8080/",
          "height": 1000
        },
        "outputId": "a6e5e204-a89d-48d5-ce1e-37925ae35a59"
      },
      "source": [
        "%cd $H/DeepSpeech-Italian-Model/DeepSpeech\n",
        "!set -xe\n",
        "\n",
        "!export PATH=$(dirname \"$0\"):$PATH\n",
        "\n",
        "!env\n",
        "\n",
        "!./checks.sh\n",
        "\n",
        "!export TMP=/mnt/tmp\n",
        "!export TEMP=/mnt/tmp\n",
        "\n"
      ],
      "execution_count": 59,
      "outputs": [
        {
          "output_type": "stream",
          "text": [
            "/root/DeepSpeech-Italian-Model/DeepSpeech\n",
            "CUDNN_VERSION=7.6.5.32\n",
            "__EGL_VENDOR_LIBRARY_DIRS=/usr/lib64-nvidia:/usr/share/glvnd/egl_vendor.d/\n",
            "LD_LIBRARY_PATH=/usr/lib64-nvidia\n",
            "DROPOUT=0.3\n",
            "LM_ALPHA=0.65\n",
            "_=/usr/bin/env\n",
            "LANG=en_US.UTF-8\n",
            "HOSTNAME=b7c4e8a68dc4\n",
            "OLDPWD=/\n",
            "CLOUDSDK_CONFIG=/content/.config\n",
            "TASKCLUSTER_SCHEME=https://community-tc.services.mozilla.com/api/index/v1/task/project.deepspeech.tensorflow.pip.%(branch_name)s.%(arch_string)s/artifacts/public/%(artifact_name)s\n",
            "N_HIDDEN=2048\n",
            "NVIDIA_VISIBLE_DEVICES=all\n",
            "DATALAB_SETTINGS_OVERRIDES={\"kernelManagerProxyPort\":6000,\"kernelManagerProxyHost\":\"172.28.0.3\",\"jupyterArgs\":[\"--ip=\\\"172.28.0.2\\\"\"]}\n",
            "ENV=/root/.bashrc\n",
            "PAGER=cat\n",
            "MODEL_LANGUAGE=it\n",
            "AMP=1\n",
            "NCCL_VERSION=2.4.8\n",
            "TF_FORCE_GPU_ALLOW_GROWTH=true\n",
            "LEARNING_RATE=0.0001\n",
            "JPY_PARENT_PID=24\n",
            "NO_GCE_CHECK=True\n",
            "PWD=/root/DeepSpeech-Italian-Model/DeepSpeech\n",
            "HOME=/root\n",
            "EIGEN3_ROOT=/content/DeepSpeech-Italian-Model/DeepSpeech/eigen-eigen-07105f7124f9\n",
            "LAST_FORCED_REBUILD=20200316\n",
            "CLICOLOR=1\n",
            "DEBIAN_FRONTEND=noninteractive\n",
            "BEAM_WIDTH=500\n",
            "EARLY_STOP=1\n",
            "LIBRARY_PATH=/usr/local/cuda/lib64/stubs\n",
            "GCE_METADATA_TIMEOUT=0\n",
            "GLIBCPP_FORCE_NEW=1\n",
            "TBE_CREDS_ADDR=172.28.0.1:8008\n",
            "TERM=xterm-color\n",
            "SHELL=/bin/bash\n",
            "GCS_READ_CACHE_BLOCK_SIZE_MB=16\n",
            "PYTHONWARNINGS=ignore:::pip._internal.cli.base_command\n",
            "LM_BETA=1.45\n",
            "MPLBACKEND=module://ipykernel.pylab.backend_inline\n",
            "CUDA_PKG_VERSION=10-1=10.1.243-1\n",
            "CUDA_VERSION=10.1.243\n",
            "EPOCHS=30\n",
            "NVIDIA_DRIVER_CAPABILITIES=compute,utility\n",
            "SHLVL=2\n",
            "PYTHONPATH=/tensorflow-1.15.2/python3.6:/env/python\n",
            "NVIDIA_REQUIRE_CUDA=cuda>=10.1 brand=tesla,driver>=384,driver<385 brand=tesla,driver>=396,driver<397 brand=tesla,driver>=410,driver<411\n",
            "COLAB_GPU=1\n",
            "BATCH_SIZE=64\n",
            "GLIBCXX_FORCE_NEW=1\n",
            "PATH=/tensorflow-1.15.2/python3.6/bin:/root/kenlm/build/bin:/usr/local/nvidia/bin:/usr/local/cuda/bin:/usr/local/sbin:/usr/local/bin:/usr/sbin:/usr/bin:/sbin:/bin:/tools/node/bin:/tools/google-cloud-sdk/bin:/opt/bin\n",
            "LD_PRELOAD=/usr/lib/x86_64-linux-gnu/libtcmalloc.so.4\n",
            "GIT_PAGER=cat\n",
            "+ sudo id\n",
            "uid=0(root) gid=0(root) groups=0(root)\n",
            "+ sudo /sbin/ldconfig\n",
            "/sbin/ldconfig.real: /usr/local/lib/python3.6/dist-packages/ideep4py/lib/libmkldnn.so.0 is not a symbolic link\n",
            "\n",
            "+ nvidia-smi\n",
            "Wed Apr 22 15:47:05 2020       \n",
            "+-----------------------------------------------------------------------------+\n",
            "| NVIDIA-SMI 440.64.00    Driver Version: 418.67       CUDA Version: 10.1     |\n",
            "|-------------------------------+----------------------+----------------------+\n",
            "| GPU  Name        Persistence-M| Bus-Id        Disp.A | Volatile Uncorr. ECC |\n",
            "| Fan  Temp  Perf  Pwr:Usage/Cap|         Memory-Usage | GPU-Util  Compute M. |\n",
            "|===============================+======================+======================|\n",
            "|   0  Tesla K80           Off  | 00000000:00:04.0 Off |                    0 |\n",
            "| N/A   67C    P8    34W / 149W |      0MiB / 11441MiB |      0%      Default |\n",
            "+-------------------------------+----------------------+----------------------+\n",
            "                                                                               \n",
            "+-----------------------------------------------------------------------------+\n",
            "| Processes:                                                       GPU Memory |\n",
            "|  GPU       PID   Type   Process name                             Usage      |\n",
            "|=============================================================================|\n",
            "|  No running processes found                                                 |\n",
            "+-----------------------------------------------------------------------------+\n",
            "++ find /mnt/ -maxdepth 1 -type d\n",
            "+ for dir in $(find /mnt/ -maxdepth 1 -type d)\n",
            "+ echo 'Checking /mnt/ ...'\n",
            "Checking /mnt/ ...\n",
            "+ '[' '!' -w /mnt/ ']'\n",
            "+ for dir in $(find /mnt/ -maxdepth 1 -type d)\n",
            "+ echo 'Checking /mnt/models ...'\n",
            "Checking /mnt/models ...\n",
            "+ '[' '!' -w /mnt/models ']'\n",
            "+ for dir in $(find /mnt/ -maxdepth 1 -type d)\n",
            "+ echo 'Checking /mnt/tmp ...'\n",
            "Checking /mnt/tmp ...\n",
            "+ '[' '!' -w /mnt/tmp ']'\n",
            "+ for dir in $(find /mnt/ -maxdepth 1 -type d)\n",
            "+ echo 'Checking /mnt/extracted ...'\n",
            "Checking /mnt/extracted ...\n",
            "+ '[' '!' -w /mnt/extracted ']'\n",
            "+ for dir in $(find /mnt/ -maxdepth 1 -type d)\n",
            "+ echo 'Checking /mnt/lm ...'\n",
            "Checking /mnt/lm ...\n",
            "+ '[' '!' -w /mnt/lm ']'\n",
            "+ for dir in $(find /mnt/ -maxdepth 1 -type d)\n",
            "+ echo 'Checking /mnt/sources ...'\n",
            "Checking /mnt/sources ...\n",
            "+ '[' '!' -w /mnt/sources ']'\n",
            "+ for dir in $(find /mnt/ -maxdepth 1 -type d)\n",
            "+ echo 'Checking /mnt/checkpoints ...'\n",
            "Checking /mnt/checkpoints ...\n",
            "+ '[' '!' -w /mnt/checkpoints ']'\n",
            "+ for subdir in sources extracted checkpoints models lm tmp\n",
            "+ '[' '!' -d /mnt/sources ']'\n",
            "+ for subdir in sources extracted checkpoints models lm tmp\n",
            "+ '[' '!' -d /mnt/extracted ']'\n",
            "+ for subdir in sources extracted checkpoints models lm tmp\n",
            "+ '[' '!' -d /mnt/checkpoints ']'\n",
            "+ for subdir in sources extracted checkpoints models lm tmp\n",
            "+ '[' '!' -d /mnt/models ']'\n",
            "+ for subdir in sources extracted checkpoints models lm tmp\n",
            "+ '[' '!' -d /mnt/lm ']'\n",
            "+ for subdir in sources extracted checkpoints models lm tmp\n",
            "+ '[' '!' -d /mnt/tmp ']'\n",
            "+ mkdir /mnt/extracted/data/\n",
            "mkdir: cannot create directory ‘/mnt/extracted/data/’: File exists\n",
            "+ true\n",
            "+ pushd /root/ds/\n",
            "~/ds ~/DeepSpeech-Italian-Model/DeepSpeech\n",
            "+ ./bin/run-tc-ldc93s1_new.sh 2 16000\n",
            "+ ldc93s1_dir=./data/smoke_test\n",
            "+ ldc93s1_csv=./data/smoke_test/ldc93s1.csv\n",
            "+ epoch_count=2\n",
            "+ audio_sample_rate=16000\n",
            "+ [ ! -f ./data/smoke_test/ldc93s1.csv ]\n",
            "+ export CUDA_VISIBLE_DEVICES=0\n",
            "+ python -u DeepSpeech.py --noshow_progressbar --noearly_stop --train_files ./data/smoke_test/ldc93s1.csv --train_batch_size 1 --feature_cache /tmp/ldc93s1_cache --dev_files ./data/smoke_test/ldc93s1.csv --dev_batch_size 1 --test_files ./data/smoke_test/ldc93s1.csv --test_batch_size 1 --n_hidden 100 --epochs 2 --max_to_keep 1 --checkpoint_dir /tmp/ckpt --learning_rate 0.001 --dropout_rate 0.05 --export_dir /tmp/train --lm_binary_path data/smoke_test/vocab.pruned.lm --lm_trie_path data/smoke_test/vocab.trie --audio_sample_rate 16000\n",
            "WARNING:tensorflow:Entity <function entry_to_features at 0x7ff41654c378> could not be transformed and will be executed as-is. Please report this to the AutoGraph team. When filing the bug, set the verbosity to 10 (on Linux, `export AUTOGRAPH_VERBOSITY=10`) and attach the full output. Cause: Bad argument number for Name: 3, expecting 4\n",
            "W0422 15:47:08.528968 140687998502784 ag_logging.py:146] Entity <function entry_to_features at 0x7ff41654c378> could not be transformed and will be executed as-is. Please report this to the AutoGraph team. When filing the bug, set the verbosity to 10 (on Linux, `export AUTOGRAPH_VERBOSITY=10`) and attach the full output. Cause: Bad argument number for Name: 3, expecting 4\n",
            "WARNING:tensorflow:Entity <function create_dataset.<locals>.batch_fn at 0x7ff4177c10d0> could not be transformed and will be executed as-is. Please report this to the AutoGraph team. When filing the bug, set the verbosity to 10 (on Linux, `export AUTOGRAPH_VERBOSITY=10`) and attach the full output. Cause: Bad argument number for Name: 3, expecting 4\n",
            "W0422 15:47:08.571780 140687998502784 ag_logging.py:146] Entity <function create_dataset.<locals>.batch_fn at 0x7ff4177c10d0> could not be transformed and will be executed as-is. Please report this to the AutoGraph team. When filing the bug, set the verbosity to 10 (on Linux, `export AUTOGRAPH_VERBOSITY=10`) and attach the full output. Cause: Bad argument number for Name: 3, expecting 4\n",
            "WARNING:tensorflow:From /tensorflow-1.15.2/python3.6/tensorflow_core/python/data/ops/iterator_ops.py:347: Iterator.output_types (from tensorflow.python.data.ops.iterator_ops) is deprecated and will be removed in a future version.\n",
            "Instructions for updating:\n",
            "Use `tf.compat.v1.data.get_output_types(iterator)`.\n",
            "W0422 15:47:08.603154 140687998502784 deprecation.py:323] From /tensorflow-1.15.2/python3.6/tensorflow_core/python/data/ops/iterator_ops.py:347: Iterator.output_types (from tensorflow.python.data.ops.iterator_ops) is deprecated and will be removed in a future version.\n",
            "Instructions for updating:\n",
            "Use `tf.compat.v1.data.get_output_types(iterator)`.\n",
            "WARNING:tensorflow:From /tensorflow-1.15.2/python3.6/tensorflow_core/python/data/ops/iterator_ops.py:348: Iterator.output_shapes (from tensorflow.python.data.ops.iterator_ops) is deprecated and will be removed in a future version.\n",
            "Instructions for updating:\n",
            "Use `tf.compat.v1.data.get_output_shapes(iterator)`.\n",
            "W0422 15:47:08.603409 140687998502784 deprecation.py:323] From /tensorflow-1.15.2/python3.6/tensorflow_core/python/data/ops/iterator_ops.py:348: Iterator.output_shapes (from tensorflow.python.data.ops.iterator_ops) is deprecated and will be removed in a future version.\n",
            "Instructions for updating:\n",
            "Use `tf.compat.v1.data.get_output_shapes(iterator)`.\n",
            "WARNING:tensorflow:From /tensorflow-1.15.2/python3.6/tensorflow_core/python/data/ops/iterator_ops.py:350: Iterator.output_classes (from tensorflow.python.data.ops.iterator_ops) is deprecated and will be removed in a future version.\n",
            "Instructions for updating:\n",
            "Use `tf.compat.v1.data.get_output_classes(iterator)`.\n",
            "W0422 15:47:08.603713 140687998502784 deprecation.py:323] From /tensorflow-1.15.2/python3.6/tensorflow_core/python/data/ops/iterator_ops.py:350: Iterator.output_classes (from tensorflow.python.data.ops.iterator_ops) is deprecated and will be removed in a future version.\n",
            "Instructions for updating:\n",
            "Use `tf.compat.v1.data.get_output_classes(iterator)`.\n",
            "WARNING:tensorflow:Entity <function entry_to_features at 0x7ff41654c378> could not be transformed and will be executed as-is. Please report this to the AutoGraph team. When filing the bug, set the verbosity to 10 (on Linux, `export AUTOGRAPH_VERBOSITY=10`) and attach the full output. Cause: Bad argument number for Name: 3, expecting 4\n",
            "W0422 15:47:08.640186 140687998502784 ag_logging.py:146] Entity <function entry_to_features at 0x7ff41654c378> could not be transformed and will be executed as-is. Please report this to the AutoGraph team. When filing the bug, set the verbosity to 10 (on Linux, `export AUTOGRAPH_VERBOSITY=10`) and attach the full output. Cause: Bad argument number for Name: 3, expecting 4\n",
            "WARNING:tensorflow:Entity <function create_dataset.<locals>.batch_fn at 0x7ff41663dc80> could not be transformed and will be executed as-is. Please report this to the AutoGraph team. When filing the bug, set the verbosity to 10 (on Linux, `export AUTOGRAPH_VERBOSITY=10`) and attach the full output. Cause: Bad argument number for Name: 3, expecting 4\n",
            "W0422 15:47:08.673033 140687998502784 ag_logging.py:146] Entity <function create_dataset.<locals>.batch_fn at 0x7ff41663dc80> could not be transformed and will be executed as-is. Please report this to the AutoGraph team. When filing the bug, set the verbosity to 10 (on Linux, `export AUTOGRAPH_VERBOSITY=10`) and attach the full output. Cause: Bad argument number for Name: 3, expecting 4\n",
            "WARNING:tensorflow:\n",
            "The TensorFlow contrib module will not be included in TensorFlow 2.0.\n",
            "For more information, please see:\n",
            "  * https://github.com/tensorflow/community/blob/master/rfcs/20180907-contrib-sunset.md\n",
            "  * https://github.com/tensorflow/addons\n",
            "  * https://github.com/tensorflow/io (for I/O related ops)\n",
            "If you depend on functionality not listed there, please file an issue.\n",
            "\n",
            "W0422 15:47:08.805429 140687998502784 lazy_loader.py:50] \n",
            "The TensorFlow contrib module will not be included in TensorFlow 2.0.\n",
            "For more information, please see:\n",
            "  * https://github.com/tensorflow/community/blob/master/rfcs/20180907-contrib-sunset.md\n",
            "  * https://github.com/tensorflow/addons\n",
            "  * https://github.com/tensorflow/io (for I/O related ops)\n",
            "If you depend on functionality not listed there, please file an issue.\n",
            "\n",
            "WARNING:tensorflow:From /tensorflow-1.15.2/python3.6/tensorflow_core/contrib/rnn/python/ops/lstm_ops.py:597: Layer.add_variable (from tensorflow.python.keras.engine.base_layer) is deprecated and will be removed in a future version.\n",
            "Instructions for updating:\n",
            "Please use `layer.add_weight` method instead.\n",
            "W0422 15:47:08.808222 140687998502784 deprecation.py:323] From /tensorflow-1.15.2/python3.6/tensorflow_core/contrib/rnn/python/ops/lstm_ops.py:597: Layer.add_variable (from tensorflow.python.keras.engine.base_layer) is deprecated and will be removed in a future version.\n",
            "Instructions for updating:\n",
            "Please use `layer.add_weight` method instead.\n",
            "WARNING:tensorflow:From DeepSpeech.py:237: where (from tensorflow.python.ops.array_ops) is deprecated and will be removed in a future version.\n",
            "Instructions for updating:\n",
            "Use tf.where in 2.0, which has the same broadcast rule as np.where\n",
            "W0422 15:47:08.994899 140687998502784 deprecation.py:323] From DeepSpeech.py:237: where (from tensorflow.python.ops.array_ops) is deprecated and will be removed in a future version.\n",
            "Instructions for updating:\n",
            "Use tf.where in 2.0, which has the same broadcast rule as np.where\n",
            "INFO:tensorflow:Restoring parameters from /tmp/ckpt/train-6\n",
            "I0422 15:47:09.732405 140687998502784 saver.py:1284] Restoring parameters from /tmp/ckpt/train-6\n",
            "I Restored variables from most recent checkpoint at /tmp/ckpt/train-6, step 6\n",
            "I STARTING Optimization\n",
            "I Training epoch 0...\n",
            "I Finished training epoch 0 - loss: 178.370758\n",
            "I Validating epoch 0 on ./data/smoke_test/ldc93s1.csv...\n",
            "I Finished validating epoch 0 on ./data/smoke_test/ldc93s1.csv - loss: 179.422852\n",
            "I Saved new best validating model with loss 179.422852 to: /tmp/ckpt/best_dev-7\n",
            "I Training epoch 1...\n",
            "I Finished training epoch 1 - loss: 178.015854\n",
            "WARNING:tensorflow:From /tensorflow-1.15.2/python3.6/tensorflow_core/python/training/saver.py:963: remove_checkpoint (from tensorflow.python.training.checkpoint_management) is deprecated and will be removed in a future version.\n",
            "Instructions for updating:\n",
            "Use standard file APIs to delete files with this prefix.\n",
            "W0422 15:47:12.595620 140687998502784 deprecation.py:323] From /tensorflow-1.15.2/python3.6/tensorflow_core/python/training/saver.py:963: remove_checkpoint (from tensorflow.python.training.checkpoint_management) is deprecated and will be removed in a future version.\n",
            "Instructions for updating:\n",
            "Use standard file APIs to delete files with this prefix.\n",
            "I Validating epoch 1 on ./data/smoke_test/ldc93s1.csv...\n",
            "I Finished validating epoch 1 on ./data/smoke_test/ldc93s1.csv - loss: 176.364166\n",
            "I Saved new best validating model with loss 176.364166 to: /tmp/ckpt/best_dev-8\n",
            "I FINISHED optimization in 0:00:03.063751\n",
            "WARNING:tensorflow:Entity <function entry_to_features at 0x7ff41654c378> could not be transformed and will be executed as-is. Please report this to the AutoGraph team. When filing the bug, set the verbosity to 10 (on Linux, `export AUTOGRAPH_VERBOSITY=10`) and attach the full output. Cause: Bad argument number for Name: 3, expecting 4\n",
            "W0422 15:47:12.972192 140687998502784 ag_logging.py:146] Entity <function entry_to_features at 0x7ff41654c378> could not be transformed and will be executed as-is. Please report this to the AutoGraph team. When filing the bug, set the verbosity to 10 (on Linux, `export AUTOGRAPH_VERBOSITY=10`) and attach the full output. Cause: Bad argument number for Name: 3, expecting 4\n",
            "WARNING:tensorflow:Entity <function create_dataset.<locals>.batch_fn at 0x7ff4165c4488> could not be transformed and will be executed as-is. Please report this to the AutoGraph team. When filing the bug, set the verbosity to 10 (on Linux, `export AUTOGRAPH_VERBOSITY=10`) and attach the full output. Cause: Bad argument number for Name: 3, expecting 4\n",
            "W0422 15:47:13.006811 140687998502784 ag_logging.py:146] Entity <function create_dataset.<locals>.batch_fn at 0x7ff4165c4488> could not be transformed and will be executed as-is. Please report this to the AutoGraph team. When filing the bug, set the verbosity to 10 (on Linux, `export AUTOGRAPH_VERBOSITY=10`) and attach the full output. Cause: Bad argument number for Name: 3, expecting 4\n",
            "INFO:tensorflow:Restoring parameters from /tmp/ckpt/best_dev-8\n",
            "I0422 15:47:13.212437 140687998502784 saver.py:1284] Restoring parameters from /tmp/ckpt/best_dev-8\n",
            "I Restored variables from best validation checkpoint at /tmp/ckpt/best_dev-8, step 8\n",
            "Testing model on ./data/smoke_test/ldc93s1.csv\n",
            "I Test epoch...\n",
            "Test on ./data/smoke_test/ldc93s1.csv - WER: 1.000000, CER: 1.000000, loss: 176.364166\n",
            "--------------------------------------------------------------------------------\n",
            "WER: 1.000000, CER: 1.000000, loss: 176.364166\n",
            " - wav: file:///root/ds/data/smoke_test/LDC93S1.wav\n",
            " - src: \"she had your dark suit in greasy wash water all year\"\n",
            " - res: \"\"\n",
            "--------------------------------------------------------------------------------\n",
            "I Exporting the model...\n",
            "WARNING:tensorflow:From DeepSpeech.py:714: The name tf.nn.rnn_cell.LSTMStateTuple is deprecated. Please use tf.compat.v1.nn.rnn_cell.LSTMStateTuple instead.\n",
            "\n",
            "W0422 15:47:13.796391 140687998502784 module_wrapper.py:139] From DeepSpeech.py:714: The name tf.nn.rnn_cell.LSTMStateTuple is deprecated. Please use tf.compat.v1.nn.rnn_cell.LSTMStateTuple instead.\n",
            "\n",
            "WARNING:tensorflow:From /tensorflow-1.15.2/python3.6/tensorflow_core/python/tools/freeze_graph.py:127: checkpoint_exists (from tensorflow.python.training.checkpoint_management) is deprecated and will be removed in a future version.\n",
            "Instructions for updating:\n",
            "Use standard file APIs to check for files with this prefix.\n",
            "W0422 15:47:13.953450 140687998502784 deprecation.py:323] From /tensorflow-1.15.2/python3.6/tensorflow_core/python/tools/freeze_graph.py:127: checkpoint_exists (from tensorflow.python.training.checkpoint_management) is deprecated and will be removed in a future version.\n",
            "Instructions for updating:\n",
            "Use standard file APIs to check for files with this prefix.\n",
            "INFO:tensorflow:Restoring parameters from /tmp/ckpt/train-8\n",
            "I0422 15:47:13.996284 140687998502784 saver.py:1284] Restoring parameters from /tmp/ckpt/train-8\n",
            "WARNING:tensorflow:From /tensorflow-1.15.2/python3.6/tensorflow_core/python/tools/freeze_graph.py:233: convert_variables_to_constants (from tensorflow.python.framework.graph_util_impl) is deprecated and will be removed in a future version.\n",
            "Instructions for updating:\n",
            "Use `tf.compat.v1.graph_util.convert_variables_to_constants`\n",
            "W0422 15:47:14.028918 140687998502784 deprecation.py:323] From /tensorflow-1.15.2/python3.6/tensorflow_core/python/tools/freeze_graph.py:233: convert_variables_to_constants (from tensorflow.python.framework.graph_util_impl) is deprecated and will be removed in a future version.\n",
            "Instructions for updating:\n",
            "Use `tf.compat.v1.graph_util.convert_variables_to_constants`\n",
            "WARNING:tensorflow:From /tensorflow-1.15.2/python3.6/tensorflow_core/python/framework/graph_util_impl.py:277: extract_sub_graph (from tensorflow.python.framework.graph_util_impl) is deprecated and will be removed in a future version.\n",
            "Instructions for updating:\n",
            "Use `tf.compat.v1.graph_util.extract_sub_graph`\n",
            "W0422 15:47:14.029178 140687998502784 deprecation.py:323] From /tensorflow-1.15.2/python3.6/tensorflow_core/python/framework/graph_util_impl.py:277: extract_sub_graph (from tensorflow.python.framework.graph_util_impl) is deprecated and will be removed in a future version.\n",
            "Instructions for updating:\n",
            "Use `tf.compat.v1.graph_util.extract_sub_graph`\n",
            "INFO:tensorflow:Froze 12 variables.\n",
            "I0422 15:47:14.047344 140687998502784 graph_util_impl.py:334] Froze 12 variables.\n",
            "INFO:tensorflow:Converted 12 variables to const ops.\n",
            "I0422 15:47:14.051217 140687998502784 graph_util_impl.py:394] Converted 12 variables to const ops.\n",
            "I Models exported at /tmp/train\n",
            "+ popd\n",
            "~/DeepSpeech-Italian-Model/DeepSpeech\n"
          ],
          "name": "stdout"
        }
      ]
    },
    {
      "cell_type": "code",
      "metadata": {
        "id": "7GPiNTuPAkPs",
        "colab_type": "code",
        "outputId": "717eddcb-eec0-40b1-ccda-36b9ced3cb53",
        "colab": {
          "base_uri": "https://localhost:8080/",
          "height": 1000
        }
      },
      "source": [
        "!set -xe\n",
        "!./generate_alphabet.sh\n",
        "\n",
        "# !./${MODEL_LANGUAGE}/import_cvit.sh\n",
        "\n",
        "# !./${MODEL_LANGUAGE}/import_m-ailabs.sh\n",
        "%env HOME /root/DeepSpeech-Italian-Model/DeepSpeech\n",
        "!./${MODEL_LANGUAGE}/build_lm.sh\n",
        "%env HOME /root\n",
        "%env BATCH_SIZE 64\n",
        "%env N_HIDDEN 2048\n",
        "%env EPOCHS 30\n",
        "%env LEARNING_RATE 0.0001\n",
        "%env DROPOUT 0.3\n",
        "%env LM_ALPHA 0.65\n",
        "%env LM_BETA 1.45\n",
        "%env BEAM_WIDTH 500\n",
        "%env EARLY_STOP 1\n",
        "%env AMP 1\n",
        "!./${MODEL_LANGUAGE}/train.sh\n",
        "\n",
        "!./${MODEL_LANGUAGE}/evaluate_lm.sh\n",
        "\n",
        "!./package.sh\n"
      ],
      "execution_count": 0,
      "outputs": [
        {
          "output_type": "stream",
          "text": [
            "+ pushd /root/ds/\n",
            "~/ds ~/DeepSpeech-Italian-Model/DeepSpeech\n",
            "+ '[' '!' -f /mnt/models/alphabet.txt ']'\n",
            "+ popd\n",
            "~/DeepSpeech-Italian-Model/DeepSpeech\n",
            "env: HOME=/root/DeepSpeech-Italian-Model/DeepSpeech\n",
            "+ pushd /mnt/extracted\n",
            "/mnt/extracted ~\n",
            "+ '[' '' = 1 ']'\n",
            "+ '[' '!' -f wiki_it_lower.txt ']'\n",
            "+ '[' '' = 1 ']'\n",
            "+ '[' '!' -f /mnt/lm/lm.binary ']'\n",
            "+ cat wiki_it_lower.txt\n",
            "+ python /root/DeepSpeech-Italian-Model/DeepSpeech/counter.py sources_lm.txt top_words.txt 500000\n",
            "Reading sources_lm.txt\n",
            "Ingesting sources_lm.txt: 0\n",
            "Counting sources_lm.txt\n",
            "Writing top_words.txt\n",
            "+ lmplz --order 4 --temp_prefix /mnt/tmp/ --memory 80% --text sources_lm.txt --arpa /mnt/lm/lm.arpa --skip_symbols --prune 0 0 1\n",
            "=== 1/5 Counting and sorting n-grams ===\n",
            "Reading /mnt/extracted/sources_lm.txt\n",
            "----5---10---15---20---25---30---35---40---45---50---55---60---65---70---75---80---85---90---95--100\n",
            "tcmalloc: large alloc 2179538944 bytes == 0x55b3e8e90000 @  0x7f272dc4e1e7 0x55b3e6d669d2 0x55b3e6cfb368 0x55b3e6cda2a0 0x55b3e6cc60d6 0x7f272bde7b97 0x55b3e6cc7b1a\n",
            "tcmalloc: large alloc 8718147584 bytes == 0x55b46ad22000 @  0x7f272dc4e1e7 0x55b3e6d669d2 0x55b3e6d517aa 0x55b3e6d521c8 0x55b3e6cda2bd 0x55b3e6cc60d6 0x7f272bde7b97 0x55b3e6cc7b1a\n",
            "Unigram tokens 0 types 3\n",
            "=== 2/5 Calculating and sorting adjusted counts ===\n",
            "Chain sizes: 1:36 2:1859208320 3:3486015744 4:5577625088\n",
            "tcmalloc: large alloc 5577629696 bytes == 0x55b3e8d8e000 @  0x7f272dc4e1e7 0x55b3e6d669d2 0x55b3e6d517aa 0x55b3e6d521c8 0x55b3e6cda85e 0x55b3e6cc60d6 0x7f272bde7b97 0x55b3e6cc7b1a\n",
            "tcmalloc: large alloc 1859215360 bytes == 0x55b5354d4000 @  0x7f272dc4e1e7 0x55b3e6d669d2 0x55b3e6d517aa 0x55b3e6d521c8 0x55b3e6cdac4d 0x55b3e6cc60d6 0x7f272bde7b97 0x55b3e6cc7b1a\n",
            "tcmalloc: large alloc 3486023680 bytes == 0x55b673004000 @  0x7f272dc4e1e7 0x55b3e6d669d2 0x55b3e6d517aa 0x55b3e6d521c8 0x55b3e6cdac4d 0x55b3e6cc60d6 0x7f272bde7b97 0x55b3e6cc7b1a\n",
            "/root/kenlm/lm/builder/adjust_counts.cc:52 in void lm::builder::{anonymous}::StatCollector::CalculateDiscounts(const lm::builder::DiscountConfig&) threw BadDiscountException because `s.n[j] == 0'.\n",
            "Could not calculate Kneser-Ney discounts for 1-grams with adjusted count 2 because we didn't observe any 1-grams with adjusted count 1; Is this small or artificial data?\n",
            "Try deduplicating the input.  To override this error for e.g. a class-based model, rerun with --discount_fallback\n",
            "\n",
            "./it/build_lm.sh: line 49: 259567 Aborted                 (core dumped) lmplz --order 4 --temp_prefix /mnt/tmp/ --memory 80% --text sources_lm.txt --arpa /mnt/lm/lm.arpa --skip_symbols --prune 0 0 1\n",
            "env: HOME=/root\n",
            "env: BATCH_SIZE=64\n",
            "env: N_HIDDEN=2048\n",
            "env: EPOCHS=30\n",
            "env: LEARNING_RATE=0.0001\n",
            "env: DROPOUT=0.3\n",
            "env: LM_ALPHA=0.65\n",
            "env: LM_BETA=1.45\n",
            "env: BEAM_WIDTH=500\n",
            "env: EARLY_STOP=1\n",
            "env: AMP=1\n",
            "+ pushd /root/ds/\n",
            "~/ds ~/DeepSpeech-Italian-Model/DeepSpeech\n",
            "++ find /mnt/extracted/data/ -type f -name '*train.csv' -printf %p,\n",
            "++ sed -e 's/,$//g'\n",
            "+ all_train_csv=/mnt/extracted/data/M-AILABS/it_IT/it_IT_train.csv,/mnt/extracted/data/cv-it/clips/train.csv\n",
            "++ find /mnt/extracted/data/ -type f -name '*dev.csv' -printf %p,\n",
            "++ sed -e 's/,$//g'\n",
            "+ all_dev_csv=/mnt/extracted/data/M-AILABS/it_IT/it_IT_dev.csv,/mnt/extracted/data/cv-it/clips/dev.csv\n",
            "++ find /mnt/extracted/data/ -type f -name '*test.csv' -printf %p,\n",
            "++ sed -e 's/,$//g'\n",
            "+ all_test_csv=/mnt/extracted/data/M-AILABS/it_IT/it_IT_test.csv,/mnt/extracted/data/cv-it/clips/test.csv\n",
            "+ mkdir -p /mnt/sources/feature_cache\n",
            "+ '[' -f /transfer-checkpoint/checkpoint -a '!' -f /mnt/models/output_graph.pb ']'\n",
            "+ '[' '!' -f /mnt/checkpoints/best_dev_checkpoint ']'\n",
            "+ EARLY_STOP_FLAG=--early_stop\n",
            "+ '[' 1 = 0 ']'\n",
            "+ AMP_FLAG=\n",
            "+ '[' 1 = 1 ']'\n",
            "+ AMP_FLAG='--automatic_mixed_precision True'\n",
            "+ python -u DeepSpeech.py --show_progressbar True --use_cudnn_rnn True --automatic_mixed_precision True --alphabet_config_path /mnt/models/alphabet.txt --lm_binary_path /mnt/lm/lm.binary --lm_trie_path /mnt/lm/trie --feature_cache /mnt/sources/feature_cache --train_files /mnt/extracted/data/M-AILABS/it_IT/it_IT_train.csv,/mnt/extracted/data/cv-it/clips/train.csv --dev_files /mnt/extracted/data/M-AILABS/it_IT/it_IT_dev.csv,/mnt/extracted/data/cv-it/clips/dev.csv --test_files /mnt/extracted/data/M-AILABS/it_IT/it_IT_test.csv,/mnt/extracted/data/cv-it/clips/test.csv --train_batch_size 64 --dev_batch_size 64 --test_batch_size 64 --n_hidden 2048 --epochs 30 --learning_rate 0.0001 --dropout_rate 0.3 --lm_alpha 0.65 --lm_beta 1.45 --early_stop --checkpoint_dir /mnt/checkpoints/\n",
            "WARNING:tensorflow:Entity <function entry_to_features at 0x7f4832c8c378> could not be transformed and will be executed as-is. Please report this to the AutoGraph team. When filing the bug, set the verbosity to 10 (on Linux, `export AUTOGRAPH_VERBOSITY=10`) and attach the full output. Cause: Bad argument number for Name: 3, expecting 4\n",
            "W0422 15:49:37.724851 139949741434752 ag_logging.py:146] Entity <function entry_to_features at 0x7f4832c8c378> could not be transformed and will be executed as-is. Please report this to the AutoGraph team. When filing the bug, set the verbosity to 10 (on Linux, `export AUTOGRAPH_VERBOSITY=10`) and attach the full output. Cause: Bad argument number for Name: 3, expecting 4\n",
            "WARNING:tensorflow:Entity <function create_dataset.<locals>.batch_fn at 0x7f47dbe8f598> could not be transformed and will be executed as-is. Please report this to the AutoGraph team. When filing the bug, set the verbosity to 10 (on Linux, `export AUTOGRAPH_VERBOSITY=10`) and attach the full output. Cause: Bad argument number for Name: 3, expecting 4\n",
            "W0422 15:49:37.767401 139949741434752 ag_logging.py:146] Entity <function create_dataset.<locals>.batch_fn at 0x7f47dbe8f598> could not be transformed and will be executed as-is. Please report this to the AutoGraph team. When filing the bug, set the verbosity to 10 (on Linux, `export AUTOGRAPH_VERBOSITY=10`) and attach the full output. Cause: Bad argument number for Name: 3, expecting 4\n",
            "WARNING:tensorflow:From /tensorflow-1.15.2/python3.6/tensorflow_core/python/data/ops/iterator_ops.py:347: Iterator.output_types (from tensorflow.python.data.ops.iterator_ops) is deprecated and will be removed in a future version.\n",
            "Instructions for updating:\n",
            "Use `tf.compat.v1.data.get_output_types(iterator)`.\n",
            "W0422 15:49:37.798506 139949741434752 deprecation.py:323] From /tensorflow-1.15.2/python3.6/tensorflow_core/python/data/ops/iterator_ops.py:347: Iterator.output_types (from tensorflow.python.data.ops.iterator_ops) is deprecated and will be removed in a future version.\n",
            "Instructions for updating:\n",
            "Use `tf.compat.v1.data.get_output_types(iterator)`.\n",
            "WARNING:tensorflow:From /tensorflow-1.15.2/python3.6/tensorflow_core/python/data/ops/iterator_ops.py:348: Iterator.output_shapes (from tensorflow.python.data.ops.iterator_ops) is deprecated and will be removed in a future version.\n",
            "Instructions for updating:\n",
            "Use `tf.compat.v1.data.get_output_shapes(iterator)`.\n",
            "W0422 15:49:37.798782 139949741434752 deprecation.py:323] From /tensorflow-1.15.2/python3.6/tensorflow_core/python/data/ops/iterator_ops.py:348: Iterator.output_shapes (from tensorflow.python.data.ops.iterator_ops) is deprecated and will be removed in a future version.\n",
            "Instructions for updating:\n",
            "Use `tf.compat.v1.data.get_output_shapes(iterator)`.\n",
            "WARNING:tensorflow:From /tensorflow-1.15.2/python3.6/tensorflow_core/python/data/ops/iterator_ops.py:350: Iterator.output_classes (from tensorflow.python.data.ops.iterator_ops) is deprecated and will be removed in a future version.\n",
            "Instructions for updating:\n",
            "Use `tf.compat.v1.data.get_output_classes(iterator)`.\n",
            "W0422 15:49:37.799037 139949741434752 deprecation.py:323] From /tensorflow-1.15.2/python3.6/tensorflow_core/python/data/ops/iterator_ops.py:350: Iterator.output_classes (from tensorflow.python.data.ops.iterator_ops) is deprecated and will be removed in a future version.\n",
            "Instructions for updating:\n",
            "Use `tf.compat.v1.data.get_output_classes(iterator)`.\n",
            "WARNING:tensorflow:Entity <function entry_to_features at 0x7f4832c8c378> could not be transformed and will be executed as-is. Please report this to the AutoGraph team. When filing the bug, set the verbosity to 10 (on Linux, `export AUTOGRAPH_VERBOSITY=10`) and attach the full output. Cause: Bad argument number for Name: 3, expecting 4\n",
            "W0422 15:49:39.147572 139949741434752 ag_logging.py:146] Entity <function entry_to_features at 0x7f4832c8c378> could not be transformed and will be executed as-is. Please report this to the AutoGraph team. When filing the bug, set the verbosity to 10 (on Linux, `export AUTOGRAPH_VERBOSITY=10`) and attach the full output. Cause: Bad argument number for Name: 3, expecting 4\n",
            "WARNING:tensorflow:Entity <function create_dataset.<locals>.batch_fn at 0x7f47dae37e18> could not be transformed and will be executed as-is. Please report this to the AutoGraph team. When filing the bug, set the verbosity to 10 (on Linux, `export AUTOGRAPH_VERBOSITY=10`) and attach the full output. Cause: Bad argument number for Name: 3, expecting 4\n",
            "W0422 15:49:39.179527 139949741434752 ag_logging.py:146] Entity <function create_dataset.<locals>.batch_fn at 0x7f47dae37e18> could not be transformed and will be executed as-is. Please report this to the AutoGraph team. When filing the bug, set the verbosity to 10 (on Linux, `export AUTOGRAPH_VERBOSITY=10`) and attach the full output. Cause: Bad argument number for Name: 3, expecting 4\n",
            "WARNING:tensorflow:Entity <function entry_to_features at 0x7f4832c8c378> could not be transformed and will be executed as-is. Please report this to the AutoGraph team. When filing the bug, set the verbosity to 10 (on Linux, `export AUTOGRAPH_VERBOSITY=10`) and attach the full output. Cause: Bad argument number for Name: 3, expecting 4\n",
            "W0422 15:49:40.858698 139949741434752 ag_logging.py:146] Entity <function entry_to_features at 0x7f4832c8c378> could not be transformed and will be executed as-is. Please report this to the AutoGraph team. When filing the bug, set the verbosity to 10 (on Linux, `export AUTOGRAPH_VERBOSITY=10`) and attach the full output. Cause: Bad argument number for Name: 3, expecting 4\n",
            "WARNING:tensorflow:Entity <function create_dataset.<locals>.batch_fn at 0x7f4832c51b70> could not be transformed and will be executed as-is. Please report this to the AutoGraph team. When filing the bug, set the verbosity to 10 (on Linux, `export AUTOGRAPH_VERBOSITY=10`) and attach the full output. Cause: Bad argument number for Name: 3, expecting 4\n",
            "W0422 15:49:40.891613 139949741434752 ag_logging.py:146] Entity <function create_dataset.<locals>.batch_fn at 0x7f4832c51b70> could not be transformed and will be executed as-is. Please report this to the AutoGraph team. When filing the bug, set the verbosity to 10 (on Linux, `export AUTOGRAPH_VERBOSITY=10`) and attach the full output. Cause: Bad argument number for Name: 3, expecting 4\n",
            "I Enabling automatic mixed precision training.\n",
            "WARNING:tensorflow:From /tensorflow-1.15.2/python3.6/tensorflow_core/python/ops/resource_variable_ops.py:1630: calling BaseResourceVariable.__init__ (from tensorflow.python.ops.resource_variable_ops) with constraint is deprecated and will be removed in a future version.\n",
            "Instructions for updating:\n",
            "If using Keras pass *_constraint arguments to layers.\n",
            "W0422 15:49:40.927474 139949741434752 deprecation.py:506] From /tensorflow-1.15.2/python3.6/tensorflow_core/python/ops/resource_variable_ops.py:1630: calling BaseResourceVariable.__init__ (from tensorflow.python.ops.resource_variable_ops) with constraint is deprecated and will be removed in a future version.\n",
            "Instructions for updating:\n",
            "If using Keras pass *_constraint arguments to layers.\n",
            "WARNING:tensorflow:\n",
            "The TensorFlow contrib module will not be included in TensorFlow 2.0.\n",
            "For more information, please see:\n",
            "  * https://github.com/tensorflow/community/blob/master/rfcs/20180907-contrib-sunset.md\n",
            "  * https://github.com/tensorflow/addons\n",
            "  * https://github.com/tensorflow/io (for I/O related ops)\n",
            "If you depend on functionality not listed there, please file an issue.\n",
            "\n",
            "W0422 15:49:41.035104 139949741434752 lazy_loader.py:50] \n",
            "The TensorFlow contrib module will not be included in TensorFlow 2.0.\n",
            "For more information, please see:\n",
            "  * https://github.com/tensorflow/community/blob/master/rfcs/20180907-contrib-sunset.md\n",
            "  * https://github.com/tensorflow/addons\n",
            "  * https://github.com/tensorflow/io (for I/O related ops)\n",
            "If you depend on functionality not listed there, please file an issue.\n",
            "\n",
            "WARNING:tensorflow:From /tensorflow-1.15.2/python3.6/tensorflow_core/contrib/cudnn_rnn/python/layers/cudnn_rnn.py:342: calling GlorotUniform.__init__ (from tensorflow.python.ops.init_ops) with dtype is deprecated and will be removed in a future version.\n",
            "Instructions for updating:\n",
            "Call initializer instance with the dtype argument instead of passing it to the constructor\n",
            "W0422 15:49:41.038364 139949741434752 deprecation.py:506] From /tensorflow-1.15.2/python3.6/tensorflow_core/contrib/cudnn_rnn/python/layers/cudnn_rnn.py:342: calling GlorotUniform.__init__ (from tensorflow.python.ops.init_ops) with dtype is deprecated and will be removed in a future version.\n",
            "Instructions for updating:\n",
            "Call initializer instance with the dtype argument instead of passing it to the constructor\n",
            "WARNING:tensorflow:From /tensorflow-1.15.2/python3.6/tensorflow_core/contrib/cudnn_rnn/python/layers/cudnn_rnn.py:345: calling Constant.__init__ (from tensorflow.python.ops.init_ops) with dtype is deprecated and will be removed in a future version.\n",
            "Instructions for updating:\n",
            "Call initializer instance with the dtype argument instead of passing it to the constructor\n",
            "W0422 15:49:41.038821 139949741434752 deprecation.py:506] From /tensorflow-1.15.2/python3.6/tensorflow_core/contrib/cudnn_rnn/python/layers/cudnn_rnn.py:345: calling Constant.__init__ (from tensorflow.python.ops.init_ops) with dtype is deprecated and will be removed in a future version.\n",
            "Instructions for updating:\n",
            "Call initializer instance with the dtype argument instead of passing it to the constructor\n",
            "WARNING:tensorflow:From DeepSpeech.py:237: where (from tensorflow.python.ops.array_ops) is deprecated and will be removed in a future version.\n",
            "Instructions for updating:\n",
            "Use tf.where in 2.0, which has the same broadcast rule as np.where\n",
            "W0422 15:49:41.173233 139949741434752 deprecation.py:323] From DeepSpeech.py:237: where (from tensorflow.python.ops.array_ops) is deprecated and will be removed in a future version.\n",
            "Instructions for updating:\n",
            "Use tf.where in 2.0, which has the same broadcast rule as np.where\n",
            "WARNING:tensorflow:From /tensorflow-1.15.2/python3.6/tensorflow_core/python/training/slot_creator.py:193: Variable.initialized_value (from tensorflow.python.ops.variables) is deprecated and will be removed in a future version.\n",
            "Instructions for updating:\n",
            "Use Variable.read_value. Variables in 2.X are initialized automatically both in eager and graph (inside tf.defun) contexts.\n",
            "W0422 15:49:41.808070 139949741434752 deprecation.py:323] From /tensorflow-1.15.2/python3.6/tensorflow_core/python/training/slot_creator.py:193: Variable.initialized_value (from tensorflow.python.ops.variables) is deprecated and will be removed in a future version.\n",
            "Instructions for updating:\n",
            "Use Variable.read_value. Variables in 2.X are initialized automatically both in eager and graph (inside tf.defun) contexts.\n",
            "I Initializing variables...\n",
            "I STARTING Optimization\n",
            "Epoch 0 |   Training | Elapsed Time: 0:20:03 | Steps: 538 | Loss: 101.625066    "
          ],
          "name": "stdout"
        }
      ]
    },
    {
      "cell_type": "code",
      "metadata": {
        "id": "G29W4SeHRvz1",
        "colab_type": "code",
        "colab": {
          "base_uri": "https://localhost:8080/",
          "height": 1000
        },
        "outputId": "5b3ea7fa-ce42-4b86-8620-8d55711edc0d"
      },
      "source": [
        "  # !find / -type f -size +5M -exec ls -lh {} \\;"
      ],
      "execution_count": 27,
      "outputs": [
        {
          "output_type": "stream",
          "text": [
            "-rw-r--r-- 1 root root 18M Apr 26  2018 /var/lib/apt/lists/archive.ubuntu.com_ubuntu_dists_bionic_universe_binary-amd64_Packages.lz4\n",
            "-rw-r--r-- 1 root root 27M Apr  3 16:19 /var/lib/dkms/nvidia/440.64.00/4.15.0-91-generic/x86_64/module/nvidia.ko\n",
            "-rw-r--r-- 1 root root 26M Feb 26 16:16 /usr/lib/x86_64-linux-gnu/libnvidia-eglcore.so.440.64.00\n",
            "-rw-r--r-- 9 root root 19M Feb 19 05:09 /usr/lib/x86_64-linux-gnu/dri/swrast_dri.so\n",
            "-rw-r--r-- 5 root root 12M Feb 19 05:09 /usr/lib/x86_64-linux-gnu/dri/radeon_dri.so\n",
            "-rw-r--r-- 9 root root 19M Feb 19 05:09 /usr/lib/x86_64-linux-gnu/dri/iris_dri.so\n",
            "-rw-r--r-- 9 root root 19M Feb 19 05:09 /usr/lib/x86_64-linux-gnu/dri/r300_dri.so\n",
            "-rw-r--r-- 5 root root 12M Feb 19 05:09 /usr/lib/x86_64-linux-gnu/dri/nouveau_vieux_dri.so\n",
            "-rw-r--r-- 9 root root 19M Feb 19 05:09 /usr/lib/x86_64-linux-gnu/dri/kms_swrast_dri.so\n",
            "-rw-r--r-- 9 root root 19M Feb 19 05:09 /usr/lib/x86_64-linux-gnu/dri/r600_dri.so\n",
            "-rw-r--r-- 5 root root 12M Feb 19 05:09 /usr/lib/x86_64-linux-gnu/dri/r200_dri.so\n",
            "-rw-r--r-- 5 root root 12M Feb 19 05:09 /usr/lib/x86_64-linux-gnu/dri/i965_dri.so\n",
            "-rw-r--r-- 9 root root 19M Feb 19 05:09 /usr/lib/x86_64-linux-gnu/dri/nouveau_dri.so\n",
            "-rw-r--r-- 9 root root 19M Feb 19 05:09 /usr/lib/x86_64-linux-gnu/dri/vmwgfx_dri.so\n",
            "-rw-r--r-- 5 root root 12M Feb 19 05:09 /usr/lib/x86_64-linux-gnu/dri/i915_dri.so\n",
            "-rw-r--r-- 9 root root 19M Feb 19 05:09 /usr/lib/x86_64-linux-gnu/dri/virtio_gpu_dri.so\n",
            "-rw-r--r-- 9 root root 19M Feb 19 05:09 /usr/lib/x86_64-linux-gnu/dri/radeonsi_dri.so\n",
            "-rw-r--r-- 1 root root 16M Feb 26 16:17 /usr/lib/x86_64-linux-gnu/libcuda.so.440.64.00\n",
            "-rw-r--r-- 1 root root 67M Jan 31 16:26 /usr/lib/x86_64-linux-gnu/libLLVM-9.so.1\n",
            "-rw-r--r-- 1 root root 7.7M Aug 13  2017 /usr/lib/x86_64-linux-gnu/libhdf5_serial.a\n",
            "-rw-r--r-- 1 root root 8.5M Feb 26 16:07 /usr/lib/x86_64-linux-gnu/libnvidia-ptxjitcompiler.so.440.64.00\n",
            "-rw-r--r-- 1 root root 6.3M Feb  7 15:41 /usr/lib/x86_64-linux-gnu/libQt5Widgets.so.5.9.5\n",
            "-rw-r--r-- 1 root root 7.1M Jun  5  2019 /usr/lib/x86_64-linux-gnu/libgtk-3.so.0.2200.30\n",
            "-rw-r--r-- 1 root root 5.6M Nov 17  2016 /usr/lib/x86_64-linux-gnu/libspatialite.so.7.1.0\n",
            "-rw-r--r-- 1 root root 5.5M Sep 20  2018 /usr/lib/x86_64-linux-gnu/libopencv_imgproc.a\n",
            "-rw-r--r-- 1 root root 8.9M Feb 10 16:12 /usr/lib/x86_64-linux-gnu/ceph/libceph-common.so.0\n",
            "-rw-r--r-- 1 root root 6.4M Feb 26 16:11 /usr/lib/x86_64-linux-gnu/nvidia-440/xorg/nvidia_drv.so\n",
            "-rw-r--r-- 1 root root 13M Feb 26 16:08 /usr/lib/x86_64-linux-gnu/nvidia-440/xorg/libglxserver_nvidia.so.440.64.00\n",
            "-rw-r--r-- 1 root root 32M Feb 26 16:16 /usr/lib/x86_64-linux-gnu/libnvidia-rtcore.so.440.64.00\n",
            "-rw-r--r-- 1 root root 6.6M Sep 19  2017 /usr/lib/x86_64-linux-gnu/openblas/liblapack.so.3\n",
            "-rw-r--r-- 1 root root 59M Apr  5  2018 /usr/lib/x86_64-linux-gnu/libLLVM-6.0.so.1\n",
            "-rw-r--r-- 1 root root 5.2M Nov 12 16:58 /usr/lib/x86_64-linux-gnu/libcrypto.a\n",
            "-rw-r--r-- 1 root root 7.4M Sep 13  2017 /usr/lib/x86_64-linux-gnu/libatlas.a\n",
            "-rw-r--r-- 1 root root 33M Sep 19  2017 /usr/lib/x86_64-linux-gnu/libopenblasp-r0.2.20.so\n",
            "-rw-r--r-- 1 root root 11M Dec 31  2017 /usr/lib/x86_64-linux-gnu/libx265.so.146\n",
            "-rw-r--r-- 1 root root 91M Feb 26 16:17 /usr/lib/x86_64-linux-gnu/libnvoptix.so.440.64.00\n",
            "-rw-r--r-- 1 root root 19M Apr 24  2019 /usr/lib/x86_64-linux-gnu/libavcodec.a\n",
            "-rw-r--r-- 1 root root 26M Mar 16 18:45 /usr/lib/x86_64-linux-gnu/libicudata.a\n",
            "-rw-r--r-- 1 root root 13M Sep 13  2017 /usr/lib/x86_64-linux-gnu/atlas/liblapack.a\n",
            "-rw-r--r-- 1 root root 6.8M Sep 13  2017 /usr/lib/x86_64-linux-gnu/atlas/liblapack.so.3.10.3\n",
            "-rw-r--r-- 1 root root 8.3M Sep 13  2017 /usr/lib/x86_64-linux-gnu/atlas/libblas.a\n",
            "-rw-r--r-- 1 root root 5.3M Feb  7 15:41 /usr/lib/x86_64-linux-gnu/libQt5Core.so.5.9.5\n",
            "-rw-r--r-- 1 root root 48M Feb 26 16:15 /usr/lib/x86_64-linux-gnu/libnvidia-compiler.so.440.64.00\n",
            "-rw-r--r-- 1 root root 14M Apr 24  2019 /usr/lib/x86_64-linux-gnu/libavcodec.so.57.107.100\n",
            "-rw-r--r-- 1 root root 26M Mar 16 18:45 /usr/lib/x86_64-linux-gnu/libicudata.so.60.2\n",
            "-rw-r--r-- 1 root root 51M Sep 19  2017 /usr/lib/x86_64-linux-gnu/libopenblasp-r0.2.20.a\n",
            "-rw-r--r-- 1 root root 11M Feb 26 16:14 /usr/lib/x86_64-linux-gnu/libnvidia-glvkspirv.so.440.64.00\n",
            "-rw-r--r-- 1 root root 27M Apr  5  2018 /usr/lib/x86_64-linux-gnu/libclang-6.0.so.1\n",
            "-rw-r--r-- 1 root root 12M Nov 28  2017 /usr/lib/x86_64-linux-gnu/lapack/liblapack.a\n",
            "-rw-r--r-- 1 root root 6.7M Nov 28  2017 /usr/lib/x86_64-linux-gnu/lapack/liblapack.so.3.7.1\n",
            "-rw-r--r-- 1 root root 5.4M Feb  7 15:41 /usr/lib/x86_64-linux-gnu/libQt5Gui.so.5.9.5\n",
            "-rw-r--r-- 1 root root 28M Feb 26 16:16 /usr/lib/x86_64-linux-gnu/libnvidia-glcore.so.440.64.00\n",
            "-rw-r--r-- 1 root root 5.9M Mar 16 18:45 /usr/lib/x86_64-linux-gnu/libicui18n.a\n",
            "-rw-r--r-- 1 root root 28M Feb 26 16:17 /usr/lib/x86_64-linux-gnu/libnvidia-opencl.so.440.64.00\n",
            "-rw-r--r-- 1 root root 409M Oct 27 21:49 /usr/lib/x86_64-linux-gnu/libcudnn.so.7.6.5\n",
            "-rw-r--r-- 1 root root 386M Oct 27 21:49 /usr/lib/x86_64-linux-gnu/libcudnn_static_v7.a\n",
            "-rw-r--r-- 1 root root 6.0M Apr 16  2018 /usr/lib/x86_64-linux-gnu/libpthread.a\n",
            "-rw-r--r-- 1 root root 72M Aug  9  2019 /usr/lib/x86_64-linux-gnu/libcublas_static.a\n",
            "-rw-r--r-- 1 root root 32M Aug  9  2019 /usr/lib/x86_64-linux-gnu/libcublasLt_static.a\n",
            "-rw-r--r-- 1 root root 5.3M Apr 16  2018 /usr/lib/x86_64-linux-gnu/libc.a\n",
            "-rw-r--r-- 1 root root 106M Jul 12  2019 /usr/lib/x86_64-linux-gnu/libnccl_static.a\n",
            "-rw-r--r-- 1 root root 105M Jul 12  2019 /usr/lib/x86_64-linux-gnu/libnccl.so.2.4.8\n",
            "-rw-r--r-- 1 root root 60M Aug  9  2019 /usr/lib/x86_64-linux-gnu/libcublas.so.10.2.1.243\n",
            "-rw-r--r-- 1 root root 29M Aug  9  2019 /usr/lib/x86_64-linux-gnu/libcublasLt.so.10.2.1.243\n",
            "-rwxr-xr-x 1 root root 23M Dec  4 14:25 /usr/lib/gcc/x86_64-linux-gnu/7/cc1\n",
            "-rwxr-xr-x 1 root root 22M Dec  4 14:25 /usr/lib/gcc/x86_64-linux-gnu/7/lto1\n",
            "-rwxr-xr-x 1 root root 25M Dec  4 14:25 /usr/lib/gcc/x86_64-linux-gnu/7/cc1plus\n",
            "-rwxr-xr-x 1 root root 24M Dec  4 14:25 /usr/lib/gcc/x86_64-linux-gnu/7/f951\n",
            "-rw-r--r-- 1 root root 20M Nov  7 10:07 /usr/lib/python2.7/config-x86_64-linux-gnu/libpython2.7.a\n",
            "-rw-r--r-- 1 root root 20M Nov  7 10:07 /usr/lib/python2.7/config-x86_64-linux-gnu/libpython2.7-pic.a\n",
            "-rw-r--r-- 1 root root 36M Nov  7 10:44 /usr/lib/python3.6/config-3.6m-x86_64-linux-gnu/libpython3.6m-pic.a\n",
            "-rw-r--r-- 1 root root 37M Nov  7 10:44 /usr/lib/python3.6/config-3.6m-x86_64-linux-gnu/libpython3.6m.a\n",
            "-rwxr-xr-x 1 root root 35M Apr  5  2018 /usr/lib/llvm-6.0/bin/clang\n",
            "-rw-r--r-- 1 root root 16M Feb  6  2018 /usr/lib/libgdal.so.20.3.2\n",
            "-rw-r--r-- 1 root root 135M Jan 15 15:14 /usr/lib/jvm/java-11-openjdk-amd64/lib/modules\n",
            "-rw-r--r-- 1 root root 18M Jan 15 15:14 /usr/lib/jvm/java-11-openjdk-amd64/lib/server/libjvm.so\n",
            "-r--r--r-- 1 root root 18M Apr  3 16:16 /usr/lib/jvm/java-11-openjdk-amd64/lib/server/classes.jsa\n",
            "-rw-r--r-- 1 root root 14M Jan 17 23:41 /usr/lib/jvm/java-8-openjdk-amd64/jre/lib/amd64/server/libjvm.so\n",
            "-r--r--r-- 1 root root 20M Apr  3 16:19 /usr/lib/jvm/java-8-openjdk-amd64/jre/lib/amd64/server/classes.jsa\n",
            "-rw-r--r-- 1 root root 63M Jan 17 23:41 /usr/lib/jvm/java-8-openjdk-amd64/jre/lib/rt.jar\n",
            "-rw-r--r-- 1 root root 18M Jan 17 23:41 /usr/lib/jvm/java-8-openjdk-amd64/lib/tools.jar\n",
            "-rw-r--r-- 1 root root 17M Jan 17 23:41 /usr/lib/jvm/java-8-openjdk-amd64/lib/ct.sym\n",
            "-rwxr-xr-x 1 root root 50M Jan 26  2018 /usr/bin/pandoc\n",
            "-rwxr-xr-x 1 root root 5.1M Jul 13  2019 /usr/bin/cmake\n",
            "-rwxr-xr-x 1 root root 5.4M Jul 13  2019 /usr/bin/cpack\n",
            "-rwxr-xr-x 1 root root 6.3M Jul 13  2019 /usr/bin/ctest\n",
            "-rwxr-xr-x 1 root staff 23M Apr 22 09:32 /usr/local/lib/python3.6/dist-packages/ds_ctcdecoder/_swigwrapper.cpython-36m-x86_64-linux-gnu.so\n",
            "-rwxr-xr-x 1 root staff 15M Apr 20 16:13 /usr/local/lib/python3.6/dist-packages/cmake/data/bin/cmake\n",
            "-rwxr-xr-x 1 root staff 15M Apr 20 16:13 /usr/local/lib/python3.6/dist-packages/cmake/data/bin/cpack\n",
            "-rwxr-xr-x 1 root staff 16M Apr 20 16:13 /usr/local/lib/python3.6/dist-packages/cmake/data/bin/ctest\n",
            "-rw-r--r-- 1 root staff 50M Apr 20 16:18 /usr/local/lib/python3.6/dist-packages/bokeh/server/static/js/compiler.json\n",
            "-rw-r--r-- 1 root staff 8.0M Apr 20 16:18 /usr/local/lib/python3.6/dist-packages/bokeh/server/static/js/bokeh-es6.json\n",
            "-rw-r--r-- 1 root staff 9.3M Apr 20 16:18 /usr/local/lib/python3.6/dist-packages/bokeh/server/static/js/bokeh.json\n",
            "-rw-r--r-- 1 root staff 19M Apr 20 16:18 /usr/local/lib/python3.6/dist-packages/bokeh/server/static/js/compiler.js.map\n",
            "-rw-r--r-- 1 root staff 17M Apr 20 16:18 /usr/local/lib/python3.6/dist-packages/bokeh/server/static/js/compiler.js\n",
            "-rwxr-xr-x 1 root staff 17M Apr 20 16:16 /usr/local/lib/python3.6/dist-packages/torch/lib/libtorch_python.so\n",
            "-rwxr-xr-x 1 root staff 21M Apr 20 16:16 /usr/local/lib/python3.6/dist-packages/torch/lib/libnvrtc-5e8a26c9.so.10.1\n",
            "-rwxr-xr-x 1 root staff 1.3G Apr 20 16:16 /usr/local/lib/python3.6/dist-packages/torch/lib/libtorch.so\n",
            "-rwxr-xr-x 1 root staff 13M Apr 20 16:15 /usr/local/lib/python3.6/dist-packages/cv2/.libs/libQtGui-903938cd.so.4.8.7\n",
            "-rwxr-xr-x 1 root staff 13M Apr 20 16:15 /usr/local/lib/python3.6/dist-packages/cv2/.libs/libavcodec-3cdd3bd4.so.58.62.100\n",
            "-rwxr-xr-x 1 root staff 40M Apr 20 16:15 /usr/local/lib/python3.6/dist-packages/cv2/cv2.cpython-36m-x86_64-linux-gnu.so\n",
            "-rw-r--r-- 1 root staff 57M Apr 20 16:15 /usr/local/lib/python3.6/dist-packages/nibabel/nicom/tests/data/4d_multiframe_test.dcm\n",
            "-rwxr-xr-x 1 root staff 51M Apr 20 16:16 /usr/local/lib/python3.6/dist-packages/tensorflow/lite/python/optimize/_tensorflow_lite_wrap_calibration_wrapper.so\n",
            "-rwxr-xr-x 1 root staff 856M Apr 20 16:16 /usr/local/lib/python3.6/dist-packages/tensorflow/python/_pywrap_tensorflow_internal.so\n",
            "-rwxr-xr-x 1 root staff 7.0M Apr 20 16:16 /usr/local/lib/python3.6/dist-packages/tensorflow/python/_pywrap_tfcompile.so\n",
            "-rwxr-xr-x 1 root staff 7.4M Apr 20 16:16 /usr/local/lib/python3.6/dist-packages/tensorflow/python/profiler/internal/_pywrap_profiler.so\n",
            "-rwxr-xr-x 1 root staff 36M Apr 20 16:16 /usr/local/lib/python3.6/dist-packages/tensorflow/libtensorflow_framework.so.2\n",
            "-rw-r--r-- 1 root staff 11M Apr 20 16:19 /usr/local/lib/python3.6/dist-packages/jieba/lac_small/model_baseline/word_emb\n",
            "-rw-r--r-- 1 root staff 6.0M Apr 20 16:19 /usr/local/lib/python3.6/dist-packages/jieba/analyse/idf.txt\n",
            "-rwxr-xr-x 1 root staff 12M Apr 20 16:16 /usr/local/lib/python3.6/dist-packages/torchvision/_C.so\n",
            "-rwxr-xr-x 1 root staff 5.2M Apr 20 16:15 /usr/local/lib/python3.6/dist-packages/ptvsd/_vendored/pydevd/pydevd_attach_to_process/inject_dll_x86.pdb\n",
            "-rwxr-xr-x 1 root staff 147M Apr 20 16:14 /usr/local/lib/python3.6/dist-packages/ideep4py/lib/libmklml_intel.so\n",
            "-rwxr-xr-x 1 root staff 6.7M Apr 20 16:14 /usr/local/lib/python3.6/dist-packages/ideep4py/lib/libmkldnn.so\n",
            "-rwxr-xr-x 1 root staff 6.7M Apr 20 16:14 /usr/local/lib/python3.6/dist-packages/ideep4py/lib/libmkldnn.so.0.14.0\n",
            "-rwxr-xr-x 1 root staff 6.7M Apr 20 16:14 /usr/local/lib/python3.6/dist-packages/ideep4py/lib/libmkldnn.so.0\n",
            "-rwxr-xr-x 1 root staff 11M Apr 20 16:14 /usr/local/lib/python3.6/dist-packages/ideep4py/_ideep4py.cpython-36m-x86_64-linux-gnu.so\n",
            "-rwxr-xr-x 1 root staff 6.5M Apr 20 16:14 /usr/local/lib/python3.6/dist-packages/lxml/etree.cpython-36m-x86_64-linux-gnu.so\n",
            "-rwxr-xr-x 1 root staff 37M Apr 20 16:13 /usr/local/lib/python3.6/dist-packages/cvxopt.libs/libopenblasp-r0-39a31c03.2.18.so\n",
            "-rwxr-xr-x 1 root staff 29M Apr 20 16:15 /usr/local/lib/python3.6/dist-packages/numpy/.libs/libopenblasp-r0-34a18dc3.3.7.so\n",
            "-rwxr-xr-x 1 root staff 21M Apr 20 16:15 /usr/local/lib/python3.6/dist-packages/numpy/core/_multiarray_umath.cpython-36m-x86_64-linux-gnu.so\n",
            "-rwxr-xr-x 1 root staff 19M Apr 20 16:15 /usr/local/lib/python3.6/dist-packages/pyarrow/libarrow.so\n",
            "-rwxr-xr-x 1 root staff 52M Apr 20 16:15 /usr/local/lib/python3.6/dist-packages/pyarrow/libgandiva.so.14\n",
            "-rw-r--r-- 1 root staff 6.5M Apr 20 16:15 /usr/local/lib/python3.6/dist-packages/pyarrow/lib.cpp\n",
            "-rwxr-xr-x 1 root staff 19M Apr 20 16:15 /usr/local/lib/python3.6/dist-packages/pyarrow/libarrow.so.14\n",
            "-rwxr-xr-x 1 root staff 8.4M Apr 20 16:15 /usr/local/lib/python3.6/dist-packages/pyarrow/libarrow_flight.so.14\n",
            "-rwxr-xr-x 1 root staff 8.4M Apr 20 16:15 /usr/local/lib/python3.6/dist-packages/pyarrow/libarrow_flight.so\n",
            "-rwxr-xr-x 1 root staff 52M Apr 20 16:15 /usr/local/lib/python3.6/dist-packages/pyarrow/libgandiva.so\n",
            "-rwxr-xr-x 1 root staff 5.9M Apr 20 16:13 /usr/local/lib/python3.6/dist-packages/blis/py.cpython-36m-x86_64-linux-gnu.so\n",
            "-rwxr-xr-x 1 root staff 5.7M Apr 20 16:13 /usr/local/lib/python3.6/dist-packages/blis/cy.cpython-36m-x86_64-linux-gnu.so\n",
            "-rwxr-xr-x 1 root staff 7.3M Apr 20 16:15 /usr/local/lib/python3.6/dist-packages/shapely/.libs/libgeos--no-undefined-fab82081.so\n",
            "-rwxr-xr-x 1 root staff 130M Apr 20 16:13 /usr/local/lib/python3.6/dist-packages/cupy/.data/lib/libnccl.so.2\n",
            "-rwxr-xr-x 1 root staff 410M Apr 20 16:13 /usr/local/lib/python3.6/dist-packages/cupy/.data/lib/libcudnn.so.7\n",
            "-rwxr-xr-x 1 root staff 42M Apr 20 16:13 /usr/local/lib/python3.6/dist-packages/cupy/cuda/thrust.cpython-36m-x86_64-linux-gnu.so\n",
            "-rwxr-xr-x 1 root staff 12M Apr 20 16:14 /usr/local/lib/python3.6/dist-packages/dlib.cpython-36m-x86_64-linux-gnu.so\n",
            "-rw-r--r-- 1 root staff 6.4M Apr 20 16:14 /usr/local/lib/python3.6/dist-packages/grpc/_cython/cygrpc.cpython-36m-x86_64-linux-gnu.so\n",
            "-rwxr-xr-x 1 root staff 64M Apr 20 16:14 /usr/local/lib/python3.6/dist-packages/llvmlite/binding/libllvmlite.so\n",
            "-rw-r--r-- 1 root staff 31M Apr 20 16:23 /usr/local/lib/python3.6/dist-packages/fbprophet/stan_model/prophet_model.pkl\n",
            "-rwxr-xr-x 1 root staff 29M Apr 20 16:11 /usr/local/lib/python3.6/dist-packages/scipy/.libs/libopenblasp-r0-34a18dc3.3.7.so\n",
            "-rwxr-xr-x 1 root staff 139M Apr 20 16:16 /usr/local/lib/python3.6/dist-packages/xgboost/lib/libxgboost.so\n",
            "-rwxr-xr-x 1 root staff 120M Apr 20 16:14 /usr/local/lib/python3.6/dist-packages/jaxlib/xla_extension.so\n",
            "-rwxr-xr-x 1 root staff 14M Apr 20 16:14 /usr/local/lib/python3.6/dist-packages/jaxlib/tpu_client_extension.so\n",
            "-rwxr-xr-x 1 root staff 230M Apr 20 16:11 /usr/local/lib/python3.6/dist-packages/pystan/_api.cpython-36m-x86_64-linux-gnu.so\n",
            "-rwxr-xr-x 1 root staff 5.6M Apr 20 16:18 /usr/local/lib/python3.6/dist-packages/_cvxcore.cpython-36m-x86_64-linux-gnu.so\n",
            "-rwxr-xr-x 1 root staff 37M Apr 20 16:24 /usr/local/lib/python2.7/dist-packages/cvxopt/.libs/libopenblasp-r0-39a31c03.2.18.so\n",
            "-rw-r--r-- 1 root staff 30M Apr 20 16:31 /usr/local/lib/python2.7/dist-packages/music21/corpus/_metadataCache/core.json\n",
            "-rwxr-xr-x 1 root staff 15M Apr 20 16:24 /usr/local/lib/python2.7/dist-packages/cmake/data/bin/cmake\n",
            "-rwxr-xr-x 1 root staff 15M Apr 20 16:24 /usr/local/lib/python2.7/dist-packages/cmake/data/bin/cpack\n",
            "-rwxr-xr-x 1 root staff 16M Apr 20 16:24 /usr/local/lib/python2.7/dist-packages/cmake/data/bin/ctest\n",
            "-rw-r--r-- 1 root staff 12M Apr 20 16:28 /usr/local/lib/python2.7/dist-packages/bokeh/server/static/js/compiler.js.map\n",
            "-rw-r--r-- 1 root staff 11M Apr 20 16:28 /usr/local/lib/python2.7/dist-packages/bokeh/server/static/js/compiler.js\n",
            "-rw-r--r-- 1 root staff 7.2M Apr 20 16:25 /usr/local/lib/python2.7/dist-packages/plotlywidget/static/index.js\n",
            "-rw-r--r-- 1 root staff 8.7M Apr 20 16:25 /usr/local/lib/python2.7/dist-packages/plotlywidget/static/index.js.map\n",
            "-rwxr-xr-x 1 root staff 17M Apr 20 16:27 /usr/local/lib/python2.7/dist-packages/torch/lib/libtorch_python.so\n",
            "-rwxr-xr-x 1 root staff 21M Apr 20 16:27 /usr/local/lib/python2.7/dist-packages/torch/lib/libnvrtc-5e8a26c9.so.10.1\n",
            "-rwxr-xr-x 1 root staff 1.3G Apr 20 16:27 /usr/local/lib/python2.7/dist-packages/torch/lib/libtorch.so\n",
            "-rwxr-xr-x 1 root staff 13M Apr 20 16:25 /usr/local/lib/python2.7/dist-packages/cv2/.libs/libavcodec-eac15e48.so.58.21.104\n",
            "-rwxr-xr-x 1 root staff 13M Apr 20 16:25 /usr/local/lib/python2.7/dist-packages/cv2/.libs/libQtGui-6d0f14dd.so.4.8.7\n",
            "-rwxr-xr-x 1 root staff 35M Apr 20 16:25 /usr/local/lib/python2.7/dist-packages/cv2/cv2.so\n",
            "-rw-r--r-- 1 root staff 57M Apr 20 16:25 /usr/local/lib/python2.7/dist-packages/nibabel/nicom/tests/data/4d_multiframe_test.dcm\n",
            "-rw-r--r-- 1 root staff 5.8M Apr 20 16:31 /usr/local/lib/python2.7/dist-packages/pretty_midi/TimGM6mb.sf2\n",
            "-rw-r--r-- 1 root staff 6.0M Apr 20 16:30 /usr/local/lib/python2.7/dist-packages/jieba/analyse/idf.txt\n",
            "-rwxr-xr-x 1 root staff 5.4M Apr 20 16:25 /usr/local/lib/python2.7/dist-packages/pyproj/.libs/libsqlite3-6697a98e.so.0.8.6\n",
            "-rwxr-xr-x 1 root staff 6.4M Apr 20 16:25 /usr/local/lib/python2.7/dist-packages/pyproj/.libs/libproj-1b1cfd8e.so.15.1.0\n",
            "-rwxr-xr-x 1 root staff 20M Apr 20 16:26 /usr/local/lib/python2.7/dist-packages/tensorflow_core/lite/python/optimize/_tensorflow_lite_wrap_calibration_wrapper.so\n",
            "-rwxr-xr-x 1 root staff 857M Apr 20 16:26 /usr/local/lib/python2.7/dist-packages/tensorflow_core/python/_pywrap_tensorflow_internal.so\n",
            "-rwxr-xr-x 1 root staff 33M Apr 20 16:26 /usr/local/lib/python2.7/dist-packages/tensorflow_core/libtensorflow_framework.so.2\n",
            "-rwxr-xr-x 1 root staff 12M Apr 20 16:27 /usr/local/lib/python2.7/dist-packages/torchvision/_C.so\n",
            "-rwxr-xr-x 1 root staff 82M Apr 20 16:24 /usr/local/lib/python2.7/dist-packages/fiona/.libs/libgdal-4f7ad13d.so.20.4.2\n",
            "-rwxr-xr-x 1 root staff 147M Apr 20 16:24 /usr/local/lib/python2.7/dist-packages/ideep4py/lib/libmklml_intel.so\n",
            "-rwxr-xr-x 1 root staff 6.7M Apr 20 16:24 /usr/local/lib/python2.7/dist-packages/ideep4py/lib/libmkldnn.so\n",
            "-rwxr-xr-x 1 root staff 6.7M Apr 20 16:24 /usr/local/lib/python2.7/dist-packages/ideep4py/lib/libmkldnn.so.0.14.0\n",
            "-rwxr-xr-x 1 root staff 6.7M Apr 20 16:24 /usr/local/lib/python2.7/dist-packages/ideep4py/lib/libmkldnn.so.0\n",
            "-rwxr-xr-x 1 root staff 11M Apr 20 16:24 /usr/local/lib/python2.7/dist-packages/ideep4py/_ideep4py.so\n",
            "-rwxr-xr-x 1 root staff 6.4M Apr 20 16:25 /usr/local/lib/python2.7/dist-packages/lxml/etree.so\n",
            "-rwxr-xr-x 1 root staff 29M Apr 20 16:12 /usr/local/lib/python2.7/dist-packages/numpy/.libs/libopenblasp-r0-2ecf47d5.3.7.dev.so\n",
            "-rwxr-xr-x 1 root staff 19M Apr 20 16:12 /usr/local/lib/python2.7/dist-packages/numpy/core/_multiarray_umath.so\n",
            "-rw-r--r-- 1 root staff 6.5M Apr 20 16:25 /usr/local/lib/python2.7/dist-packages/pyarrow/lib.cpp\n",
            "-rwxr-xr-x 1 root staff 18M Apr 20 16:25 /usr/local/lib/python2.7/dist-packages/pyarrow/libarrow.so.14\n",
            "-rwxr-xr-x 1 root staff 5.5M Apr 20 16:24 /usr/local/lib/python2.7/dist-packages/blis/py.so\n",
            "-rwxr-xr-x 1 root staff 5.4M Apr 20 16:24 /usr/local/lib/python2.7/dist-packages/blis/cy.so\n",
            "-rwxr-xr-x 1 root staff 12M Apr 20 16:24 /usr/local/lib/python2.7/dist-packages/dlib.so\n",
            "-rwxr-xr-x 1 root staff 130M Apr 20 16:24 /usr/local/lib/python2.7/dist-packages/cupy/_lib/libnccl.so.2\n",
            "-rwxr-xr-x 1 root staff 382M Apr 20 16:24 /usr/local/lib/python2.7/dist-packages/cupy/_lib/libcudnn.so.7\n",
            "-rwxr-xr-x 1 root staff 5.7M Apr 20 16:24 /usr/local/lib/python2.7/dist-packages/cupy/core/core.so\n",
            "-rwxr-xr-x 1 root staff 42M Apr 20 16:24 /usr/local/lib/python2.7/dist-packages/cupy/cuda/thrust.so\n",
            "-rw-r--r-- 1 root staff 12M Apr 20 16:34 /usr/local/lib/python2.7/dist-packages/spacy/lang/de/lemmatizer.pyc\n",
            "-rw-r--r-- 1 root staff 12M Apr 20 16:26 /usr/local/lib/python2.7/dist-packages/spacy/lang/de/lemmatizer.py\n",
            "-rw-r--r-- 1 root staff 18M Apr 20 16:33 /usr/local/lib/python2.7/dist-packages/spacy/lang/ca/lemmatizer.pyc\n",
            "-rw-r--r-- 1 root staff 18M Apr 20 16:26 /usr/local/lib/python2.7/dist-packages/spacy/lang/ca/lemmatizer.py\n",
            "-rw-r--r-- 1 root staff 42M Apr 20 16:35 /usr/local/lib/python2.7/dist-packages/spacy/lang/tr/lemmatizer.pyc\n",
            "-rw-r--r-- 1 root staff 40M Apr 20 16:26 /usr/local/lib/python2.7/dist-packages/spacy/lang/tr/lemmatizer.py\n",
            "-rw-r--r-- 1 root staff 7.1M Apr 20 16:34 /usr/local/lib/python2.7/dist-packages/spacy/lang/fr/lemmatizer/lookup.pyc\n",
            "-rw-r--r-- 1 root staff 6.5M Apr 20 16:26 /usr/local/lib/python2.7/dist-packages/spacy/lang/fr/lemmatizer/lookup.py\n",
            "-rw-r--r-- 1 root staff 18M Apr 20 16:26 /usr/local/lib/python2.7/dist-packages/spacy/lang/nb/lemmatizer/_nouns_wordforms.py\n",
            "-rw-r--r-- 1 root staff 17M Apr 20 16:34 /usr/local/lib/python2.7/dist-packages/spacy/lang/nb/lemmatizer/_nouns_wordforms.pyc\n",
            "-rw-r--r-- 1 root staff 22M Apr 20 16:34 /usr/local/lib/python2.7/dist-packages/spacy/lang/sv/lemmatizer/lookup.pyc\n",
            "-rw-r--r-- 1 root staff 22M Apr 20 16:26 /usr/local/lib/python2.7/dist-packages/spacy/lang/sv/lemmatizer/lookup.py\n",
            "-rw-r--r-- 1 root staff 9.8M Apr 20 16:34 /usr/local/lib/python2.7/dist-packages/spacy/lang/it/lemmatizer.pyc\n",
            "-rw-r--r-- 1 root staff 11M Apr 20 16:26 /usr/local/lib/python2.7/dist-packages/spacy/lang/it/lemmatizer.py\n",
            "-rw-r--r-- 1 root staff 6.5M Apr 20 16:34 /usr/local/lib/python2.7/dist-packages/spacy/lang/lt/lemmatizer.pyc\n",
            "-rw-r--r-- 1 root staff 6.9M Apr 20 16:26 /usr/local/lib/python2.7/dist-packages/spacy/lang/lt/lemmatizer.py\n",
            "-rw-r--r-- 1 root staff 26M Apr 20 16:34 /usr/local/lib/python2.7/dist-packages/spacy/lang/pt/lemmatizer.pyc\n",
            "-rw-r--r-- 1 root staff 25M Apr 20 16:26 /usr/local/lib/python2.7/dist-packages/spacy/lang/pt/lemmatizer.py\n",
            "-rw-r--r-- 1 root staff 19M Apr 20 16:33 /usr/local/lib/python2.7/dist-packages/spacy/lang/da/lemmatizer.pyc\n",
            "-rw-r--r-- 1 root staff 24M Apr 20 16:26 /usr/local/lib/python2.7/dist-packages/spacy/lang/da/lemmatizer.py\n",
            "-rw-r--r-- 1 root staff 15M Apr 20 16:34 /usr/local/lib/python2.7/dist-packages/spacy/lang/es/lemmatizer.pyc\n",
            "-rw-r--r-- 1 root staff 15M Apr 20 16:26 /usr/local/lib/python2.7/dist-packages/spacy/lang/es/lemmatizer.py\n",
            "-rw-r--r-- 1 root staff 7.8M Apr 20 16:34 /usr/local/lib/python2.7/dist-packages/spacy/lang/nl/lemmatizer/lookup.pyc\n",
            "-rw-r--r-- 1 root staff 6.8M Apr 20 16:26 /usr/local/lib/python2.7/dist-packages/spacy/lang/nl/lemmatizer/lookup.py\n",
            "-rw-r--r-- 1 root staff 9.2M Apr 20 16:34 /usr/local/lib/python2.7/dist-packages/spacy/lang/ro/lemmatizer.pyc\n",
            "-rw-r--r-- 1 root staff 9.4M Apr 20 16:26 /usr/local/lib/python2.7/dist-packages/spacy/lang/ro/lemmatizer.py\n",
            "-rwxr-xr-x 1 root staff 26M Apr 20 16:24 /usr/local/lib/python2.7/dist-packages/grpc/_cython/cygrpc.so\n",
            "-rw-r--r-- 1 root staff 64M Apr 20 16:25 /usr/local/lib/python2.7/dist-packages/llvmlite/binding/libllvmlite.so\n",
            "-rw-r--r-- 1 root staff 31M Apr 20 16:30 /usr/local/lib/python2.7/dist-packages/fbprophet/stan_model/prophet_model.pkl\n",
            "-rwxr-xr-x 1 root staff 29M Apr 20 16:26 /usr/local/lib/python2.7/dist-packages/scipy/.libs/libopenblasp-r0-2ecf47d5.3.7.dev.so\n",
            "-rwxr-xr-x 1 root staff 108M Apr 20 16:27 /usr/local/lib/python2.7/dist-packages/xgboost/lib/libxgboost.so\n",
            "-rwxr-xr-x 1 root staff 230M Apr 20 16:26 /usr/local/lib/python2.7/dist-packages/pystan/_api.so\n",
            "-rwxr-xr-x 1 root staff 13M Apr 20 16:25 /usr/local/lib/python2.7/dist-packages/plotly/package_data/gz_2010_us_050_00_500k.shp\n",
            "-rw-r--r-- 1 root staff 17M Apr 20 16:25 /usr/local/lib/python2.7/dist-packages/plotly/package_data/cb_2016_us_county_500k.shp\n",
            "-rwxr-xr-x 1 root root 6.3M Apr 20 16:25 /usr/local/lib/libmkl_rt.so\n",
            "-rwxr-xr-x 1 root root 45M Apr 20 16:25 /usr/local/lib/libmkl_mc.so\n",
            "-rwxr-xr-x 1 root root 7.2M Apr 20 16:25 /usr/local/lib/libmkl_scalapack_ilp64.so\n",
            "-rwxr-xr-x 1 root root 6.5M Apr 20 16:25 /usr/local/lib/libmkl_vml_def.so\n",
            "-rwxr-xr-x 1 root root 11M Apr 20 16:25 /usr/local/lib/libmkl_gf_lp64.so\n",
            "-rwxr-xr-x 1 root root 11M Apr 20 16:25 /usr/local/lib/libmkl_intel_lp64.so\n",
            "-rwxr-xr-x 1 root root 50M Apr 20 16:25 /usr/local/lib/libmkl_avx.so\n",
            "-rwxr-xr-x 1 root root 9.7M Apr 20 16:25 /usr/local/lib/libmkl_gf_ilp64.so\n",
            "-rwxr-xr-x 1 root root 9.7M Apr 20 16:25 /usr/local/lib/libmkl_intel_ilp64.so\n",
            "-rwxr-xr-x 1 root root 65M Apr 20 16:25 /usr/local/lib/libmkl_avx512.so\n",
            "-rwxr-xr-x 1 root root 14M Apr 20 16:25 /usr/local/lib/libmkl_vml_avx512_mic.so\n",
            "-rwxr-xr-x 1 root root 21M Apr 20 16:25 /usr/local/lib/libmkl_sequential.so\n",
            "-rwxr-xr-x 1 root root 66M Apr 20 16:25 /usr/local/lib/libmkl_core.so\n",
            "-rwxr-xr-x 1 root root 24M Apr 20 16:25 /usr/local/lib/libmkl_gnu_thread.so\n",
            "-rwxr-xr-x 1 root root 27M Apr 20 16:25 /usr/local/lib/libmkl_tbb_thread.so\n",
            "-rwxr-xr-x 1 root root 13M Apr 20 16:25 /usr/local/lib/libmkl_vml_avx.so\n",
            "-rwxr-xr-x 1 root root 12M Apr 20 16:25 /usr/local/lib/libmkl_vml_avx512.so\n",
            "-rwxr-xr-x 1 root root 72M Apr 20 16:25 /usr/local/lib/libmkl_avx512_mic.so\n",
            "-rwxr-xr-x 1 root root 39M Apr 20 16:25 /usr/local/lib/libmkl_intel_thread.so\n",
            "-rwxr-xr-x 1 root root 39M Apr 20 16:25 /usr/local/lib/libmkl_def.so\n",
            "-rwxr-xr-x 1 root root 59M Apr 20 16:25 /usr/local/lib/libmkl_avx2.so\n",
            "-rwxr-xr-x 1 root root 7.2M Apr 20 16:25 /usr/local/lib/libmkl_scalapack_lp64.so\n",
            "-rwxr-xr-x 1 root root 6.1M Apr 20 16:25 /usr/local/lib/libmkl_vml_cmpt.so\n",
            "-rwxr-xr-x 1 root root 11M Apr 20 16:25 /usr/local/lib/libmkl_vml_mc3.so\n",
            "-rwxr-xr-x 1 root root 11M Apr 20 16:25 /usr/local/lib/libmkl_vml_mc.so\n",
            "-rwxr-xr-x 1 root root 12M Apr 20 16:25 /usr/local/lib/libmkl_vml_avx2.so\n",
            "-rwxr-xr-x 1 root root 11M Apr 20 16:25 /usr/local/lib/libmkl_vml_mc2.so\n",
            "-rwxr-xr-x 1 root root 38M Apr 20 16:25 /usr/local/lib/libmkl_pgi_thread.so\n",
            "-rwxr-xr-x 1 root root 47M Apr 20 16:25 /usr/local/lib/libmkl_mc3.so\n",
            "-rw-r--r-- 1 root root 7.2M Apr 20 16:25 /usr/local/share/jupyter/nbextensions/plotlywidget/index.js\n",
            "-rw-r--r-- 1 root root 8.7M Apr 20 16:25 /usr/local/share/jupyter/nbextensions/plotlywidget/index.js.map\n",
            "-rwxr-xr-x 1 root root 108M Apr 20 16:27 /usr/local/xgboost/libxgboost.so\n",
            "-rw-r--r-- 1 root root 58M Aug  9  2019 /usr/local/cuda-10.1/targets/x86_64-linux/lib/libcurand_static.a\n",
            "-rw-r--r-- 1 root root 9.7M Aug  9  2019 /usr/local/cuda-10.1/targets/x86_64-linux/lib/libnpps_static.a\n",
            "-rw-r--r-- 1 root root 7.5M Aug  9  2019 /usr/local/cuda-10.1/targets/x86_64-linux/lib/libcuinj64.so.10.1.243\n",
            "-rw-r--r-- 1 root root 95M Aug  9  2019 /usr/local/cuda-10.1/targets/x86_64-linux/lib/libcusolver_static.a\n",
            "-rw-r--r-- 1 root root 180M Aug  9  2019 /usr/local/cuda-10.1/targets/x86_64-linux/lib/libnvgraph_static.a\n",
            "-rw-r--r-- 1 root root 137M Aug  9  2019 /usr/local/cuda-10.1/targets/x86_64-linux/lib/libcufft_static.a\n",
            "-rw-r--r-- 1 root root 6.1M Aug  9  2019 /usr/local/cuda-10.1/targets/x86_64-linux/lib/libnppim_static.a\n",
            "-rw-r--r-- 1 root root 7.2M Aug  9  2019 /usr/local/cuda-10.1/targets/x86_64-linux/lib/liblapack_static.a\n",
            "-rw-r--r-- 1 root root 28M Aug  9  2019 /usr/local/cuda-10.1/targets/x86_64-linux/lib/libnppig_static.a\n",
            "-rw-r--r-- 1 root root 21M Aug  9  2019 /usr/local/cuda-10.1/targets/x86_64-linux/lib/libnppist_static.a\n",
            "-rw-r--r-- 1 root root 143M Aug  9  2019 /usr/local/cuda-10.1/targets/x86_64-linux/lib/libcufft_static_nocallback.a\n",
            "-rw-r--r-- 1 root root 11M Aug  9  2019 /usr/local/cuda-10.1/targets/x86_64-linux/lib/libnppidei_static.a\n",
            "-rw-r--r-- 1 root root 49M Aug  9  2019 /usr/local/cuda-10.1/targets/x86_64-linux/lib/libnppif_static.a\n",
            "-rw-r--r-- 1 root root 7.1M Aug  9  2019 /usr/local/cuda-10.1/targets/x86_64-linux/lib/libaccinj64.so.10.1.243\n",
            "-rw-r--r-- 1 root root 122M Aug  9  2019 /usr/local/cuda-10.1/targets/x86_64-linux/lib/libcusparse_static.a\n",
            "-rw-r--r-- 1 root root 16M Aug  9  2019 /usr/local/cuda-10.1/targets/x86_64-linux/lib/libnppial_static.a\n",
            "-rw-r--r-- 1 root root 7.8M Aug  9  2019 /usr/local/cuda-10.1/targets/x86_64-linux/lib/libnppidei.so.10.2.0.243\n",
            "-rw-r--r-- 1 root root 25M Aug  9  2019 /usr/local/cuda-10.1/targets/x86_64-linux/lib/libnppig.so.10.2.0.243\n",
            "-rw-r--r-- 1 root root 45M Aug  9  2019 /usr/local/cuda-10.1/targets/x86_64-linux/lib/libnppif.so.10.2.0.243\n",
            "-rw-r--r-- 1 root root 132M Aug  9  2019 /usr/local/cuda-10.1/targets/x86_64-linux/lib/libcufft.so.10.1.1.243\n",
            "-rw-r--r-- 1 root root 6.0M Aug  9  2019 /usr/local/cuda-10.1/targets/x86_64-linux/lib/libnppim.so.10.2.0.243\n",
            "-rw-r--r-- 1 root root 8.4M Aug  9  2019 /usr/local/cuda-10.1/targets/x86_64-linux/lib/libnpps.so.10.2.0.243\n",
            "-rw-r--r-- 1 root root 113M Aug  9  2019 /usr/local/cuda-10.1/targets/x86_64-linux/lib/libcusparse.so.10.3.0.243\n",
            "-rw-r--r-- 1 root root 90M Aug  9  2019 /usr/local/cuda-10.1/targets/x86_64-linux/lib/libcusolverMg.so.10.2.0.243\n",
            "-rw-r--r-- 1 root root 12M Aug  9  2019 /usr/local/cuda-10.1/targets/x86_64-linux/lib/libnppial.so.10.2.0.243\n",
            "-rw-r--r-- 1 root root 19M Aug  9  2019 /usr/local/cuda-10.1/targets/x86_64-linux/lib/libnppist.so.10.2.0.243\n",
            "-rw-r--r-- 1 root root 58M Aug  9  2019 /usr/local/cuda-10.1/targets/x86_64-linux/lib/libcurand.so.10.1.1.243\n",
            "-rw-r--r-- 1 root root 169M Aug  9  2019 /usr/local/cuda-10.1/targets/x86_64-linux/lib/libcusolver.so.10.2.0.243\n",
            "-rw-r--r-- 1 root root 155M Aug  9  2019 /usr/local/cuda-10.1/targets/x86_64-linux/lib/libnvgraph.so.10.1.243\n",
            "-rw-r--r-- 1 root root 21M Aug  9  2019 /usr/local/cuda-10.1/targets/x86_64-linux/lib/libnvrtc.so.10.1.243\n",
            "-rw-r--r-- 1 root root 65M Aug  9  2019 /usr/local/cuda-10.1/targets/x86_64-linux/include/sobol_direction_vectors.h\n",
            "-rw-r--r-- 1 root root 7.2M Sep 25  2019 /usr/local/cuda-10.1/compat/libnvidia-ptxjitcompiler.so.418.87.01\n",
            "-rw-r--r-- 1 root root 16M Sep 25  2019 /usr/local/cuda-10.1/compat/libcuda.so.418.87.01\n",
            "-rwxr-xr-x 1 root root 6.3M Aug  9  2019 /usr/local/cuda-10.1/bin/nvlink\n",
            "-rwxr-xr-x 1 root root 6.1M Aug  9  2019 /usr/local/cuda-10.1/bin/ptxas\n",
            "-rwxr-xr-x 1 root root 22M Aug  9  2019 /usr/local/cuda-10.1/bin/nvdisasm\n",
            "-rwxr-xr-x 1 root root 8.5M Aug  9  2019 /usr/local/cuda-10.1/bin/cuda-gdb\n",
            "-rwxr-xr-x 1 root root 9.7M Aug  9  2019 /usr/local/cuda-10.1/bin/nvprof\n",
            "-rw-r--r-- 1 root root 8.1M Aug  9  2019 /usr/local/cuda-10.1/libnvvp/plugins/org.eclipse.platform.doc.user_4.4.1.v20140829-1306.jar\n",
            "-rw-r--r-- 1 root root 11M Aug  9  2019 /usr/local/cuda-10.1/libnvvp/plugins/com.ibm.icu_52.1.0.v201404241930.jar\n",
            "-rw-r--r-- 1 root root 5.4M Aug  9  2019 /usr/local/cuda-10.1/libnvvp/plugins/com.nvidia.pgprof.help.pug_10.1.0.jar\n",
            "-rw-r--r-- 1 root root 5.5M Aug  9  2019 /usr/local/cuda-10.1/libnvvp/plugins/com.nvidia.viper_10.1.0.201907290306.jar\n",
            "-rw-r--r-- 1 root root 5.4M Aug  9  2019 /usr/local/cuda-10.1/libnvvp/plugins/com.nvidia.help.pug_10.1.0.jar\n",
            "-rw-r--r-- 1 root root 5.5M Aug  9  2019 /usr/local/cuda-10.1/libnvvp/plugins/org.eclipse.cdt.ui_5.8.0.nvidia-qualifier.jar\n",
            "-rw-r--r-- 1 root root 9.3M Aug  9  2019 /usr/local/cuda-10.1/extras/CUPTI/lib64/libnvperf_host.so\n",
            "-rw-r--r-- 1 root root 13M Aug  9  2019 /usr/local/cuda-10.1/extras/CUPTI/lib64/libcupti_static.a\n",
            "-rw-r--r-- 1 root root 5.5M Aug  9  2019 /usr/local/cuda-10.1/extras/CUPTI/lib64/libcupti.so.10.1.208\n",
            "-rw-r--r-- 1 root root 15M Aug  9  2019 /usr/local/cuda-10.1/extras/CUPTI/lib64/libnvperf_host_static.a\n",
            "-rwxr-xr-x 1 root root 113M Aug  9  2019 /usr/local/cuda-10.1/nsightee_plugins/com.nvidia.cuda.repo-1.0.0-SNAPSHOT.zip\n",
            "-rw-r--r-- 1 root root 12M Aug  9  2019 /usr/local/cuda-10.1/samples/7_CUDALibraries/common/FreeImage/lib/linux/aarch64/libfreeimage.a\n",
            "-rw-r--r-- 1 root root 12M Aug  9  2019 /usr/local/cuda-10.1/samples/7_CUDALibraries/common/FreeImage/lib/linux/x86_64/libfreeimage.a\n",
            "-rw-r--r-- 1 root root 8.5M Aug  9  2019 /usr/local/cuda-10.1/samples/7_CUDALibraries/common/FreeImage/lib/linux/armv7l/libfreeimage.a\n",
            "-rw-r--r-- 1 root root 13M Aug  9  2019 /usr/local/cuda-10.1/samples/7_CUDALibraries/common/FreeImage/lib/linux/ppc64le/libfreeimage.a\n",
            "-rw-r--r-- 1 root root 8.7M Aug  9  2019 /usr/local/cuda-10.1/samples/7_CUDALibraries/common/FreeImage/lib/darwin/libfreeimage.a\n",
            "-rw-r--r-- 1 root root 5.4M Aug  9  2019 /usr/local/cuda-10.1/samples/common/data/sponge.txt\n",
            "-rw-r--r-- 1 root root 8.1M Aug  9  2019 /usr/local/cuda-10.1/libnsight/plugins/org.eclipse.platform.doc.user_4.4.1.v20140829-1306.jar\n",
            "-rw-r--r-- 1 root root 11M Aug  9  2019 /usr/local/cuda-10.1/libnsight/plugins/com.ibm.icu_52.1.0.v201404241930.jar\n",
            "-rw-r--r-- 1 root root 5.4M Aug  9  2019 /usr/local/cuda-10.1/libnsight/plugins/com.nvidia.help.pug_10.1.0.jar\n",
            "-rw-r--r-- 1 root root 18M Aug  9  2019 /usr/local/cuda-10.1/libnsight/plugins/org.eclipse.cdt.doc.user_5.3.0.201907290258.jar\n",
            "-rw-r--r-- 1 root root 5.5M Aug  9  2019 /usr/local/cuda-10.1/libnsight/plugins/org.eclipse.cdt.ui_5.8.0.nvidia-qualifier.jar\n",
            "-rw-r--r-- 1 root root 5.5M Aug  9  2019 /usr/local/cuda-10.1/libnsight/plugins/com.nvidia.viper_10.1.0.201907290258.jar\n",
            "-rw-r--r-- 1 root root 15M Aug  9  2019 /usr/local/cuda-10.1/nvvm/lib64/libnvvm.so.3.3.0\n",
            "-rwxr-xr-x 1 root root 22M Aug  9  2019 /usr/local/cuda-10.1/nvvm/bin/cicc\n",
            "-rw-r--r-- 1 root root 14M Sep 12  2018 /usr/local/cuda-10.0/nvvm/lib64/libnvvm.so.3.3.0\n",
            "-rwxr-xr-x 1 root root 21M Sep 12  2018 /usr/local/cuda-10.0/nvvm/bin/cicc\n",
            "-rw-r--r-- 1 root root 5.7M Sep 12  2018 /usr/local/cuda-10.0/doc/pdf/CUDA_C_Programming_Guide.pdf\n",
            "-rwxr-xr-x 1 root root 9.6M Sep 12  2018 /usr/local/cuda-10.0/bin/nvlink\n",
            "-rwxr-xr-x 1 root root 9.5M Sep 12  2018 /usr/local/cuda-10.0/bin/ptxas\n",
            "-rwxr-xr-x 1 root root 22M Sep 12  2018 /usr/local/cuda-10.0/bin/nvdisasm\n",
            "-rwxr-xr-x 1 root root 8.5M Sep 12  2018 /usr/local/cuda-10.0/bin/cuda-gdb\n",
            "-rwxr-xr-x 1 root root 12M Sep 12  2018 /usr/local/cuda-10.0/bin/nvprof\n",
            "-rw-r--r-- 1 root root 11M Sep 12  2018 /usr/local/cuda-10.0/targets/x86_64-linux/lib/libnppial.so.10.0.130\n",
            "-rw-r--r-- 1 root root 58M Sep 12  2018 /usr/local/cuda-10.0/targets/x86_64-linux/lib/libcurand_static.a\n",
            "-rw-r--r-- 1 root root 58M Sep 12  2018 /usr/local/cuda-10.0/targets/x86_64-linux/lib/libcurand.so.10.0.130\n",
            "-rw-r--r-- 1 root root 9.2M Sep 12  2018 /usr/local/cuda-10.0/targets/x86_64-linux/lib/libnpps_static.a\n",
            "-rw-r--r-- 1 root root 85M Sep 12  2018 /usr/local/cuda-10.0/targets/x86_64-linux/lib/libnvgraph.so.10.0.130\n",
            "-rw-r--r-- 1 root root 69M Sep 12  2018 /usr/local/cuda-10.0/targets/x86_64-linux/lib/libcusolver_static.a\n",
            "-rw-r--r-- 1 root root 179M Sep 12  2018 /usr/local/cuda-10.0/targets/x86_64-linux/lib/libnvgraph_static.a\n",
            "-rw-r--r-- 1 root root 6.9M Sep 12  2018 /usr/local/cuda-10.0/targets/x86_64-linux/lib/libnppidei.so.10.0.130\n",
            "-rw-r--r-- 1 root root 68M Sep 12  2018 /usr/local/cuda-10.0/targets/x86_64-linux/lib/libcublas.so.10.0.130\n",
            "-rw-r--r-- 1 root root 20M Sep 12  2018 /usr/local/cuda-10.0/targets/x86_64-linux/lib/libnvrtc.so.10.0.130\n",
            "-rw-r--r-- 1 root root 7.1M Sep 12  2018 /usr/local/cuda-10.0/targets/x86_64-linux/lib/libaccinj64.so.10.0.130\n",
            "-rw-r--r-- 1 root root 119M Sep 12  2018 /usr/local/cuda-10.0/targets/x86_64-linux/lib/libcufft_static.a\n",
            "-rw-r--r-- 1 root root 57M Sep 12  2018 /usr/local/cuda-10.0/targets/x86_64-linux/lib/libcusparse.so.10.0.130\n",
            "-rw-r--r-- 1 root root 5.9M Sep 12  2018 /usr/local/cuda-10.0/targets/x86_64-linux/lib/libnppim_static.a\n",
            "-rw-r--r-- 1 root root 13M Sep 12  2018 /usr/local/cuda-10.0/targets/x86_64-linux/lib/liblapack_static.a\n",
            "-rw-r--r-- 1 root root 99M Sep 12  2018 /usr/local/cuda-10.0/targets/x86_64-linux/lib/libcufft.so.10.0.145\n",
            "-rw-r--r-- 1 root root 26M Sep 12  2018 /usr/local/cuda-10.0/targets/x86_64-linux/lib/libnppig_static.a\n",
            "-rw-r--r-- 1 root root 16M Sep 12  2018 /usr/local/cuda-10.0/targets/x86_64-linux/lib/libnppist.so.10.0.130\n",
            "-rw-r--r-- 1 root root 8.1M Sep 12  2018 /usr/local/cuda-10.0/targets/x86_64-linux/lib/libnpps.so.10.0.130\n",
            "-rw-r--r-- 1 root root 46M Sep 12  2018 /usr/local/cuda-10.0/targets/x86_64-linux/lib/libnppif.so.10.0.130\n",
            "-rw-r--r-- 1 root root 6.0M Sep 12  2018 /usr/local/cuda-10.0/targets/x86_64-linux/lib/libnppim.so.10.0.130\n",
            "-rw-r--r-- 1 root root 7.5M Sep 12  2018 /usr/local/cuda-10.0/targets/x86_64-linux/lib/libcuinj64.so.10.0.130\n",
            "-rw-r--r-- 1 root root 133M Sep 12  2018 /usr/local/cuda-10.0/targets/x86_64-linux/lib/libcusolver.so.10.0.130\n",
            "-rw-r--r-- 1 root root 18M Sep 12  2018 /usr/local/cuda-10.0/targets/x86_64-linux/lib/libnppist_static.a\n",
            "-rw-r--r-- 1 root root 24M Sep 12  2018 /usr/local/cuda-10.0/targets/x86_64-linux/lib/libnppig.so.10.0.130\n",
            "-rw-r--r-- 1 root root 105M Sep 12  2018 /usr/local/cuda-10.0/targets/x86_64-linux/lib/libcufft_static_nocallback.a\n",
            "-rw-r--r-- 1 root root 8.8M Sep 12  2018 /usr/local/cuda-10.0/targets/x86_64-linux/lib/libnppidei_static.a\n",
            "-rw-r--r-- 1 root root 49M Sep 12  2018 /usr/local/cuda-10.0/targets/x86_64-linux/lib/libnppif_static.a\n",
            "-rw-r--r-- 1 root root 85M Sep 12  2018 /usr/local/cuda-10.0/targets/x86_64-linux/lib/libcublas_static.a\n",
            "-rw-r--r-- 1 root root 65M Sep 12  2018 /usr/local/cuda-10.0/targets/x86_64-linux/lib/libcusparse_static.a\n",
            "-rw-r--r-- 1 root root 14M Sep 12  2018 /usr/local/cuda-10.0/targets/x86_64-linux/lib/libnppial_static.a\n",
            "-rw-r--r-- 1 root root 65M Sep 12  2018 /usr/local/cuda-10.0/targets/x86_64-linux/include/sobol_direction_vectors.h\n",
            "-rw-r--r-- 1 root root 8.1M Sep 12  2018 /usr/local/cuda-10.0/libnvvp/plugins/org.eclipse.platform.doc.user_4.4.1.v20140829-1306.jar\n",
            "-rw-r--r-- 1 root root 11M Sep 12  2018 /usr/local/cuda-10.0/libnvvp/plugins/com.ibm.icu_52.1.0.v201404241930.jar\n",
            "-rw-r--r-- 1 root root 5.4M Sep 12  2018 /usr/local/cuda-10.0/libnvvp/plugins/com.nvidia.help.pug_10.0.0.jar\n",
            "-rw-r--r-- 1 root root 5.5M Sep 12  2018 /usr/local/cuda-10.0/libnvvp/plugins/com.nvidia.viper_10.0.0.201808260223.jar\n",
            "-rw-r--r-- 1 root root 5.5M Sep 12  2018 /usr/local/cuda-10.0/libnvvp/plugins/org.eclipse.cdt.ui_5.8.0.nvidia-qualifier.jar\n",
            "-rw-r--r-- 1 root root 5.4M Sep 12  2018 /usr/local/cuda-10.0/libnvvp/plugins/com.nvidia.pgprof.help.pug_10.0.0.jar\n",
            "-rw-r--r-- 1 root root 39M Sep 12  2018 /usr/local/cuda-10.0/NsightCompute-1.0/target/linux-desktop-glibc_2_11_3-glx-x64/libcuda-injection.so\n",
            "-rw-r--r-- 1 root root 5.1M Sep 12  2018 /usr/local/cuda-10.0/NsightCompute-1.0/target/linux-desktop-glibc_2_11_3-glx-x64/libcuda-streaming-injection.so\n",
            "-rw-r--r-- 1 root root 33M Sep 12  2018 /usr/local/cuda-10.0/NsightCompute-1.0/target/linux-desktop-glibc_2_11_3-glx-x64/libnvperfapi64.so\n",
            "-rw-r--r-- 1 root root 8.1M Sep 12  2018 /usr/local/cuda-10.0/NsightCompute-1.0/target/linux-desktop-glibc_2_11_3-glx-x64/libnvperf_host.so\n",
            "-rw-r--r-- 1 root root 25M Sep 12  2018 /usr/local/cuda-10.0/NsightCompute-1.0/target/linux-desktop-glibc_2_11_3-glx-x64/libNvSwCounterApi.so\n",
            "-rwxr-xr-x 1 root root 12M Sep 12  2018 /usr/local/cuda-10.0/NsightCompute-1.0/target/linux-desktop-glibc_2_11_3-glx-x64/nv-nsight-cu-cli\n",
            "-rw-r--r-- 1 root root 41M Sep 12  2018 /usr/local/cuda-10.0/NsightCompute-1.0/host/linux-desktop-glibc_2_11_3-glx-x64/Plugins/RebelPlugin/libRebelPlugin.so\n",
            "-rw-r--r-- 1 root root 33M Sep 12  2018 /usr/local/cuda-10.0/NsightCompute-1.0/host/linux-desktop-glibc_2_11_3-glx-x64/Plugins/SassDebuggerPlugin/libSassDebuggerPlugin.so\n",
            "-rw-r--r-- 1 root root 9.8M Sep 12  2018 /usr/local/cuda-10.0/NsightCompute-1.0/host/linux-desktop-glibc_2_11_3-glx-x64/icudtl.dat\n",
            "-rw-r--r-- 1 root root 5.3M Sep 12  2018 /usr/local/cuda-10.0/NsightCompute-1.0/host/linux-desktop-glibc_2_11_3-glx-x64/libQt5Core.so.5\n",
            "-rw-r--r-- 1 root root 5.1M Sep 12  2018 /usr/local/cuda-10.0/NsightCompute-1.0/host/linux-desktop-glibc_2_11_3-glx-x64/libQt5Designer.so.5\n",
            "-rw-r--r-- 1 root root 6.3M Sep 12  2018 /usr/local/cuda-10.0/NsightCompute-1.0/host/linux-desktop-glibc_2_11_3-glx-x64/libQt5Widgets.so.5\n",
            "-rw-r--r-- 1 root root 9.8M Sep 12  2018 /usr/local/cuda-10.0/NsightCompute-1.0/host/linux-desktop-glibc_2_11_3-glx-x64/resources/icudtl.dat\n",
            "-rw-r--r-- 1 root root 7.2M Sep 12  2018 /usr/local/cuda-10.0/NsightCompute-1.0/host/linux-desktop-glibc_2_11_3-glx-x64/resources/qtwebengine_devtools_resources.pak\n",
            "-rw-r--r-- 1 root root 24M Sep 12  2018 /usr/local/cuda-10.0/NsightCompute-1.0/host/linux-desktop-glibc_2_11_3-glx-x64/libicudata.so.56\n",
            "-rw-r--r-- 1 root root 5.9M Sep 12  2018 /usr/local/cuda-10.0/NsightCompute-1.0/host/linux-desktop-glibc_2_11_3-glx-x64/libQt5Gui.so.5\n",
            "-rw-r--r-- 1 root root 100M Sep 12  2018 /usr/local/cuda-10.0/NsightCompute-1.0/host/linux-desktop-glibc_2_11_3-glx-x64/libQt5WebEngineCore.so.5\n",
            "-rw-r--r-- 1 root root 6.0M Sep 12  2018 /usr/local/cuda-10.0/extras/CUPTI/lib64/libcupti.so.10.0.130\n",
            "-rwxr-xr-x 1 root root 113M Sep 12  2018 /usr/local/cuda-10.0/nsightee_plugins/com.nvidia.cuda.repo-1.0.0-SNAPSHOT.zip\n",
            "-rw-r--r-- 1 root root 12M Sep 12  2018 /usr/local/cuda-10.0/samples/7_CUDALibraries/common/FreeImage/lib/linux/aarch64/libfreeimage.a\n",
            "-rw-r--r-- 1 root root 12M Sep 12  2018 /usr/local/cuda-10.0/samples/7_CUDALibraries/common/FreeImage/lib/linux/x86_64/libfreeimage.a\n",
            "-rw-r--r-- 1 root root 8.5M Sep 12  2018 /usr/local/cuda-10.0/samples/7_CUDALibraries/common/FreeImage/lib/linux/armv7l/libfreeimage.a\n",
            "-rw-r--r-- 1 root root 13M Sep 12  2018 /usr/local/cuda-10.0/samples/7_CUDALibraries/common/FreeImage/lib/linux/ppc64le/libfreeimage.a\n",
            "-rw-r--r-- 1 root root 8.7M Sep 12  2018 /usr/local/cuda-10.0/samples/7_CUDALibraries/common/FreeImage/lib/darwin/libfreeimage.a\n",
            "-rw-r--r-- 1 root root 5.4M Sep 12  2018 /usr/local/cuda-10.0/samples/common/data/sponge.txt\n",
            "-rw-r--r-- 1 root root 18M Sep 12  2018 /usr/local/cuda-10.0/libnsight/plugins/org.eclipse.cdt.doc.user_5.3.0.201808260220.jar\n",
            "-rw-r--r-- 1 root root 8.1M Sep 12  2018 /usr/local/cuda-10.0/libnsight/plugins/org.eclipse.platform.doc.user_4.4.1.v20140829-1306.jar\n",
            "-rw-r--r-- 1 root root 11M Sep 12  2018 /usr/local/cuda-10.0/libnsight/plugins/com.ibm.icu_52.1.0.v201404241930.jar\n",
            "-rw-r--r-- 1 root root 5.4M Sep 12  2018 /usr/local/cuda-10.0/libnsight/plugins/com.nvidia.help.pug_10.0.0.jar\n",
            "-rw-r--r-- 1 root root 5.5M Sep 12  2018 /usr/local/cuda-10.0/libnsight/plugins/com.nvidia.viper_10.0.0.201808260220.jar\n",
            "-rw-r--r-- 1 root root 5.5M Sep 12  2018 /usr/local/cuda-10.0/libnsight/plugins/org.eclipse.cdt.ui_5.8.0.nvidia-qualifier.jar\n",
            "-rw-r--r-- 1 root root 7.0M Sep 12  2018 /usr/local/cuda-10.0/libnsight/plugins/com.nvidia.cuda.help_10.0.0.201808260220.jar\n",
            "-rw-r--r-- 1 root root 26M Feb 26 16:26 /usr/src/nvidia-440.64.00/nvidia/nv-kernel.o_binary\n",
            "-rwxr-xr-x 1 root root 48M Apr 20 17:22 /usr/lib64-nvidia/libnvidia-compiler.so.418.67\n",
            "-rwxr-xr-x 1 root root 27M Apr 20 17:22 /usr/lib64-nvidia/libnvidia-glcore.so.418.67\n",
            "-rwxr-xr-x 1 root root 50M Apr 20 17:22 /usr/lib64-nvidia/libnvoptix.so.418.67\n",
            "-rwxr-xr-x 1 root root 7.2M Apr 20 17:22 /usr/lib64-nvidia/libnvidia-ptxjitcompiler.so.418.67\n",
            "-rwxr-xr-x 1 root root 16M Apr 20 17:22 /usr/lib64-nvidia/libcuda.so.418.67\n",
            "-rwxr-xr-x 1 root root 28M Apr 20 17:22 /usr/lib64-nvidia/libnvidia-opencl.so.418.67\n",
            "-rwxr-xr-x 1 root root 25M Apr 20 17:22 /usr/lib64-nvidia/libnvidia-eglcore.so.418.67\n",
            "-rwxr-xr-x 1 root root 27M Apr 20 17:22 /usr/lib64-nvidia/libnvidia-rtcore.so.418.67\n",
            "-rwxr-xr-x 1 root root 14M Apr 20 17:22 /usr/lib64-nvidia/libnvidia-glvkspirv.so.418.67\n",
            "find: ‘/proc/2561/task/2561/fdinfo/6’: No such file or directory\n",
            "find: ‘/proc/2561/fdinfo/5’: No such file or directory\n",
            "-r--r--r-- 1 root root 8.8M Apr  3 16:19 /lib/udev/hwdb.bin\n",
            "-rw-r--r-- 1 root root 27M Apr  3 16:19 /lib/modules/4.15.0-91-generic/updates/dkms/nvidia.ko\n",
            "-r--r--r-- 1 root root 39M Apr 22 09:08 /root/DeepSpeech-Italian-Model/.git/objects/pack/pack-b4fde734bb345f0dd982a8870162d4acb983ff03.pack\n",
            "-r--r--r-- 1 root root 5.5M Apr 22 09:08 /root/kenlm/.git/objects/pack/pack-febcf615a8ddabd99198c8c35f64b1a5f0da6c35.pack\n",
            "-rwxr-xr-x 1 root root 128M Apr 22 09:33 /root/ds/convert_graphdef_memmapped_format\n",
            "-r--r--r-- 1 root root 48M Apr 22 09:32 /root/ds/.git/objects/pack/pack-2bcece9cd4fecba2d7829e1cac3e97363e0b617c.pack\n",
            "-r--r--r-- 1 root root 5.4M Apr 20 16:43 /root/.npm/_cacache/content-v2/sha1/3c/5b/6fd7f6de0914269027f03c0946758f7673a4\n",
            "-r--r--r-- 1 root root 5.7M Apr 20 16:43 /root/.npm/_cacache/content-v2/sha512/af/58/2bbefea6704b7e9e53333163dce67ff3e6af0d36e0568f44c6169d4f05214297ab9b9c0a14181b2e718b276584fb30e267d216b5a6d12399d06801d27e48\n",
            "-rw------- 1 root root 32M Apr 22 09:45 /sys/devices/pci0000:00/0000:00:04.0/resource3_wc\n",
            "-rw------- 1 root root 32M Apr 22 09:45 /sys/devices/pci0000:00/0000:00:04.0/resource3\n",
            "-rw------- 1 root root 16G Apr 22 09:45 /sys/devices/pci0000:00/0000:00:04.0/resource1\n",
            "-rw------- 1 root root 16G Apr 22 09:45 /sys/devices/pci0000:00/0000:00:04.0/resource1_wc\n",
            "-rw------- 1 root root 16M Apr 22 09:45 /sys/devices/pci0000:00/0000:00:04.0/resource0\n",
            "-r-xr-xr-x 1 root root 80M Mar  5 22:17 /opt/google/drive/drive\n",
            "-rw-r--r-- 1 root root 43M Sep 24  2019 /opt/nvidia/nsight-compute/2019.5.0/target/linux-desktop-glibc_2_19_0-ppc64le/libcuda-injection.so\n",
            "-rw-r--r-- 1 root root 34M Sep 24  2019 /opt/nvidia/nsight-compute/2019.5.0/target/linux-desktop-glibc_2_19_0-ppc64le/libnvperfapi64.so\n",
            "-rw-r--r-- 1 root root 9.0M Sep 24  2019 /opt/nvidia/nsight-compute/2019.5.0/target/linux-desktop-glibc_2_19_0-ppc64le/libnvperf_host.so\n",
            "-rw-r--r-- 1 root root 24M Sep 24  2019 /opt/nvidia/nsight-compute/2019.5.0/target/linux-desktop-glibc_2_19_0-ppc64le/libNvSwCounterApi.so\n",
            "-rwxr-xr-x 1 root root 16M Sep 24  2019 /opt/nvidia/nsight-compute/2019.5.0/target/linux-desktop-glibc_2_19_0-ppc64le/nv-nsight-cu-cli\n",
            "-rw-r--r-- 1 root root 40M Sep 24  2019 /opt/nvidia/nsight-compute/2019.5.0/target/linux-desktop-glibc_2_11_3-x64/libcuda-injection.so\n",
            "-rw-r--r-- 1 root root 33M Sep 24  2019 /opt/nvidia/nsight-compute/2019.5.0/target/linux-desktop-glibc_2_11_3-x64/libnvperfapi64.so\n",
            "-rw-r--r-- 1 root root 9.4M Sep 24  2019 /opt/nvidia/nsight-compute/2019.5.0/target/linux-desktop-glibc_2_11_3-x64/libnvperf_host.so\n",
            "-rw-r--r-- 1 root root 25M Sep 24  2019 /opt/nvidia/nsight-compute/2019.5.0/target/linux-desktop-glibc_2_11_3-x64/libNvSwCounterApi.so\n",
            "-rwxr-xr-x 1 root root 14M Sep 24  2019 /opt/nvidia/nsight-compute/2019.5.0/target/linux-desktop-glibc_2_11_3-x64/nv-nsight-cu-cli\n",
            "-rw-r--r-- 1 root root 43M Sep 24  2019 /opt/nvidia/nsight-compute/2019.5.0/host/linux-desktop-glibc_2_11_3-x64/Plugins/RebelPlugin/libRebelPlugin.so\n",
            "-rw-r--r-- 1 root root 35M Sep 24  2019 /opt/nvidia/nsight-compute/2019.5.0/host/linux-desktop-glibc_2_11_3-x64/Plugins/SassDebuggerPlugin/libSassDebuggerPlugin.so\n",
            "-rw-r--r-- 1 root root 5.6M Sep 24  2019 /opt/nvidia/nsight-compute/2019.5.0/host/linux-desktop-glibc_2_11_3-x64/libQt5Core.so.5\n",
            "-rw-r--r-- 1 root root 6.4M Sep 24  2019 /opt/nvidia/nsight-compute/2019.5.0/host/linux-desktop-glibc_2_11_3-x64/libQt5Widgets.so.5\n",
            "-rw-r--r-- 1 root root 7.2M Sep 24  2019 /opt/nvidia/nsight-compute/2019.5.0/host/linux-desktop-glibc_2_11_3-x64/libNvQtGui.so\n",
            "-rw-r--r-- 1 root root 9.8M Sep 24  2019 /opt/nvidia/nsight-compute/2019.5.0/host/linux-desktop-glibc_2_11_3-x64/resources/icudtl.dat\n",
            "-rw-r--r-- 1 root root 8.0M Sep 24  2019 /opt/nvidia/nsight-compute/2019.5.0/host/linux-desktop-glibc_2_11_3-x64/resources/qtwebengine_devtools_resources.pak\n",
            "-rw-r--r-- 1 root root 24M Sep 24  2019 /opt/nvidia/nsight-compute/2019.5.0/host/linux-desktop-glibc_2_11_3-x64/libicudata.so.56\n",
            "-rw-r--r-- 1 root root 6.3M Sep 24  2019 /opt/nvidia/nsight-compute/2019.5.0/host/linux-desktop-glibc_2_11_3-x64/libQt5Gui.so.5\n",
            "-rw-r--r-- 1 root root 5.4M Oct 25 19:53 /opt/nvidia/nsight-systems/2019.5.2/host-linux-x64/libQt5Core.so.5\n",
            "-rw-r--r-- 1 root root 5.1M Oct 25 19:53 /opt/nvidia/nsight-systems/2019.5.2/host-linux-x64/libQt5Designer.so.5\n",
            "-rw-r--r-- 1 root root 6.3M Oct 25 19:53 /opt/nvidia/nsight-systems/2019.5.2/host-linux-x64/libQt5Widgets.so.5\n",
            "-rw-r--r-- 1 root root 9.8M Oct 25 19:31 /opt/nvidia/nsight-systems/2019.5.2/host-linux-x64/resources/icudtl.dat\n",
            "-rw-r--r-- 1 root root 7.3M Oct 25 19:31 /opt/nvidia/nsight-systems/2019.5.2/host-linux-x64/resources/qtwebengine_devtools_resources.pak\n",
            "-rw-r--r-- 1 root root 45M Oct 25 19:31 /opt/nvidia/nsight-systems/2019.5.2/host-linux-x64/libQt5WebKit.so.5\n",
            "-rw-r--r-- 1 root root 15M Oct 25 19:40 /opt/nvidia/nsight-systems/2019.5.2/host-linux-x64/libAnalysis.so\n",
            "-rw-r--r-- 1 root root 24M Oct 25 19:53 /opt/nvidia/nsight-systems/2019.5.2/host-linux-x64/libicudata.so.56\n",
            "-rwxr-xr-x 1 root root 7.1M Oct 25 19:50 /opt/nvidia/nsight-systems/2019.5.2/host-linux-x64/nsys-exporter\n",
            "-rw-r--r-- 1 root root 6.0M Oct 25 19:53 /opt/nvidia/nsight-systems/2019.5.2/host-linux-x64/libQt5Gui.so.5\n",
            "-rw-r--r-- 1 root root 5.3M Oct 25 19:33 /opt/nvidia/nsight-systems/2019.5.2/target-linux-x64/libToolsInjectionCudaInt64_9_1.so\n",
            "-rw-r--r-- 1 root root 6.0M Oct 25 19:30 /opt/nvidia/nsight-systems/2019.5.2/target-linux-x64/libcupti.so.10.0\n",
            "-rw-r--r-- 1 root root 5.5M Oct 25 19:33 /opt/nvidia/nsight-systems/2019.5.2/target-linux-x64/libToolsInjectionCudaInt64_9_2.so\n",
            "-rw-r--r-- 1 root root 5.5M Oct 25 19:30 /opt/nvidia/nsight-systems/2019.5.2/target-linux-x64/libcupti.so.10.2\n",
            "-rw-r--r-- 1 root root 6.5M Oct 25 19:37 /opt/nvidia/nsight-systems/2019.5.2/target-linux-x64/libToolsInjection64.so\n",
            "-rw-r--r-- 1 root root 5.3M Oct 25 19:33 /opt/nvidia/nsight-systems/2019.5.2/target-linux-x64/libToolsInjectionCudaInt64_9_0.so\n",
            "-rw-r--r-- 1 root root 6.0M Oct 25 19:30 /opt/nvidia/nsight-systems/2019.5.2/target-linux-x64/libcupti.so.10.1\n",
            "-rwxr-xr-x 1 root root 8.3M Oct 25 19:36 /opt/nvidia/nsight-systems/2019.5.2/target-linux-x64/nsys\n",
            "-rwxrwxr-x 1 500 500 34M Jun 12  2018 /tools/node/bin/node\n",
            "-rw-r--r-- 1 root root 25M Jan  1  1980 /tools/google-cloud-sdk/lib/third_party/grpc/_cython/cygrpc.so\n",
            "-rwxr-xr-x 1 root root 63M Feb 27 21:49 /tools/google-cloud-sdk/bin/anthoscli\n",
            "-rw-r--r-- 1 root root 35M Jan  1  1980 /tools/google-cloud-sdk/data/cli/gcloud.json\n",
            "-rw-r--r-- 1 root root 5.3M Nov 27  2017 /datalab/web/node_modules/typescript/lib/typescript.js\n",
            "-rw-r--r-- 1 root root 5.3M Nov 27  2017 /datalab/web/node_modules/typescript/lib/typescriptServices.js\n",
            "-rw-r--r-- 1 root root 5.7M Nov 27  2017 /datalab/web/node_modules/typescript/lib/tsserverlibrary.js\n",
            "-rw-r--r-- 1 root root 16M Mar  6 05:19 /swift/toolchain/usr/lib/swift/linux/libFoundation.so\n",
            "-rwxr-xr-x 1 root root 1.1G Mar  6 06:10 /swift/toolchain/usr/lib/swift/linux/libtensorflow.so.2.1.0\n",
            "-rwxr-xr-x 1 root root 27M Mar  6 05:19 /swift/toolchain/usr/lib/swift/linux/libicudataswift.so.65.1\n",
            "-rwxr-xr-x 1 root root 7.8M Mar  6 05:13 /swift/toolchain/usr/lib/swift/linux/libswiftCore.so\n",
            "-rw-r--r-- 1 root root 6.5M Mar  6 06:12 /swift/toolchain/usr/lib/swift/linux/x86_64/TensorFlow.swiftmodule\n",
            "-rw-r--r-- 1 root root 11M Mar  6 05:11 /swift/toolchain/usr/lib/swift/linux/x86_64/Swift.swiftmodule\n",
            "-rwxr-xr-x 1 root root 12M Mar  6 05:10 /swift/toolchain/usr/lib/swift/linux/lib_InternalSwiftSyntaxParser.so\n",
            "-rw-r--r-- 1 root root 12M Mar  6 06:12 /swift/toolchain/usr/lib/swift/linux/libswiftTensorFlow.so\n",
            "-rw-r--r-- 1 root root 9.2M Mar  6 04:41 /swift/toolchain/usr/lib/swift/FrameworkABIBaseline/Swift/ABI/macos.json\n",
            "-rw-r--r-- 1 root root 6.1M Mar  6 04:41 /swift/toolchain/usr/lib/swift/FrameworkABIBaseline/Swift/API/macos.json\n",
            "-rw-r--r-- 1 root root 155M Mar  6 05:16 /swift/toolchain/usr/lib/liblldb.so.7.0.0git\n",
            "-rw-r--r-- 1 root root 114M Mar  6 05:10 /swift/toolchain/usr/lib/libsourcekitdInProc.so\n",
            "-rw-r--r-- 1 root root 11M Mar  6 05:13 /swift/toolchain/usr/lib/swift_static/linux/libswiftCore.a\n",
            "-rwxr-xr-x 1 root root 27M Mar  6 05:19 /swift/toolchain/usr/lib/swift_static/linux/libicudataswift.a\n",
            "-rwxr-xr-x 1 root root 6.7M Mar  6 05:19 /swift/toolchain/usr/lib/swift_static/linux/libicui18nswift.a\n",
            "-rwxr-xr-x 1 root root 137M Mar  6 05:10 /swift/toolchain/usr/bin/swift\n",
            "-rwxr-xr-x 1 root root 35M Mar  6 05:22 /swift/toolchain/usr/bin/swift-run\n",
            "-rwxr-xr-x 1 root root 35M Mar  6 05:22 /swift/toolchain/usr/bin/swift-test\n",
            "-rwxr-xr-x 1 root root 134M Mar  6 05:10 /swift/toolchain/usr/bin/swift-api-digester\n",
            "-rwxr-xr-x 1 root root 5.7M Mar  6 05:04 /swift/toolchain/usr/bin/llvm-cov\n",
            "-rwxr-xr-x 1 root root 42M Mar  6 05:04 /swift/toolchain/usr/bin/clangd\n",
            "-rwxr-xr-x 1 root root 63M Mar  6 06:14 /swift/toolchain/usr/bin/sourcekit-lsp\n",
            "-rwxr-xr-x 1 root root 35M Mar  6 05:22 /swift/toolchain/usr/bin/swift-package\n",
            "-rwxr-xr-x 1 root root 35M Mar  6 05:22 /swift/toolchain/usr/bin/swift-build\n",
            "-rwxr-xr-x 1 root root 113M Mar  6 05:01 /swift/toolchain/usr/bin/clang-7\n",
            "-rwxr-xr-x 1 root root 95M Mar  6 05:16 /swift/toolchain/usr/bin/lldb-server\n",
            "-rw-r--r-- 1 root root 5.8M Apr 20 16:37 /tensorflow-1.15.2/python3.6/pretty_midi/TimGM6mb.sf2\n",
            "-rwxr-xr-x 1 root root 16M Apr 20 16:35 /tensorflow-1.15.2/python3.6/tensorflow_core/contrib/bigtable/python/ops/_bigtable.so\n",
            "-rwxr-xr-x 1 root root 18M Apr 20 16:35 /tensorflow-1.15.2/python3.6/tensorflow_core/contrib/fused_conv/python/ops/_fused_conv2d_bias_activation_op.so\n",
            "-rwxr-xr-x 1 root root 9.9M Apr 20 16:35 /tensorflow-1.15.2/python3.6/tensorflow_core/contrib/kinesis/_dataset_ops.so\n",
            "-rwxr-xr-x 1 root root 35M Apr 20 16:35 /tensorflow-1.15.2/python3.6/tensorflow_core/libtensorflow_framework.so.1\n",
            "-rwxr-xr-x 1 root root 808M Apr 20 16:36 /tensorflow-1.15.2/python3.6/tensorflow_core/python/_pywrap_tensorflow_internal.so\n",
            "-rwxr-xr-x 1 root root 6.8M Apr 20 16:37 /tensorflow-1.15.2/python3.6/mpi4py/MPI.cpython-36m-x86_64-linux-gnu.so\n",
            "-rwxr-xr-x 1 root root 16M Apr 20 16:37 /tensorflow-1.15.2/python2.7/tensorflow_core/contrib/bigtable/python/ops/_bigtable.so\n",
            "-rwxr-xr-x 1 root root 18M Apr 20 16:37 /tensorflow-1.15.2/python2.7/tensorflow_core/contrib/fused_conv/python/ops/_fused_conv2d_bias_activation_op.so\n",
            "-rwxr-xr-x 1 root root 9.9M Apr 20 16:37 /tensorflow-1.15.2/python2.7/tensorflow_core/contrib/kinesis/_dataset_ops.so\n",
            "-rwxr-xr-x 1 root root 35M Apr 20 16:37 /tensorflow-1.15.2/python2.7/tensorflow_core/libtensorflow_framework.so.1\n",
            "-rwxr-xr-x 1 root root 808M Apr 20 16:37 /tensorflow-1.15.2/python2.7/tensorflow_core/python/_pywrap_tensorflow_internal.so\n",
            "-rw-r--r-- 1 root root 18M Apr  3 16:24 /content/sample_data/mnist_test.csv\n",
            "-rw-r--r-- 1 root root 35M Apr  3 16:24 /content/sample_data/mnist_train_small.csv\n"
          ],
          "name": "stdout"
        }
      ]
    },
    {
      "cell_type": "code",
      "metadata": {
        "id": "d4XJzRZ2k2dd",
        "colab_type": "code",
        "colab": {}
      },
      "source": [
        "!rm -rf /mnt/checkpoints"
      ],
      "execution_count": 0,
      "outputs": []
    },
    {
      "cell_type": "code",
      "metadata": {
        "id": "QhBaPL0Fd7Qf",
        "colab_type": "code",
        "colab": {
          "base_uri": "https://localhost:8080/",
          "height": 52
        },
        "outputId": "96307e64-3fa8-4fb6-af2d-b5e246365c73"
      },
      "source": [
        "!find /mnt -type f -size +5M -exec ls -lh {} \\;"
      ],
      "execution_count": 38,
      "outputs": [
        {
          "output_type": "stream",
          "text": [
            "-rw-r--r-- 1 root root 9.9M Apr 22 13:46 /mnt/extracted/data/M-AILABS/it_IT/it_IT_train.csv\n",
            "-rw-r--r-- 1 501 dialout 13M Dec 10 13:42 /mnt/extracted/data/cv-it/validated.tsv\n"
          ],
          "name": "stdout"
        }
      ]
    },
    {
      "cell_type": "code",
      "metadata": {
        "id": "vLAasSC_xkaZ",
        "colab_type": "code",
        "colab": {}
      },
      "source": [
        ""
      ],
      "execution_count": 0,
      "outputs": []
    }
  ]
}