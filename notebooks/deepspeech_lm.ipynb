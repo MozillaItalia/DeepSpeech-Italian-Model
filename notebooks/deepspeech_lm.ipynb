{
 "cells": [
  {
   "cell_type": "markdown",
   "metadata": {
    "colab_type": "text",
    "id": "HXld1lBFASOQ"
   },
   "source": [
    "<H1> Language model</H1>"
   ]
  },
  {
   "cell_type": "code",
   "execution_count": 1,
   "metadata": {
    "colab": {
     "base_uri": "https://localhost:8080/",
     "height": 34
    },
    "colab_type": "code",
    "id": "DKHFpgPeTKhe",
    "outputId": "b2e47310-9802-497c-f9d3-bcc20db1e7fb"
   },
   "outputs": [
    {
     "name": "stdout",
     "output_type": "stream",
     "text": [
      "/root\n"
     ]
    }
   ],
   "source": [
    "# /root will be the main dir\n",
    "H = %env HOME\n",
    "%cd $H"
   ]
  },
  {
   "cell_type": "code",
   "execution_count": 0,
   "metadata": {
    "colab": {},
    "colab_type": "code",
    "id": "mkbyLhqqSONM"
   },
   "outputs": [],
   "source": [
    "#kenlm dependencies\n",
    "!apt update && apt install -y --no-install-recommends \\\n",
    " build-essential cmake \\\n",
    " libboost-system-dev libboost-thread-dev libboost-program-options-dev libboost-test-dev \\\n",
    " libeigen3-dev zlib1g-dev libbz2-dev liblzma-dev\n",
    "#kenlm\n",
    "!git clone https://github.com/kpu/kenlm && \\\n",
    "\tcd kenlm && \\\n",
    "\tgit checkout 87e85e66c99ceff1fab2500a7c60c01da7315eec && \\\n",
    "\tmkdir -p build && \\\n",
    "\tcd build && \\\n",
    "\tcmake .. && \\\n",
    "\tmake -j 4\n"
   ]
  },
  {
   "cell_type": "code",
   "execution_count": 0,
   "metadata": {
    "colab": {},
    "colab_type": "code",
    "id": "KsFBffBkUUtk"
   },
   "outputs": [],
   "source": [
    "%cd $H\n",
    "!git clone https://github.com/mozilla/DeepSpeech.git\n",
    "# 0.8.0 release\n",
    "!(cd DeepSpeech && git checkout f56b07dab4542eecfb72e059079db6c2603cc0ee)\n",
    "!git clone https://github.com/MozillaItalia/DeepSpeech-Italian-Model.git"
   ]
  },
  {
   "cell_type": "code",
   "execution_count": 0,
   "metadata": {
    "colab": {},
    "colab_type": "code",
    "id": "2mD3AkqYVc8S"
   },
   "outputs": [],
   "source": [
    "# Run this cell if you need the mitads.txt file\n",
    "!apt install pixz\n",
    "# TODO tr upper to lower is useless?\n",
    "!curl -sSL https://github.com/MozillaItalia/DeepSpeech-Italian-Model/releases/download/Mitads-1.0.0-alpha/mitads-1.0.0-alpha.tar.xz --output mitads.tar.xz\n",
    "!pixz -d mitads.tar.xz mitads.tar\n",
    "!tar -xvf mitads.tar"
   ]
  },
  {
   "cell_type": "code",
   "execution_count": null,
   "metadata": {
    "colab": {
     "base_uri": "https://localhost:8080/",
     "height": 1000
    },
    "colab_type": "code",
    "id": "Q5CxTSCpUw7w",
    "outputId": "bcc2aab4-4fb5-4ca8-95a4-b40952838616"
   },
   "outputs": [],
   "source": [
    "%cd DeepSpeech/data/lm\n",
    "!set -xe\n",
    "!python generate_lm.py --input_txt \"$H/mitads.txt\" --output_dir \"$H\" \\\n",
    "  --top_k 500000 --kenlm_bins \"/root/kenlm/build/bin\" \\\n",
    "  --arpa_order 5 --max_arpa_memory \"75%\" --arpa_prune \"0|0|1\" \\\n",
    "  --binary_a_bits 255 --binary_q_bits 8 --binary_type trie"
   ]
  },
  {
   "cell_type": "code",
   "execution_count": 16,
   "metadata": {
    "colab": {
     "base_uri": "https://localhost:8080/",
     "height": 102
    },
    "colab_type": "code",
    "id": "_i6R19ir8Xlx",
    "outputId": "698fecd0-bfa8-43ad-8da4-c1515d259c56"
   },
   "outputs": [
    {
     "name": "stdout",
     "output_type": "stream",
     "text": [
      "/root/DeepSpeech/data/lm\n",
      "500000 unique words read from vocabulary file.\n",
      "Doesn't look like a character based model.\n",
      "Using detected UTF-8 mode: False\n",
      "Package created in /root/kenlm.scorer\n"
     ]
    }
   ],
   "source": [
    "%cd $H/DeepSpeech/data/lm\n",
    "!curl -LO \"https://github.com/mozilla/DeepSpeech/releases/download/v0.8.0/native_client.amd64.cpu.linux.tar.xz\"\n",
    "!tar xvf native_client.*.tar.xz\n",
    "!./generate_scorer_package --alphabet $H/DeepSpeech-Italian-Model/DeepSpeech/italian_alphabet.txt \\\n",
    "  --lm \"$H/lm.binary\" \\\n",
    "  --vocab \"$H/vocab-500000.txt\" \\\n",
    "  --package \"$H/kenlm.scorer\" \\\n",
    "  --default_alpha 0.931289039105002 \\\n",
    "  --default_beta 1.1834137581510284\n"
   ]
  }
 ],
 "metadata": {
  "colab": {
   "collapsed_sections": [],
   "name": "deepspeech_lm.ipynb",
   "provenance": []
  },
  "kernelspec": {
   "display_name": "Python 3",
   "language": "python",
   "name": "python3"
  },
  "language_info": {
   "codemirror_mode": {
    "name": "ipython",
    "version": 3
   },
   "file_extension": ".py",
   "mimetype": "text/x-python",
   "name": "python",
   "nbconvert_exporter": "python",
   "pygments_lexer": "ipython3",
   "version": "3.7.6"
  }
 },
 "nbformat": 4,
 "nbformat_minor": 1
}
